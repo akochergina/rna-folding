{
 "cells": [
  {
   "cell_type": "code",
   "execution_count": 1,
   "metadata": {},
   "outputs": [
    {
     "name": "stdout",
     "output_type": "stream",
     "text": [
      "c:\\Users\\manon\\OneDrive\\Bureau\\X\\EA\\rna-folding\n"
     ]
    }
   ],
   "source": [
    "import sys\n",
    "import os\n",
    "\n",
    "# Récupérer le chemin absolu du dossier parent\n",
    "parent_dir = os.path.abspath(os.path.join(os.getcwd(), \"..\"))\n",
    "\n",
    "# Ajouter ce chemin aux modules Python\n",
    "sys.path.append(parent_dir)\n",
    "print(parent_dir)"
   ]
  },
  {
   "cell_type": "markdown",
   "metadata": {},
   "source": [
    "### MODULE RNA SEQUENCE ###"
   ]
  },
  {
   "cell_type": "code",
   "execution_count": 2,
   "metadata": {},
   "outputs": [],
   "source": [
    "from modules.rna_sequence2 import *"
   ]
  },
  {
   "cell_type": "code",
   "execution_count": 3,
   "metadata": {},
   "outputs": [
    {
     "name": "stdout",
     "output_type": "stream",
     "text": [
      "0.5333333333333333\n",
      "ACGt--CGACUAGC- -cGuCGU-ACTCGCG\n",
      "[(2, 1), (3, 2), (4, 3), (5, 6), (7, 7), (8, 8), (9, 9), (10, 10), (11, 11), (12, 12)]\n",
      "ACGTCGACUAGC\n"
     ]
    }
   ],
   "source": [
    "##Test functions\n",
    "\n",
    "xp=\"ACGt--CGACUAGC-\"\n",
    "yp=\"-cGuCGU-ACTCGCG\"\n",
    "print(sequence_identity(xp,yp))\n",
    "print(xp,yp)\n",
    "print(edges_alignement(xp,yp))\n",
    "print(core_sequence(xp))"
   ]
  },
  {
   "cell_type": "markdown",
   "metadata": {},
   "source": [
    "### MODULE RNA STRUCTURE"
   ]
  },
  {
   "cell_type": "code",
   "execution_count": 4,
   "metadata": {},
   "outputs": [],
   "source": [
    "from modules.rna_structure2 import *"
   ]
  },
  {
   "cell_type": "code",
   "execution_count": 5,
   "metadata": {},
   "outputs": [
    {
     "name": "stdout",
     "output_type": "stream",
     "text": [
      ".((...))(...)\n"
     ]
    },
    {
     "data": {
      "text/plain": [
       "[(1, 7), (2, 6), (8, 12)]"
      ]
     },
     "execution_count": 5,
     "metadata": {},
     "output_type": "execute_result"
    }
   ],
   "source": [
    "base_pairs={(2,8),(3,7),(9,13)}\n",
    "print(dot_bracket_string(13, base_pairs))\n",
    "parse_RNA_structure(\".((...))(...)\")"
   ]
  },
  {
   "cell_type": "markdown",
   "metadata": {},
   "source": [
    "### MODULE MAP STRUCTURE SEQUENCE"
   ]
  },
  {
   "cell_type": "code",
   "execution_count": 6,
   "metadata": {},
   "outputs": [],
   "source": [
    "from modules.map_structure_sequence import *"
   ]
  },
  {
   "cell_type": "code",
   "execution_count": 7,
   "metadata": {},
   "outputs": [
    {
     "name": "stdout",
     "output_type": "stream",
     "text": [
      "['.', '(', '.', ')', '.']\n",
      "('GCCCUUAGUGAAUCCAGC', '((.(...)((...).)))')\n"
     ]
    },
    {
     "data": {
      "text/plain": [
       "'(-.)'"
      ]
     },
     "execution_count": 7,
     "metadata": {},
     "output_type": "execute_result"
    }
   ],
   "source": [
    "list_of_car=[\"(\",\"(\",\".\",\")\",\")\",\".\"]\n",
    "get_rid_brackets_cl(list_of_car, 4)\n",
    "print(list_of_car)\n",
    "\n",
    "alg_str=\"GCC-CUUAG-U-GAAUCCAGC\"\n",
    "dbs=\"((.((...))(((...)))))\"\n",
    "print(projection(alg_str,dbs))\n",
    "\n",
    "reverse_projection(\"C-AG\", \"(.)\")"
   ]
  },
  {
   "cell_type": "markdown",
   "metadata": {},
   "source": [
    "### Single RNA structure"
   ]
  },
  {
   "cell_type": "code",
   "execution_count": 8,
   "metadata": {},
   "outputs": [
    {
     "name": "stdout",
     "output_type": "stream",
     "text": [
      "[(13, 17), (12, 18), (19, 22), (11, 23), (10, 24), (35, 39), (34, 40), (33, 41), (32, 42), (31, 43), (30, 44), (29, 54), (59, 64), (65, 69), (58, 70), (57, 71), (56, 72), (55, 73), (28, 74), (27, 75), (25, 76), (6, 77), (5, 78), (4, 79), (3, 80), (2, 81), (1, 82), (0, 83)]\n"
     ]
    }
   ],
   "source": [
    "from modules.single_RNA_structure import *\n",
    "from modules.simplecount import *"
   ]
  },
  {
   "cell_type": "code",
   "execution_count": 9,
   "metadata": {},
   "outputs": [
    {
     "name": "stdout",
     "output_type": "stream",
     "text": [
      "[0, 1, 1, 1, 2, 2, 2, 3]\n",
      "[0, 0, 0, 0, 1, 1, 1, 2]\n",
      "[0, 0, 0, 0, 1, 1, 1, 2]\n",
      "[0, 0, 0, 0, 1, 1, 1, 2]\n",
      "[0, 0, 0, 0, 0, 0, 1, 1]\n",
      "[0, 0, 0, 0, 0, 0, 0, 1]\n",
      "[0, 0, 0, 0, 0, 0, 0, 1]\n",
      "[0, 0, 0, 0, 0, 0, 0, 0]\n",
      "[(0, 1), (4, 6), (3, 7)]\n"
     ]
    },
    {
     "data": {
      "text/plain": [
       "'(((...)))'"
      ]
     },
     "execution_count": 9,
     "metadata": {},
     "output_type": "execute_result"
    }
   ],
   "source": [
    "str_example=\"GCACGACG\"\n",
    "m=0\n",
    "nuss_example=nussinov_matrix(str_example, simple_count_cost,m)\n",
    "for lign in nuss_example:\n",
    "    print(lign)\n",
    "bp1=nussinov_TB(str_example, nuss_example, simple_count_cost, m)\n",
    "print(bp1)\n",
    "dot_bracket_string(len(str_example), bp1, 0)\n",
    "sequence_test=\"GGGAAAUCC\"\n",
    "pb2=RNA_consensus_structure(sequence_test, simple_count_cost, 0)\n",
    "dot_bracket_string(len(sequence_test),pb2,0)"
   ]
  },
  {
   "cell_type": "markdown",
   "metadata": {},
   "source": [
    "### MAXIMUM TOTAL ACCURACY"
   ]
  },
  {
   "cell_type": "code",
   "execution_count": 10,
   "metadata": {},
   "outputs": [],
   "source": [
    "from modules.MTA import *"
   ]
  },
  {
   "cell_type": "code",
   "execution_count": 11,
   "metadata": {},
   "outputs": [
    {
     "name": "stdout",
     "output_type": "stream",
     "text": [
      "-GCC-AAA-GGC (((...)))\n",
      "GGGC-AUU-GCC ((.(...)))\n",
      "-ACGGAAUCCGU ((((...))))\n"
     ]
    },
    {
     "data": {
      "text/plain": [
       "'.((((...))))'"
      ]
     },
     "execution_count": 11,
     "metadata": {},
     "output_type": "execute_result"
    }
   ],
   "source": [
    "MTA ([\"-GCC-AAA-GGC\",\"GGGC-AUU-GCC\", \"-ACGGAAUCCGU\"])"
   ]
  },
  {
   "cell_type": "markdown",
   "metadata": {},
   "source": [
    "### MAXIMUM EXPECTED ACCURACY"
   ]
  },
  {
   "cell_type": "code",
   "execution_count": 12,
   "metadata": {},
   "outputs": [],
   "source": [
    "from modules.MEA import *"
   ]
  },
  {
   "cell_type": "code",
   "execution_count": 13,
   "metadata": {},
   "outputs": [],
   "source": [
    "constante=1"
   ]
  },
  {
   "cell_type": "code",
   "execution_count": 14,
   "metadata": {},
   "outputs": [
    {
     "name": "stdout",
     "output_type": "stream",
     "text": [
      "['-GCC-AAA-GGC', 'GGGC-AUU-GCC', '-ACGGAAUCCGU']\n",
      "['.(((.....)))', '.(((.....)))', '.((((...))))']\n",
      "[[3.0, 5.950070371155748, 6.327220520276567, 6.501106119235844, 6.672640717728862, 8.725418609268491, 11.725415843141302, 14.725317818986976, 17.72523121684828, 19.77821530813653, 25.262840032983142, 30.740486861264294], [0, 2.950070371155748, 3.3272205202765672, 3.501106119235844, 3.6726407177288607, 5.72541860926849, 8.7254158431413, 11.725317818986975, 14.725231216848277, 16.77821530813653, 22.262840032983142, 27.740486861264294], [0, 0, 0.37715014912081934, 0.5510357480800958, 0.7225703465731128, 2.775348238112742, 5.775345471985553, 8.775247447831227, 11.775160845692529, 13.828144936980783, 19.312769661827396, 24.790416490108544], [0, 0, 0, 0.17388559895927647, 0.34542019745229346, 2.3981980889919225, 5.3981953228647335, 8.398097298710407, 11.39801069657171, 13.450994787859964, 18.935619512706577, 24.413266340987725], [0, 0, 0, 0, 0.171534598493017, 2.224312490032646, 5.224309723905457, 8.22421169975113, 11.224125097612433, 13.277109188900686, 18.7617339137473, 18.88661898216858], [0, 0, 0, 0, 0, 2.052777891539629, 5.05277512541244, 8.052677101258112, 11.052590499119415, 13.105574590407668, 13.276771694297206, 13.40165676271849], [0, 0, 0, 0, 0, 0, 2.999997233872811, 5.999899209718484, 8.999812607579786, 11.05279669886804, 11.223993802757578, 11.348878871178862], [0, 0, 0, 0, 0, 0, 0, 2.999901975845673, 5.999815373706975, 8.052799464995228, 8.223996568884766, 8.34888163730605], [0, 0, 0, 0, 0, 0, 0, 0, 2.999913397861301, 5.052897489149554, 5.2240945930390925, 5.348979661460376], [0, 0, 0, 0, 0, 0, 0, 0, 0, 2.0529840912882538, 2.224181195177792, 2.3490662635990756], [0, 0, 0, 0, 0, 0, 0, 0, 0, 0, 0.17119710388953824, 0.2960821723108217], [0, 0, 0, 0, 0, 0, 0, 0, 0, 0, 0, 0.12488506842128344]]\n"
     ]
    },
    {
     "data": {
      "text/plain": [
       "'...((.....))'"
      ]
     },
     "execution_count": 14,
     "metadata": {},
     "output_type": "execute_result"
    }
   ],
   "source": [
    "MEA ([\"-GCC-AAA-GGC\",\"GGGC-AUU-GCC\", \"-ACGGAAUCCGU\"], constante)"
   ]
  },
  {
   "cell_type": "markdown",
   "metadata": {},
   "source": [
    "### MEA with conservation score"
   ]
  },
  {
   "cell_type": "code",
   "execution_count": 15,
   "metadata": {},
   "outputs": [],
   "source": [
    "from modules.MEA_conservation import *"
   ]
  },
  {
   "cell_type": "code",
   "execution_count": 16,
   "metadata": {},
   "outputs": [
    {
     "name": "stdout",
     "output_type": "stream",
     "text": [
      "['-GCC-AAA-GGC', 'GGGC-AUU-GCC', '-ACGGAAUCCGU']\n",
      "['.(((.....)))', '.(((.....)))', '.((((...))))']\n",
      "[[3.0, 5.950070371155748, 6.327220520276567, 6.501106119235844, 6.672640717728862, 8.725418609268491, 11.725415843141302, 14.725317818986976, 17.72523121684828, 21.551345617888998, 25.174195468768183, 26.224500391692683], [0, 2.950070371155748, 3.3272205202765672, 3.501106119235844, 3.6726407177288607, 5.72541860926849, 8.7254158431413, 11.725317818986975, 14.725231216848277, 18.551345617888998, 22.174195468768183, 23.224500391692683], [0, 0, 0.37715014912081934, 0.5510357480800958, 0.7225703465731128, 2.775348238112742, 5.775345471985553, 8.775247447831227, 11.775160845692529, 15.601275246733252, 19.224125097612433, 19.790416490108544], [0, 0, 0, 0.17388559895927647, 0.34542019745229346, 2.3981980889919225, 5.3981953228647335, 8.398097298710407, 11.39801069657171, 15.224125097612433, 15.935619512706579, 19.413266340987725], [0, 0, 0, 0, 0.171534598493017, 2.224312490032646, 5.224309723905457, 8.22421169975113, 11.224125097612433, 13.277109188900686, 15.761733913747301, 15.886618982168585], [0, 0, 0, 0, 0, 2.052777891539629, 5.05277512541244, 8.052677101258112, 11.052590499119415, 13.105574590407668, 13.276771694297206, 13.40165676271849], [0, 0, 0, 0, 0, 0, 2.999997233872811, 5.999899209718484, 8.999812607579786, 11.05279669886804, 11.223993802757578, 11.348878871178862], [0, 0, 0, 0, 0, 0, 0, 2.999901975845673, 5.999815373706975, 8.052799464995228, 8.223996568884766, 8.34888163730605], [0, 0, 0, 0, 0, 0, 0, 0, 2.999913397861301, 5.052897489149554, 5.2240945930390925, 5.348979661460376], [0, 0, 0, 0, 0, 0, 0, 0, 0, 2.0529840912882538, 2.224181195177792, 2.3490662635990756], [0, 0, 0, 0, 0, 0, 0, 0, 0, 0, 0.17119710388953824, 0.2960821723108217], [0, 0, 0, 0, 0, 0, 0, 0, 0, 0, 0, 0.12488506842128344]]\n"
     ]
    },
    {
     "data": {
      "text/plain": [
       "'.(((.....)))'"
      ]
     },
     "execution_count": 16,
     "metadata": {},
     "output_type": "execute_result"
    }
   ],
   "source": [
    "MEA_conservation ([\"-GCC-AAA-GGC\",\"GGGC-AUU-GCC\", \"-ACGGAAUCCGU\"], 1, 1/2)"
   ]
  },
  {
   "cell_type": "markdown",
   "metadata": {},
   "source": [
    "### TESTS"
   ]
  },
  {
   "cell_type": "code",
   "execution_count": 17,
   "metadata": {},
   "outputs": [],
   "source": [
    "def consensus_structure(aligned_seq, algo, constante, gamma, print=True,m=2):\n",
    "    if algo==\"MEA\":\n",
    "        return MEA(aligned_seq, constante, m)\n",
    "    elif algo==\"MTA\":\n",
    "        return MTA(aligned_seq, m)\n",
    "    else :\n",
    "        return MEA_conservation(aligned_seq, constante, gamma, m)"
   ]
  },
  {
   "cell_type": "code",
   "execution_count": 18,
   "metadata": {},
   "outputs": [],
   "source": [
    "from tests.test_nussinov import *"
   ]
  },
  {
   "cell_type": "code",
   "execution_count": 19,
   "metadata": {},
   "outputs": [
    {
     "name": "stdout",
     "output_type": "stream",
     "text": [
      "✅ File 5S_rRNA.apsi-54.sci-95.no-1.ref.fa loaded with success (fasta)\n",
      "✅ File Intron_gpII.apsi-54.sci-66.no-1.ref.fa loaded with success (fasta)\n",
      "✅ File RF00100.stockholm.txt loaded with success (stockholm)\n",
      "✅ File RF00568.stockholm.txt loaded with success (stockholm)\n",
      "✅ File SRP_euk_arch.apsi-34.sci-67.no-1.ref.fa loaded with success (fasta)\n",
      "✅ File SRP_euk_arch.apsi-68.sci-83.no-1.ref.fa loaded with success (fasta)\n",
      "✅ File tRNA_15.stk loaded with success (stockholm)\n",
      "✅ File tRNA_5.aln loaded with success (clustal)\n",
      "✅ File tRNA_7-clustalw.aln loaded with success (clustal)\n",
      "✅ File tRNA_7.stk loaded with success (stockholm)\n"
     ]
    }
   ],
   "source": [
    "test_sequences=import_test_files()"
   ]
  },
  {
   "cell_type": "code",
   "execution_count": 20,
   "metadata": {},
   "outputs": [
    {
     "name": "stdout",
     "output_type": "stream",
     "text": [
      "['---------------cg-uccccuguaaccggaaaccgccgauaugccggggccg--aagcccgaggg--gcgguu-----cccg----------------------------------aagccgccuccggaagccagggccgaacgau---gaguccu-cg-ucccgcggggugc--ccg--guggggg--aggcacggcugaagggccgugcuaa--cccccuu----ua---ggccccaaaccccgcaaggcccgga--agggagcagcggu-aggggccacgga-gcacg-cucgcgggggug-cg-gggaug--agguaggcccuggug-aa-aggaggcggugg----aggg-------uuccca--cccucgggcg', 'guc-gagcuaaguaacgagagcuugugacccg----ag--------uggggacaa--uaaggugguggaacag--ug--guucaau--------------------------------uccucg-gguc----ggaccugaugcugacauauaucugagc-ugcccaguccaagcug-ugagu--aaucugugugggucaggcgaaggcuugacucagg-cggauu--cu-aaagucggaggguaaugcgugaggcugguuucacagagcagcgacuacuucccucuua-cagca-guggau-ggaucaua-guucgaag-ucuc--ucagauccacu-auggcc-cgcuggu--ucgauc---ucuc-cuggaccaccacuuu', 'gcc--gggggcucgccc-ucccccgagccccgaaaugggcguaaugcgggggccaguaacccgcacgu---cggcc----guagu----------------------------------gguccagggcag--acccggccg-acccau-----gacccc-cg-ucccgcggggcc--ggcg--g-cgcgg-agcc-cccuccggagggagggaggcu-accgcccu----ua---ccgggggaaccaggccaggcccgga--agggagcaaccua-accccggacgcc-cggcg-uucgcggggcca-c--ggggug--aggcaacggccgggc-ccccugcccugggcc----ccuac------ggcug---gcgugcgggg', 'gccaggguag--ca----auaccugugucua--------------uauguggc----auaaacaaugu--agguu--gugauagaua------------------------------ggauaugaga-guuu-gaugagacaguuugcu----aagagugug-cccgcuccaaacaa-ugagu--ugcuauggugguaaccuaguaauaggacuccacc-agggca--uuaaaga-gcuaaggaaacgccucaggcuggca--acagaacagggaaaacuugccgcuug-uugug-guggaa-ggaua-acauacuc--a-uuaacugucaa-------acuaau-c--guucua-cuauca----aagcca-gacauu-----', '-------cuu---agc-------uguaa--------ug------------gcauu--uugucggagu--gguaaauc---gucuucuuguugugcguucgagucuugggcucugcac----------------------uuggcca--------uuugguuguccuuuccgaauucugcgguugaugggcgucucg-gucugaguaaucggcuuugaga-uuuccgu-ucuaaga-uuaacugggaaacuucaguggagca--auccagcagagauccaguugc---cguggguauggcggugggauc-gcaaccaag----uggu-auauguuau-----------------ggaagau------auuuacg--aucacgauu', 'acc-gagcgucguggcgggcgcuugugaguc-----agcuuc---uugacggu-----agauaaguguggauggagugagaggagga------------------------------guccuguguaug-----ucguug-ucuacguc----gaccgagcg-uccgugccaagcgc-uacgu--caccaggggauaacugucggaaggcgguuagucc-cgggug--cauaagg-agucguggau-gguucaggaccgaa--agguagcagacaaaagcgaccgcgug-gugca-guggcc-ggacc-gcgcuugu--ga-guuga--caca--------cauacgcag----ccuucucgauaccuucag-accacuuauca', 'gcc-gggcgcuguggcgugugccuguaaucc-----agcuac---uuggaggc-----uugggcugucggaucgcuugaguccauga------------------------------guucugggcug------cacuga-gcuauguc----gaucgggug-uccgcacuaaguuc-gguau--caauaugguuuuccugggggagccucggaucacc-agguug-cucuaagg-aggggugaaccggccuaggucggaa--acggagcaggucaaaacccccgugcc-gauca-guagug-ggauc-gcgccugu--ga-auagc--cggug--------cagaacag----ccugaacaacacagcgag-acacaguucu-']\n"
     ]
    }
   ],
   "source": [
    "print(test_sequences[\"SRP_euk_arch.apsi-34.sci-67.no-1.ref.fa\"])"
   ]
  },
  {
   "cell_type": "code",
   "execution_count": 28,
   "metadata": {},
   "outputs": [
    {
     "name": "stdout",
     "output_type": "stream",
     "text": [
      "GCGGGGGUGCCCGAGCCUGGCCAAAGGGGUCGGGCUCAGGACCCGAUGGCGUAGGCCUGCGUGGGUUCAAAUCCCACCCCCCGCA (.((((((((((((.(((...(...))))))))))(...)))))(.((((((((..))))))(((((..))))))))))).....\n",
      "GCAGUCGUGGCCGAG--UGGUUAA-GGCGUCUGACUCGAAAUCAGAUUCCCUCUGGGAGCGUAGGUUCGAAUCCUACCGGCUGCG (...)((((((((.(((((...)(((((.(...)))((((((...)((((...))).)).))))))...)))))))))))))\n",
      "UGGAGUAUAGCCAAG--UGGUAAG--GCAUCGGUUUUUGGUACCG---------GCAUGCAAAGGUUCGAAUCCUUUUACUCCAG (((((((.(...(((.((......(((...((((...)...((..))))))))))(...))))))))))).)\n",
      "CGGAAAGUAGCUUAGCUUGGUAGA--GCACUCGGUUUGGGACCGA---------GGGGUCGCAGGUUCGAAUCCUGUCUUUCCGA (((((((((...))((((...))(((.(((((((...))))))))((((....)(...))))))))))))))).\n",
      "GCCGGGGUGGGGUAG--UGGCCAU-CCUGGGGGACUGUGGAUCCC----------CUGACCCGGGUUCAAUUCCCGGUCCCGGCC (.(((((((((((.(...).))))))(((((...)(...))))...)))((((...)))))))(((..))))\n",
      "-----GUAAACAUAGUUUAAUCAA-AACAUUAGAUUGUGAAUCUA----------ACAAUAGAGGCUCGAAACCUCUUGCUUACC (...(..)(((((.....))))((...)))(((...)...(....)((((...(((..).)))))))))\n",
      "-------------AGUAAAGUCAGCUAAAAAAGCUUUUGGGCCCAUACCCC---AAACAUGUUGGUUAAACCCCUUCCUUUACUA (((((((...(....((((...)))(((....((((..((.(..))))))...).)))).)))))))).\n",
      "(.(((((.(...).(((........)..(((.................((..........)).))(...)....))))))))..)\n"
     ]
    }
   ],
   "source": [
    "algo=\"MTA\"\n",
    "#algo=\"MEA\"\n",
    "#algo=\"MEA_comp\"\n",
    "\n",
    "constante=12\n",
    "gamma=1/2\n",
    "m=2\n",
    "\n",
    "aligned_seq = test_sequences[\"tRNA_7-clustalw.aln\"]\n",
    "#print(aligned_seq)\n",
    "ss=consensus_structure(aligned_seq, algo, constante, gamma)\n",
    "print(ss)"
   ]
  },
  {
   "cell_type": "markdown",
   "metadata": {},
   "source": [
    "### VISUALISATION"
   ]
  },
  {
   "cell_type": "code",
   "execution_count": 29,
   "metadata": {},
   "outputs": [
    {
     "data": {
      "image/svg+xml": [
       "<svg xmlns=\"http://www.w3.org/2000/svg\" height=\"452\" width=\"452\">\n",
       "  <script type=\"text/ecmascript\">\n",
       "    <![CDATA[\n",
       "      var shown = 1;\n",
       "      function click() {\n",
       "        var seq = document.getElementById(\"seq\");\n",
       "        if (shown==1) {\n",
       "          seq.setAttribute(\"style\", \"visibility: hidden\");\n",
       "          shown = 0;\n",
       "        } else {\n",
       "          seq.setAttribute(\"style\", \"visibility: visible\");\n",
       "          shown = 1;\n",
       "        }\n",
       "      }\n",
       "    ]]>\n",
       "  </script>\n",
       "  <style type=\"text/css\">\n",
       "    <![CDATA[\n",
       "      .nucleotide {\n",
       "        font-family: SansSerif;\n",
       "      }\n",
       "      .backbone {\n",
       "        stroke: grey;\n",
       "        fill:   none;\n",
       "        stroke-width: 1.5;\n",
       "      }\n",
       "      .basepairs {\n",
       "        stroke: red;\n",
       "        fill:   none;\n",
       "        stroke-width: 2.5;\n",
       "      }\n",
       "    ]]>\n",
       "  </style>\n",
       "\n",
       "  <rect style=\"stroke: white; fill: white\" height=\"452\" x=\"0\" y=\"0\" width=\"452\" onclick=\"click(evt)\"/>\n",
       "  <g transform=\"scale(1.585965,1.585965) translate(18.500000,75.500000)\">\n",
       "    <polyline class=\"backbone\" id=\"outline\" points=\"       95.703,-68.099       86.085,-53.543       95.112,-37.620       94.565,-22.630       94.017,-7.640       93.469,7.350       92.921,22.340       85.966,25.147       65.101,33.567       57.895,18.220       41.154,20.897       39.091,37.725       54.690,44.365       76.753,49.032       94.638,41.087       97.899,55.728       88.516,67.431       79.505,54.799       64.779,49.908       50.001,54.639       40.853,67.172       40.853,82.689       50.001,95.223       64.779,99.954       79.505,95.063       88.516,82.431       96.354,82.533       102.793,79.882       107.035,75.216       122.699,105.881       127.542,120.078       114.721,112.290       100.095,108.962       85.168,110.434       71.474,116.556       60.422,126.697       53.148,139.816       50.401,154.562       52.463,169.420       59.122,182.861       69.693,193.503       83.089,200.251       97.933,202.412       112.697,199.764       125.864,192.578       136.079,181.594       142.292,167.941       143.864,153.024       140.634,138.377       152.506,147.544       150.375,162.755       156.150,176.986       168.277,186.411       183.494,188.494       197.708,182.675       207.095,170.518       209.130,155.295       203.266,141.099       191.080,131.751       175.851,129.763       161.674,135.672       149.801,126.504       147.657,119.977       141.738,115.234       136.895,101.038       143.996,87.825       160.850,89.669       167.287,73.984       153.997,63.457       140.202,73.313       149.449,61.502       145.175,47.123       130.978,42.280       118.808,51.048       118.907,66.048       112.541,52.466       109.279,37.825       107.911,22.888       108.459,7.898       109.007,-7.092       109.555,-22.082       110.102,-37.072       119.084,-46.543       119.103,-59.191       110.703,-68.099     \"/>\n",
       "    <g id=\"pairs\">\n",
       "      <line class=\"basepairs\" id=\"1,85\" x1=\"95.70262\" y1=\"-68.09947\" x2=\"110.70262\" y2=\"-68.09947\"/>\n",
       "      <line class=\"basepairs\" id=\"3,82\" x1=\"95.11245\" y1=\"-37.62010\" x2=\"110.10244\" y2=\"-37.07227\"/>\n",
       "      <line class=\"basepairs\" id=\"4,81\" x1=\"94.56462\" y1=\"-22.63011\" x2=\"109.55461\" y2=\"-22.08228\"/>\n",
       "      <line class=\"basepairs\" id=\"5,80\" x1=\"94.01679\" y1=\"-7.64011\" x2=\"109.00678\" y2=\"-7.09229\"/>\n",
       "      <line class=\"basepairs\" id=\"6,79\" x1=\"93.46896\" y1=\"7.34988\" x2=\"108.45895\" y2=\"7.89771\"/>\n",
       "      <line class=\"basepairs\" id=\"7,78\" x1=\"92.92113\" y1=\"22.33987\" x2=\"107.91113\" y2=\"22.88770\"/>\n",
       "      <line class=\"basepairs\" id=\"9,13\" x1=\"65.10105\" y1=\"33.56678\" x2=\"54.68994\" y2=\"44.36533\"/>\n",
       "      <line class=\"basepairs\" id=\"15,77\" x1=\"94.63796\" y1=\"41.08665\" x2=\"109.27910\" y2=\"37.82520\"/>\n",
       "      <line class=\"basepairs\" id=\"16,76\" x1=\"97.89941\" y1=\"55.72778\" x2=\"112.54055\" y2=\"52.46633\"/>\n",
       "      <line class=\"basepairs\" id=\"17,26\" x1=\"88.51649\" y1=\"67.43082\" x2=\"88.51649\" y2=\"82.43082\"/>\n",
       "      <line class=\"basepairs\" id=\"29,75\" x1=\"107.03496\" y1=\"75.21567\" x2=\"118.90740\" y2=\"66.04806\"/>\n",
       "      <line class=\"basepairs\" id=\"30,65\" x1=\"122.69856\" y1=\"105.88097\" x2=\"136.89516\" y2=\"101.03777\"/>\n",
       "      <line class=\"basepairs\" id=\"31,64\" x1=\"127.54177\" y1=\"120.07756\" x2=\"141.73837\" y2=\"115.23436\"/>\n",
       "      <line class=\"basepairs\" id=\"49,62\" x1=\"140.63359\" y1=\"138.37659\" x2=\"149.80121\" y2=\"126.50414\"/>\n",
       "      <line class=\"basepairs\" id=\"50,61\" x1=\"152.50604\" y1=\"147.54419\" x2=\"161.67365\" y2=\"135.67174\"/>\n",
       "      <line class=\"basepairs\" id=\"66,70\" x1=\"143.99629\" y1=\"87.82512\" x2=\"140.20230\" y2=\"73.31287\"/>\n",
       "    </g>\n",
       "    <g transform=\"translate(-4.6, 4)\" id=\"seq\">\n",
       "      <text class=\"nucleotide\" x=\"95.703\" y=\"-68.099\">.</text>\n",
       "      <text class=\"nucleotide\" x=\"86.085\" y=\"-53.543\">.</text>\n",
       "      <text class=\"nucleotide\" x=\"95.112\" y=\"-37.620\">.</text>\n",
       "      <text class=\"nucleotide\" x=\"94.565\" y=\"-22.630\">.</text>\n",
       "      <text class=\"nucleotide\" x=\"94.017\" y=\"-7.640\">.</text>\n",
       "      <text class=\"nucleotide\" x=\"93.469\" y=\"7.350\">.</text>\n",
       "      <text class=\"nucleotide\" x=\"92.921\" y=\"22.340\">.</text>\n",
       "      <text class=\"nucleotide\" x=\"85.966\" y=\"25.147\">.</text>\n",
       "      <text class=\"nucleotide\" x=\"65.101\" y=\"33.567\">.</text>\n",
       "      <text class=\"nucleotide\" x=\"57.895\" y=\"18.220\">.</text>\n",
       "      <text class=\"nucleotide\" x=\"41.154\" y=\"20.897\">.</text>\n",
       "      <text class=\"nucleotide\" x=\"39.091\" y=\"37.725\">.</text>\n",
       "      <text class=\"nucleotide\" x=\"54.690\" y=\"44.365\">.</text>\n",
       "      <text class=\"nucleotide\" x=\"76.753\" y=\"49.032\">.</text>\n",
       "      <text class=\"nucleotide\" x=\"94.638\" y=\"41.087\">.</text>\n",
       "      <text class=\"nucleotide\" x=\"97.899\" y=\"55.728\">.</text>\n",
       "      <text class=\"nucleotide\" x=\"88.516\" y=\"67.431\">.</text>\n",
       "      <text class=\"nucleotide\" x=\"79.505\" y=\"54.799\">.</text>\n",
       "      <text class=\"nucleotide\" x=\"64.779\" y=\"49.908\">.</text>\n",
       "      <text class=\"nucleotide\" x=\"50.001\" y=\"54.639\">.</text>\n",
       "      <text class=\"nucleotide\" x=\"40.853\" y=\"67.172\">.</text>\n",
       "      <text class=\"nucleotide\" x=\"40.853\" y=\"82.689\">.</text>\n",
       "      <text class=\"nucleotide\" x=\"50.001\" y=\"95.223\">.</text>\n",
       "      <text class=\"nucleotide\" x=\"64.779\" y=\"99.954\">.</text>\n",
       "      <text class=\"nucleotide\" x=\"79.505\" y=\"95.063\">.</text>\n",
       "      <text class=\"nucleotide\" x=\"88.516\" y=\"82.431\">.</text>\n",
       "      <text class=\"nucleotide\" x=\"96.354\" y=\"82.533\">.</text>\n",
       "      <text class=\"nucleotide\" x=\"102.793\" y=\"79.882\">.</text>\n",
       "      <text class=\"nucleotide\" x=\"107.035\" y=\"75.216\">.</text>\n",
       "      <text class=\"nucleotide\" x=\"122.699\" y=\"105.881\">.</text>\n",
       "      <text class=\"nucleotide\" x=\"127.542\" y=\"120.078\">.</text>\n",
       "      <text class=\"nucleotide\" x=\"114.721\" y=\"112.290\">.</text>\n",
       "      <text class=\"nucleotide\" x=\"100.095\" y=\"108.962\">.</text>\n",
       "      <text class=\"nucleotide\" x=\"85.168\" y=\"110.434\">.</text>\n",
       "      <text class=\"nucleotide\" x=\"71.474\" y=\"116.556\">.</text>\n",
       "      <text class=\"nucleotide\" x=\"60.422\" y=\"126.697\">.</text>\n",
       "      <text class=\"nucleotide\" x=\"53.148\" y=\"139.816\">.</text>\n",
       "      <text class=\"nucleotide\" x=\"50.401\" y=\"154.562\">.</text>\n",
       "      <text class=\"nucleotide\" x=\"52.463\" y=\"169.420\">.</text>\n",
       "      <text class=\"nucleotide\" x=\"59.122\" y=\"182.861\">.</text>\n",
       "      <text class=\"nucleotide\" x=\"69.693\" y=\"193.503\">.</text>\n",
       "      <text class=\"nucleotide\" x=\"83.089\" y=\"200.251\">.</text>\n",
       "      <text class=\"nucleotide\" x=\"97.933\" y=\"202.412\">.</text>\n",
       "      <text class=\"nucleotide\" x=\"112.697\" y=\"199.764\">.</text>\n",
       "      <text class=\"nucleotide\" x=\"125.864\" y=\"192.578\">.</text>\n",
       "      <text class=\"nucleotide\" x=\"136.079\" y=\"181.594\">.</text>\n",
       "      <text class=\"nucleotide\" x=\"142.292\" y=\"167.941\">.</text>\n",
       "      <text class=\"nucleotide\" x=\"143.864\" y=\"153.024\">.</text>\n",
       "      <text class=\"nucleotide\" x=\"140.634\" y=\"138.377\">.</text>\n",
       "      <text class=\"nucleotide\" x=\"152.506\" y=\"147.544\">.</text>\n",
       "      <text class=\"nucleotide\" x=\"150.375\" y=\"162.755\">.</text>\n",
       "      <text class=\"nucleotide\" x=\"156.150\" y=\"176.986\">.</text>\n",
       "      <text class=\"nucleotide\" x=\"168.277\" y=\"186.411\">.</text>\n",
       "      <text class=\"nucleotide\" x=\"183.494\" y=\"188.494\">.</text>\n",
       "      <text class=\"nucleotide\" x=\"197.708\" y=\"182.675\">.</text>\n",
       "      <text class=\"nucleotide\" x=\"207.095\" y=\"170.518\">.</text>\n",
       "      <text class=\"nucleotide\" x=\"209.130\" y=\"155.295\">.</text>\n",
       "      <text class=\"nucleotide\" x=\"203.266\" y=\"141.099\">.</text>\n",
       "      <text class=\"nucleotide\" x=\"191.080\" y=\"131.751\">.</text>\n",
       "      <text class=\"nucleotide\" x=\"175.851\" y=\"129.763\">.</text>\n",
       "      <text class=\"nucleotide\" x=\"161.674\" y=\"135.672\">.</text>\n",
       "      <text class=\"nucleotide\" x=\"149.801\" y=\"126.504\">.</text>\n",
       "      <text class=\"nucleotide\" x=\"147.657\" y=\"119.977\">.</text>\n",
       "      <text class=\"nucleotide\" x=\"141.738\" y=\"115.234\">.</text>\n",
       "      <text class=\"nucleotide\" x=\"136.895\" y=\"101.038\">.</text>\n",
       "      <text class=\"nucleotide\" x=\"143.996\" y=\"87.825\">.</text>\n",
       "      <text class=\"nucleotide\" x=\"160.850\" y=\"89.669\">.</text>\n",
       "      <text class=\"nucleotide\" x=\"167.287\" y=\"73.984\">.</text>\n",
       "      <text class=\"nucleotide\" x=\"153.997\" y=\"63.457\">.</text>\n",
       "      <text class=\"nucleotide\" x=\"140.202\" y=\"73.313\">.</text>\n",
       "      <text class=\"nucleotide\" x=\"149.449\" y=\"61.502\">.</text>\n",
       "      <text class=\"nucleotide\" x=\"145.175\" y=\"47.123\">.</text>\n",
       "      <text class=\"nucleotide\" x=\"130.978\" y=\"42.280\">.</text>\n",
       "      <text class=\"nucleotide\" x=\"118.808\" y=\"51.048\">.</text>\n",
       "      <text class=\"nucleotide\" x=\"118.907\" y=\"66.048\">.</text>\n",
       "      <text class=\"nucleotide\" x=\"112.541\" y=\"52.466\">.</text>\n",
       "      <text class=\"nucleotide\" x=\"109.279\" y=\"37.825\">.</text>\n",
       "      <text class=\"nucleotide\" x=\"107.911\" y=\"22.888\">.</text>\n",
       "      <text class=\"nucleotide\" x=\"108.459\" y=\"7.898\">.</text>\n",
       "      <text class=\"nucleotide\" x=\"109.007\" y=\"-7.092\">.</text>\n",
       "      <text class=\"nucleotide\" x=\"109.555\" y=\"-22.082\">.</text>\n",
       "      <text class=\"nucleotide\" x=\"110.102\" y=\"-37.072\">.</text>\n",
       "      <text class=\"nucleotide\" x=\"119.084\" y=\"-46.543\">.</text>\n",
       "      <text class=\"nucleotide\" x=\"119.103\" y=\"-59.191\">.</text>\n",
       "      <text class=\"nucleotide\" x=\"110.703\" y=\"-68.099\">.</text>\n",
       "    </g>\n",
       "  </g>\n",
       "<script type=\"text/ecmascript\">\n",
       "<![CDATA[\n",
       "  let sequence = \".....................................................................................\";\n",
       "  let structure = \"(.(((((.(...).(((........)..(((.................((..........)).))(...)....))))))))..)\";\n",
       "  const basepairs = [\n",
       "    { i: 1, j: 85, type: \"cWW\" },\n",
       "    { i: 3, j: 82, type: \"cWW\" },\n",
       "    { i: 4, j: 81, type: \"cWW\" },\n",
       "    { i: 5, j: 80, type: \"cWW\" },\n",
       "    { i: 6, j: 79, type: \"cWW\" },\n",
       "    { i: 7, j: 78, type: \"cWW\" },\n",
       "    { i: 9, j: 13, type: \"cWW\" },\n",
       "    { i: 15, j: 77, type: \"cWW\" },\n",
       "    { i: 16, j: 76, type: \"cWW\" },\n",
       "    { i: 17, j: 26, type: \"cWW\" },\n",
       "    { i: 29, j: 75, type: \"cWW\" },\n",
       "    { i: 30, j: 65, type: \"cWW\" },\n",
       "    { i: 31, j: 64, type: \"cWW\" },\n",
       "    { i: 49, j: 62, type: \"cWW\" },\n",
       "    { i: 50, j: 61, type: \"cWW\" },\n",
       "    { i: 66, j: 70, type: \"cWW\" }];\n",
       "  const coords = [\n",
       "    { x: 95.703, y: -68.099 },\n",
       "    { x: 86.085, y: -53.543 },\n",
       "    { x: 95.112, y: -37.620 },\n",
       "    { x: 94.565, y: -22.630 },\n",
       "    { x: 94.017, y: -7.640 },\n",
       "    { x: 93.469, y:  7.350 },\n",
       "    { x: 92.921, y: 22.340 },\n",
       "    { x: 85.966, y: 25.147 },\n",
       "    { x: 65.101, y: 33.567 },\n",
       "    { x: 57.895, y: 18.220 },\n",
       "    { x: 41.154, y: 20.897 },\n",
       "    { x: 39.091, y: 37.725 },\n",
       "    { x: 54.690, y: 44.365 },\n",
       "    { x: 76.753, y: 49.032 },\n",
       "    { x: 94.638, y: 41.087 },\n",
       "    { x: 97.899, y: 55.728 },\n",
       "    { x: 88.516, y: 67.431 },\n",
       "    { x: 79.505, y: 54.799 },\n",
       "    { x: 64.779, y: 49.908 },\n",
       "    { x: 50.001, y: 54.639 },\n",
       "    { x: 40.853, y: 67.172 },\n",
       "    { x: 40.853, y: 82.689 },\n",
       "    { x: 50.001, y: 95.223 },\n",
       "    { x: 64.779, y: 99.954 },\n",
       "    { x: 79.505, y: 95.063 },\n",
       "    { x: 88.516, y: 82.431 },\n",
       "    { x: 96.354, y: 82.533 },\n",
       "    { x: 102.793, y: 79.882 },\n",
       "    { x: 107.035, y: 75.216 },\n",
       "    { x: 122.699, y: 105.881 },\n",
       "    { x: 127.542, y: 120.078 },\n",
       "    { x: 114.721, y: 112.290 },\n",
       "    { x: 100.095, y: 108.962 },\n",
       "    { x: 85.168, y: 110.434 },\n",
       "    { x: 71.474, y: 116.556 },\n",
       "    { x: 60.422, y: 126.697 },\n",
       "    { x: 53.148, y: 139.816 },\n",
       "    { x: 50.401, y: 154.562 },\n",
       "    { x: 52.463, y: 169.420 },\n",
       "    { x: 59.122, y: 182.861 },\n",
       "    { x: 69.693, y: 193.503 },\n",
       "    { x: 83.089, y: 200.251 },\n",
       "    { x: 97.933, y: 202.412 },\n",
       "    { x: 112.697, y: 199.764 },\n",
       "    { x: 125.864, y: 192.578 },\n",
       "    { x: 136.079, y: 181.594 },\n",
       "    { x: 142.292, y: 167.941 },\n",
       "    { x: 143.864, y: 153.024 },\n",
       "    { x: 140.634, y: 138.377 },\n",
       "    { x: 152.506, y: 147.544 },\n",
       "    { x: 150.375, y: 162.755 },\n",
       "    { x: 156.150, y: 176.986 },\n",
       "    { x: 168.277, y: 186.411 },\n",
       "    { x: 183.494, y: 188.494 },\n",
       "    { x: 197.708, y: 182.675 },\n",
       "    { x: 207.095, y: 170.518 },\n",
       "    { x: 209.130, y: 155.295 },\n",
       "    { x: 203.266, y: 141.099 },\n",
       "    { x: 191.080, y: 131.751 },\n",
       "    { x: 175.851, y: 129.763 },\n",
       "    { x: 161.674, y: 135.672 },\n",
       "    { x: 149.801, y: 126.504 },\n",
       "    { x: 147.657, y: 119.977 },\n",
       "    { x: 141.738, y: 115.234 },\n",
       "    { x: 136.895, y: 101.038 },\n",
       "    { x: 143.996, y: 87.825 },\n",
       "    { x: 160.850, y: 89.669 },\n",
       "    { x: 167.287, y: 73.984 },\n",
       "    { x: 153.997, y: 63.457 },\n",
       "    { x: 140.202, y: 73.313 },\n",
       "    { x: 149.449, y: 61.502 },\n",
       "    { x: 145.175, y: 47.123 },\n",
       "    { x: 130.978, y: 42.280 },\n",
       "    { x: 118.808, y: 51.048 },\n",
       "    { x: 118.907, y: 66.048 },\n",
       "    { x: 112.541, y: 52.466 },\n",
       "    { x: 109.279, y: 37.825 },\n",
       "    { x: 107.911, y: 22.888 },\n",
       "    { x: 108.459, y:  7.898 },\n",
       "    { x: 109.007, y: -7.092 },\n",
       "    { x: 109.555, y: -22.082 },\n",
       "    { x: 110.102, y: -37.072 },\n",
       "    { x: 119.084, y: -46.543 },\n",
       "    { x: 119.103, y: -59.191 },\n",
       "    { x: 110.703, y: -68.099 }];\n",
       "]]>\n",
       "</script>\n",
       "</svg>"
      ],
      "text/plain": [
       "<IPython.core.display.SVG object>"
      ]
     },
     "execution_count": 29,
     "metadata": {},
     "output_type": "execute_result"
    }
   ],
   "source": [
    "import tempfile\n",
    "from IPython.display import SVG\n",
    "\n",
    "sequence=\"\".join([\".\" for i in range(len(ss))])\n",
    "\n",
    "fp = tempfile.NamedTemporaryFile(suffix=\".svg\", delete=False)\n",
    "RNA.svg_rna_plot(sequence, structure=ss, ssfile=fp.name)\n",
    "SVG(fp.name)"
   ]
  }
 ],
 "metadata": {
  "kernelspec": {
   "display_name": "vienna",
   "language": "python",
   "name": "python3"
  },
  "language_info": {
   "codemirror_mode": {
    "name": "ipython",
    "version": 3
   },
   "file_extension": ".py",
   "mimetype": "text/x-python",
   "name": "python",
   "nbconvert_exporter": "python",
   "pygments_lexer": "ipython3",
   "version": "3.9.19"
  }
 },
 "nbformat": 4,
 "nbformat_minor": 2
}
