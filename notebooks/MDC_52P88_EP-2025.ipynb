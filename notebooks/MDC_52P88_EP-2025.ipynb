{
 "cells": [
  {
   "cell_type": "markdown",
   "metadata": {
    "id": "a370sZeQdAMc"
   },
   "source": [
    "# Notebook for INF588 - 2024"
   ]
  },
  {
   "cell_type": "code",
   "execution_count": 4,
   "metadata": {},
   "outputs": [],
   "source": [
    "import warnings"
   ]
  },
  {
   "cell_type": "markdown",
   "metadata": {
    "id": "abBArbrWRzR8"
   },
   "source": [
    "## First class - Python warm up and the Vienna RNA package\n",
    "\n",
    "In the class INF588, you are going to work on two different Bioinformatics projects:   \n",
    "- Computing alignments of proteins using structural information  \n",
    "- Predicting the structure of RNAs from an RNA alignment\n",
    "\n",
    "Both projects require you to write Python code to implement the required algorithms and tools and then apply them to biological data.\n",
    "\n",
    "Thus, before jumping into these projects it makes sense to\n",
    "\n",
    "1. re-activate or strengthen your Python skills by solving some warm-up assignments, which mostly prepare code required in the projects;\n",
    "1. learn about simple use of Biopython to read/write bio-data. *Note*: find details online on-the-go, e.g. when you want to read sequences from fasta format and alignments in clustal or stockholm format;\n",
    "1. learn how to use the Vienna RNA package, which we need for the RNA-related project.\n"
   ]
  },
  {
   "cell_type": "markdown",
   "metadata": {
    "id": "21awqVPFIqf2"
   },
   "source": [
    "\n",
    "## About this document\n",
    "\n",
    "This Jupyter notebook serves several purposes:\n",
    "\n",
    "* It contains warm-up Python programming tasks for the first class.\n",
    "\n",
    "* It introduces the Vienna RNA package for use in the RNA folding project.\n",
    "\n",
    "* It shows how to install required software including Python, Biopython and the Vienna RNA package, locally or in Google Colab.\n",
    "\n",
    "* It provides examples for the use of the Vienna package from Python - providing a mini-tutorial tailored to our needs.\n",
    "\n",
    "* Finally, it provides a pointer to test data (and shows how to upload it on Colab, if you have to).\n",
    "\n",
    "For today, it is possible to work in this notebook on Colab, i.e. write and run your code in the browser. You could continue using Colab for the rest of this class, but it is likely more convenient to continue without Colab after install Python and the required packages locally.\n"
   ]
  },
  {
   "cell_type": "markdown",
   "metadata": {
    "id": "aqtE589yLexc"
   },
   "source": [
    "## Installation of Biopython and the Vienna RNA package\n",
    "\n",
    "We install the special Python modules Biopython and the Vienna RNA package using pip. On Google Colab, this requires no further preparation, but the\n",
    "installation has to be repeated once per session. If you work locally (as recommended), then the installation needs to be done only once. However, you need to install Python 3.x, pip, and VS Code or Jupyter(*) in advance. \n",
    "\n",
    "(*) We recommend VS Code to edit and run this Jupyter notebook (.ipynb file); or use Jupyter to do the same in your browser. \n",
    "\n",
    "Our two special Python modules can be installed by pip by running the next cell. In the same way, we can install additional packages as required, e.g. matplotlib and seaborn. Many standard packages are typically alread installed in Google Colab."
   ]
  },
  {
   "cell_type": "code",
   "execution_count": 1,
   "metadata": {},
   "outputs": [],
   "source": [
    "# !pip install viennarna biopython"
   ]
  },
  {
   "cell_type": "markdown",
   "metadata": {
    "id": "1TDTN6k4vpKE"
   },
   "source": [
    "## Python warm-up assignments\n",
    "\n"
   ]
  },
  {
   "cell_type": "markdown",
   "metadata": {
    "id": "msiHrdHHw2tf"
   },
   "source": [
    "### Assignment 1: Sequence identity of an alignment\n",
    "\n",
    "An RNA sequence is a string containing only the characters A, C, G, and U, which denote the four nucleotides Adenin, Cytosin, Guanin, and Uracil.\n",
    "\n",
    "An alignment of two RNA sequences x and y is typically represented by a pair of alignment strings x' and y' that additionally contain gap symbols $-$.\n",
    "\n",
    "The pair $x', y'$ represents an alignment of RNA sequences $x$ and $y$ iff\n",
    "1. removing gap symbols in $x'$ [$y'$] yields the sequences $x$ [$y$], resp.\n",
    "2. there is no $i$ such that $x_i=-$ and $y_i=-$.\n",
    "\n",
    "For example,\n",
    "```\n",
    "x' = ACGU--CGACUAGC-\n",
    "y' = -CGUCGU-ACUCGCG\n",
    "```\n",
    "represents an alignment of ```ACGUCGACUAGC``` and ```CGUCGUACUCGCG```.\n",
    "A column $(x'_i,y'_i)$ is called a match if $x'_i=y'_i$.\n",
    "\n",
    "1. Write a function that takes the two alignment strings and returns the percentage of match colunmns, i.e. the sequence identity of the alignment.\n",
    "\n",
    "1. In publicly available RNA sequence data, one will often find small letter symbols and even T instead of U. Extend the function such that it can converts small letters to capital ones and T to U. Write another function to perform this transformation and make the transformation optional in the sequence identity function, e.g. by adding another argument with default ```True```.\n",
    "\n",
    "1. Write a function that returns a list of the *edges* in an alignment. An edge is a pair of respective positions $i$ and $j$ in $x$ and $y$ that are in the same alignment column (regardless whether matched or mismatched). The alignment should be givn as a pair of alignment strings. Indexing sequence positions from 1 to the sequence length [*1-based indexing*], edges of our example alignment are (2,1), (3,2), (4,3), (5,6), ..., (12,12). For example, (5,6) is an *edge* of the alignment given by $x',y'$, because the `C` at position 5 of sequence $x$ is in the same column as the `G` at position 6 of $y$.\n",
    "\n",
    "1. Add meaningful doc strings to your functions. Generally, one should get into the habit of writing at least a brief description for every function / method / class. It is good practice, to describe arguments and return value (see function sequence_identity below). Using type hints, as in sequence_identity (even sporadically), can be a good idea as well.\n",
    "\n",
    "1. Write unit tests for your functions; design simple examples that include edge cases like gaps at the beginning and end of sequences, consecutive insertion and deletion, empty alignment, identical alignment strings, no identity..."
   ]
  },
  {
   "cell_type": "code",
   "execution_count": 18,
   "metadata": {},
   "outputs": [],
   "source": [
    "def preprocess_rna_seq(seq: str) -> str:\n",
    "    \"\"\"\n",
    "    Preprocess RNA sequence by uppercasing and converting T to U\n",
    "\n",
    "    Args:\n",
    "        seq: RNA sequence\n",
    "\n",
    "    Returns:\n",
    "        preprocessed RNA sequence    \n",
    "    \"\"\"\n",
    "    return seq.upper().replace('T', 'U')"
   ]
  },
  {
   "cell_type": "code",
   "execution_count": 19,
   "metadata": {},
   "outputs": [
    {
     "data": {
      "text/plain": [
       "'All tests passed'"
      ]
     },
     "execution_count": 19,
     "metadata": {},
     "output_type": "execute_result"
    }
   ],
   "source": [
    "def test_preprocess_rna_seq():\n",
    "    \"\"\"\n",
    "    Test function for preprocess_rna_seq\n",
    "\n",
    "    Returns:\n",
    "        String All tests passed if all tests are successful, otherwise raises an exception\n",
    "    \"\"\"\n",
    "    assert preprocess_rna_seq('ATGC') == 'AUGC', \"Error in test case 1: T to U\"\n",
    "    assert preprocess_rna_seq('atgc') == 'AUGC', \"Error in test case 2: lower case and T to U\"\n",
    "    assert preprocess_rna_seq('ATGCATGC') == 'AUGCAUGC', \"Error in test case 3: T to U\"\n",
    "    assert preprocess_rna_seq('ATGCTTGC') == 'AUGCUUGC', \"Error in test case 4: T to U\"\n",
    "    assert preprocess_rna_seq('ATGCTTGCATGC') == 'AUGCUUGCAUGC', \"Error in test case 5: T to U\"\n",
    "    assert preprocess_rna_seq('ATGCTTGCatgc') == 'AUGCUUGCAUGC', \"Error in test case 6: lower case and T to U\"\n",
    "    return \"All tests passed\"\n",
    "\n",
    "test_preprocess_rna_seq()"
   ]
  },
  {
   "cell_type": "code",
   "execution_count": 34,
   "metadata": {
    "id": "UPH4cH6dysyo"
   },
   "outputs": [],
   "source": [
    "def sequence_identity(xp:str, yp:str, need_preprocess:bool) -> str:\n",
    "    \"\"\"\n",
    "    Sequence identity of two aligned sequences\n",
    "\n",
    "    Args:\n",
    "      xp: alignment string of sequence x\n",
    "      yp: alignment string of sequence y\n",
    "      need_preprocess: whether to preprocess the sequences\n",
    "    \n",
    "    Returns:\n",
    "      Percentage of identical alignment columns\n",
    "    \"\"\"\n",
    "    assert len(xp) == len(yp), \"Sequences must have the same length\"\n",
    "    if need_preprocess:\n",
    "        xp = preprocess_rna_seq(xp)\n",
    "        yp = preprocess_rna_seq(yp)\n",
    "\n",
    "    xp_symbols = [x for x in xp]\n",
    "    yp_symbols = [y for y in yp]\n",
    "    return f\"{sum([1 for x, y in zip(xp_symbols, yp_symbols) if x == y]) / len(xp) * 100:.2f}%\""
   ]
  },
  {
   "cell_type": "code",
   "execution_count": 35,
   "metadata": {},
   "outputs": [
    {
     "data": {
      "text/plain": [
       "'All tests passed'"
      ]
     },
     "execution_count": 35,
     "metadata": {},
     "output_type": "execute_result"
    }
   ],
   "source": [
    "def test_sequence_identity():\n",
    "    \"\"\"\n",
    "    Test function for sequence_identity\n",
    "\n",
    "    Returns:\n",
    "        String All tests passed if all tests are successful, otherwise raises an exception\n",
    "    \"\"\"\n",
    "    assert sequence_identity(\"ACGT\", \"ACGT\", False) == \"100.00%\", f\"No preprocessing. Identical sequences test failed, percentage should be 100 and not {sequence_identity('ACGT', 'ACGT', False)}\"\n",
    "    assert sequence_identity(\"ACGT\", \"AC-A\", False) == \"50.00%\", f\"No preprocessing. Half identical sequences test failed, percentage should be 50 and not {sequence_identity('ACGT', 'ACGT', False)}\"\n",
    "    assert sequence_identity(\"ACGT\", \"----\", False) == \"0.00%\", f\"No preprocessing. No identical sequences test failed, percentage should be 0 and not {sequence_identity('ACGT', 'ACGT', False)}\"\n",
    "    assert sequence_identity(\"ACGT\", \"ACGU\", True) == \"100.00%\", f\"Preprocessing T to U. Identical sequences test failed, percentage should be 100 and not {sequence_identity('ACGT', 'ACGU', True)}\"\n",
    "    assert sequence_identity(\"ACGT\", \"AC-U\", True) == \"75.00%\", f\"Preprocessing T to U. 3/4 identical sequences test failed, percentage should be 75 and not {sequence_identity('ACGT', 'AC-U', True)}\"\n",
    "    assert sequence_identity(\"ACGT\", \"----\", True) == \"0.00%\", f\"Preprocessing T to U. No identical sequences test failed, percentage should be 0 and not {sequence_identity('ACGT', '----', True)}\"\n",
    "    assert sequence_identity(\"acgu\", \"ACGU\", True) == \"100.00%\", f\"Preprocessing lower case. Identical sequences test failed, percentage should be 100 and not {sequence_identity('acgu', 'ACGU', True)}\"\n",
    "\n",
    "    return \"All tests passed\"\n",
    "\n",
    "test_sequence_identity()"
   ]
  },
  {
   "cell_type": "code",
   "execution_count": 3,
   "metadata": {},
   "outputs": [],
   "source": [
    "def alignment_edges(xp, yp):\n",
    "    \"\"\"\n",
    "        Extract edges from alignment strings\n",
    "\n",
    "        Args:\n",
    "            xp: alignment string of sequence x\n",
    "            yp: alignment string of sequence y\n",
    "        \n",
    "        Returns:\n",
    "            List of edges in the alignment graph\n",
    "\n",
    "        Example:\n",
    "            alignment_edges(\"ACGT\", \"AC-T\") == [(1,1), (2, 2), (4, 3)]\n",
    "    \"\"\"\n",
    "    assert len(xp) == len(yp), \"Sequences must have the same length\"\n",
    "    edges = []\n",
    "    i, j = 0, 0\n",
    "    for k in range(len(xp)):\n",
    "        if xp[k] != '-' and yp[k] != '-':\n",
    "            i += 1\n",
    "            j += 1\n",
    "            edges.append((i, j))\n",
    "        elif xp[k] == '-':\n",
    "            j += 1\n",
    "        else:\n",
    "            i += 1\n",
    "    return edges"
   ]
  },
  {
   "cell_type": "code",
   "execution_count": 23,
   "metadata": {},
   "outputs": [
    {
     "data": {
      "text/plain": [
       "'All tests passed'"
      ]
     },
     "execution_count": 23,
     "metadata": {},
     "output_type": "execute_result"
    }
   ],
   "source": [
    "def test_alignment_edges():\n",
    "    \"\"\"\n",
    "    Test function for alignment_edges\n",
    "\n",
    "    Returns:\n",
    "        String All tests passed if all tests are successful, otherwise raises an exception\n",
    "    \"\"\"\n",
    "    assert alignment_edges(\"ACGT\", \"ACGT\") == [(1,1), (2, 2), (3, 3), (4, 4)], f\"Identical sequences test failed, edges should be [(1,1), (2, 2), (3, 3), (4, 4)] and not {alignment_edges('ACGT', 'ACGT')}\"\n",
    "    assert alignment_edges(\"ACGT\", \"AC-T\") == [(1,1), (2, 2), (4, 3)], f\"Half identical sequences test failed, edges should be [(1,1), (2, 2), (4, 3)] and not {alignment_edges('ACGT', 'AC-T')}\"\n",
    "    assert alignment_edges(\"ACGT\", \"----\") == [], f\"No identical sequences test failed, edges should be [] and not {alignment_edges('ACGT', '----')}\"\n",
    "    return \"All tests passed\"\n",
    "\n",
    "test_alignment_edges()"
   ]
  },
  {
   "cell_type": "markdown",
   "metadata": {
    "id": "-oxvRBjOxOkT"
   },
   "source": [
    "### Assignment 2: RNA structure dot-bracket representation\n",
    "\n",
    "\n",
    "An *RNA structure* for an RNA of sequence length $n$ is a set of *base pairs* $(i,j)$, $1 \\leq i < j \\leq n$. Typically, we restrict ourselves to structures that can be represented by *dot-bracket strings*. These strings contain only dots ```.``` and opening and closing brackets ```(``` and ```)```. They contain one symbol for each sequence position. The dot marks an unpaired position, while an opening bracket tells that the base is paired to the base of the corresponding closing bracket.\n",
    "\n",
    "For example, let the sequence and structure of an RNA described by\n",
    "```\n",
    "sequence = \"CGCUUAGCGAAUC\"\n",
    "dbstring = \".((...))(...)\"\n",
    "```\n",
    "Then, the dot-bracket string ```dbstring``` describes the structure (aka the set of base pairs) ```{(2,8),(3,7),(9,13)}```.\n",
    "\n",
    "A structure is *canonical* for a sequence $x$, if for all base pairs $(i,j)$ of the structure $(x_i,x_j)$ is one of the *canonical base pairs* (A,U),(C,G),(G,C),(G,U),(U,A), or (U,G).\n",
    "\n",
    "1. Write a function that takes a sequence length and a set or list of base pairs and returns the corresponding dot-bracket string.\n",
    "\n",
    "1. Write a function ```parse_RNA_structure``` that takes a dot-bracket string and returns the corresponding base pair set as a list. How should it handle invalid dot-bracket strings? Use exceptions (https://docs.python.org/3/tutorial/errors.html).\n",
    "\n",
    "1. Write a function ```is_canonical``` that checks whether a structure, given as dot-bracket string, is canonical for a sequence. (Write helper functions like ```is_canonical_basepair(x,y)```, where reasonable.)\n",
    "\n",
    "1. Based on your previous code, implement a Python class ```RnaMolecule``` that represents an RNA sequence and a corresponding structure. Objects of this class should be initialized with a sequence and optionally a structure, printing an object should show the sequence and dot bracket string, it should be possible to get the base pair list representation of an object... (https://docs.python.org/3/tutorial/classes.html)\n",
    "\n",
    "**Note:** pay attention that we use one-based positions to describe the base pairs, while strings in Python use zero-based indices. One and zero-based indexing is a recurring issue when working with RNAs and specifically the Vienna RNA package. Beware since this is a potential source of errors."
   ]
  },
  {
   "cell_type": "code",
   "execution_count": 2,
   "metadata": {},
   "outputs": [],
   "source": [
    "def edges_to_dot_bracket(edges, seq_len):\n",
    "    \"\"\"\n",
    "    Convert edges to dot bracket notation\n",
    "\n",
    "    Args:\n",
    "        edges: List of edges in the alignment graph\n",
    "        seq_len: Length of the sequence\n",
    "        \n",
    "    Returns:\n",
    "        Dot bracket notation of the alignment graph\n",
    "\n",
    "    Example:\n",
    "        edges_to_dot_bracket([(2, 8), (3, 7), (9, 13)], 13) -> '.((...))(...)'\n",
    "    \"\"\"\n",
    "    dot_bracket = ['.'] * seq_len\n",
    "    for i, j in edges:\n",
    "        assert i!=j, f\"Edges must be of the form (i, i) where i != j, i={i}, j={j}\"\n",
    "        assert i <= seq_len and j <= seq_len, f\"Edges must be within the sequence length, i={i}, j={j}, seq_len={seq_len}\"\n",
    "        assert i < j, f\"Edges must be of the form (i, j) where i < j, i={i}, j={j}\"\n",
    "        dot_bracket[i-1] = '('\n",
    "        dot_bracket[j-1] = ')'\n",
    "    return ''.join(dot_bracket)"
   ]
  },
  {
   "cell_type": "code",
   "execution_count": 50,
   "metadata": {},
   "outputs": [
    {
     "data": {
      "text/plain": [
       "'All tests passed'"
      ]
     },
     "execution_count": 50,
     "metadata": {},
     "output_type": "execute_result"
    }
   ],
   "source": [
    "def test_edges_to_dot_bracket():\n",
    "    \"\"\"\n",
    "    Test function for edges_to_dot_bracket\n",
    "\n",
    "    Returns:\n",
    "        String All tests passed if all tests are successful, otherwise raises an exception\n",
    "    \"\"\"\n",
    "    assert edges_to_dot_bracket([(2, 8), (3, 7), (9, 13)], 13) == '.((...))(...)', f\"Test case 1 failed, expected .((...))(...) but got {edges_to_dot_bracket([(2, 8), (3, 7), (9, 13)], 13)}\"\n",
    "    assert edges_to_dot_bracket([],6) == '......', f\"Test case 2 failed, expected ...... but got {edges_to_dot_bracket([],6)}\"\n",
    "    assert edges_to_dot_bracket([(1, 6)],6) == '(....)', f\"Test case 3 failed, expected (....) but got {edges_to_dot_bracket([(1, 6)],6)}\"\n",
    "    try:\n",
    "        edges_to_dot_bracket([(1, 1)],1)\n",
    "    except AssertionError:\n",
    "        pass\n",
    "    else:\n",
    "        raise AssertionError(f\"Test case 4 failed, expected an assertion error but got {edges_to_dot_bracket([(1, 1)],1)}\")\n",
    "    try:\n",
    "        edges_to_dot_bracket([(1, 2)],1)\n",
    "    except AssertionError:\n",
    "        pass\n",
    "    else:\n",
    "        raise AssertionError(f\"Test case 5 failed, expected an assertion error but got {edges_to_dot_bracket([(1, 2)],1)}\")\n",
    "    try:\n",
    "        edges_to_dot_bracket([(2, 1)],2)\n",
    "    except AssertionError:\n",
    "        pass\n",
    "    else:\n",
    "        raise AssertionError(f\"Test case 6 failed, expected an assertion error but got {edges_to_dot_bracket([(2, 1)],2)}\")\n",
    "\n",
    "    return \"All tests passed\"\n",
    "\n",
    "test_edges_to_dot_bracket()"
   ]
  },
  {
   "cell_type": "code",
   "execution_count": 64,
   "metadata": {},
   "outputs": [],
   "source": [
    "def parse_rna_structure(dot_bracket:str) -> list:\n",
    "    \"\"\"\n",
    "    Parse RNA structure from dot bracket notation\n",
    "\n",
    "    Args:\n",
    "        dot_bracket: Dot bracket notation of the RNA structure\n",
    "        \n",
    "    Returns:\n",
    "        List of base pairs\n",
    "\n",
    "    Example:\n",
    "        parse_rna_structure('.((...))(...)') -> [(2, 8), (3, 7), (9, 13)]\n",
    "    \"\"\"\n",
    "    stack = []\n",
    "    base_pairs = []\n",
    "    for i, c in enumerate(dot_bracket):\n",
    "        if c == '(':\n",
    "            stack.append(i+1)\n",
    "        elif c == ')':\n",
    "            assert len(stack) > 0, \"Unmatched brackets )\"\n",
    "            base_pairs.append((stack.pop(), i+1))\n",
    "    base_pairs = sorted(base_pairs, key=lambda x: x[0])\n",
    "    assert len(stack) == 0, \"Unmatched brackets (\"\n",
    "    return base_pairs"
   ]
  },
  {
   "cell_type": "code",
   "execution_count": 67,
   "metadata": {},
   "outputs": [
    {
     "data": {
      "text/plain": [
       "'All tests passed'"
      ]
     },
     "execution_count": 67,
     "metadata": {},
     "output_type": "execute_result"
    }
   ],
   "source": [
    "def test_parse_rna_structure():\n",
    "    \"\"\"\n",
    "    Test function for parse_rna_structure\n",
    "\n",
    "    Returns:\n",
    "        String All tests passed if all tests are successful, otherwise raises an exception\n",
    "    \"\"\"\n",
    "    assert parse_rna_structure('.((...))(...)') == [(2, 8), (3, 7), (9, 13)], f\"Test case 1 failed, expected [(2, 8), (3, 7), (9, 13)] but got {parse_rna_structure('.((...))(...)')}\"\n",
    "    assert parse_rna_structure('......') == [], f\"Test case 2 failed, expected [] but got {parse_rna_structure('......')}\"\n",
    "    assert parse_rna_structure('(....)') == [(1, 6)], f\"Test case 3 failed, expected [(1, 6)] but got {parse_rna_structure('(....)')}\"\n",
    "    try:\n",
    "        parse_rna_structure('..(..')\n",
    "    except AssertionError:\n",
    "        pass\n",
    "    else:\n",
    "        raise AssertionError(f\"Test case 4 failed, expected an assertion error but got {parse_rna_structure('..(..')}\")\n",
    "    try:\n",
    "        parse_rna_structure('..)..')\n",
    "    except AssertionError:\n",
    "        pass\n",
    "    else:\n",
    "        raise AssertionError(f\"Test case 5 failed, expected an assertion error but got {parse_rna_structure('..)..')}\")\n",
    "    \n",
    "    return \"All tests passed\"\n",
    "\n",
    "test_preprocess_rna_seq()"
   ]
  },
  {
   "cell_type": "code",
   "execution_count": 70,
   "metadata": {},
   "outputs": [],
   "source": [
    "def is_canonical_base_pair(x, y):\n",
    "    \"\"\"\n",
    "    Check if two bases form a canonical base pair: (A,U),(C,G),(G,C),(G,U),(U,A), or (U,G)\n",
    "\n",
    "    Args:\n",
    "        x: base 1\n",
    "        y: base 2\n",
    "        \n",
    "    Returns:\n",
    "        True if x, y form a canonical base pair, False otherwise\n",
    "    \"\"\"\n",
    "    assert x in ['A', 'C', 'G', 'U'], f\"Invalid base {x}\"\n",
    "    assert y in ['A', 'C', 'G', 'U'], f\"Invalid base {y}\"\n",
    "    return (x == 'A' and y == 'U') or (x == 'U' and y == 'A') or (x == 'G' and y == 'C') or (x == 'C' and y == 'G') or (x == 'G' and y == 'U') or (x == 'U' and y == 'G')"
   ]
  },
  {
   "cell_type": "code",
   "execution_count": 73,
   "metadata": {},
   "outputs": [
    {
     "data": {
      "text/plain": [
       "'All tests passed'"
      ]
     },
     "execution_count": 73,
     "metadata": {},
     "output_type": "execute_result"
    }
   ],
   "source": [
    "def test_is_canonical_base_pair():\n",
    "    \"\"\"\n",
    "    Test function for is_canonical_base_pair\n",
    "\n",
    "    Returns:\n",
    "        String All tests passed if all tests are successful, otherwise raises an exception\n",
    "    \"\"\"\n",
    "    assert is_canonical_base_pair('A', 'U') == True, f\"Test case 1 failed, expected True but got {is_canonical_base_pair('A', 'U')}\"\n",
    "    assert is_canonical_base_pair('U', 'A') == True, f\"Test case 2 failed, expected True but got {is_canonical_base_pair('U', 'A')}\"\n",
    "    assert is_canonical_base_pair('G', 'C') == True, f\"Test case 3 failed, expected True but got {is_canonical_base_pair('G', 'C')}\"\n",
    "    assert is_canonical_base_pair('C', 'G') == True, f\"Test case 4 failed, expected True but got {is_canonical_base_pair('C', 'G')}\"\n",
    "    assert is_canonical_base_pair('G', 'U') == True, f\"Test case 5 failed, expected True but got {is_canonical_base_pair('G', 'U')}\"\n",
    "    assert is_canonical_base_pair('U', 'G') == True, f\"Test case 6 failed, expected True but got {is_canonical_base_pair('U', 'G')}\"\n",
    "    assert is_canonical_base_pair('A', 'C') == False, f\"Test case 7 failed, expected False but got {is_canonical_base_pair('A', 'C')}\"\n",
    "    assert is_canonical_base_pair('C', 'A') == False, f\"Test case 8 failed, expected False but got {is_canonical_base_pair('C', 'A')}\"\n",
    "    assert is_canonical_base_pair('G', 'A') == False, f\"Test case 9 failed, expected False but got {is_canonical_base_pair('G', 'A')}\"\n",
    "    assert is_canonical_base_pair('A', 'G') == False, f\"Test case 10 failed, expected False but got {is_canonical_base_pair('A', 'G')}\"\n",
    "    assert is_canonical_base_pair('U', 'C') == False, f\"Test case 11 failed, expected False but got {is_canonical_base_pair('U', 'C')}\"\n",
    "    assert is_canonical_base_pair('C', 'U') == False, f\"Test case 12 failed, expected False but got {is_canonical_base_pair('C', 'U')}\"\n",
    "    assert is_canonical_base_pair('A', 'A') == False, f\"Test case 13 failed, expected False but got {is_canonical_base_pair('A', 'A')}\"\n",
    "    assert is_canonical_base_pair('C', 'C') == False, f\"Test case 14 failed, expected False but got {is_canonical_base_pair('C', 'C')}\"\n",
    "    assert is_canonical_base_pair('G', 'G') == False, f\"Test case 15 failed, expected False but got {is_canonical_base_pair('G', 'G')}\"\n",
    "    assert is_canonical_base_pair('U', 'U') == False, f\"Test case 16 failed, expected False but got {is_canonical_base_pair('U', 'U')}\"\n",
    "    try:\n",
    "        is_canonical_base_pair('P', 'T')\n",
    "    except AssertionError:\n",
    "        pass\n",
    "    else:\n",
    "        raise AssertionError(f\"Test case 17 failed, expected an assertion error but got {is_canonical_base_pair('A', 'T')}\")\n",
    "    return \"All tests passed\"\n",
    "\n",
    "test_is_canonical_base_pair()"
   ]
  },
  {
   "cell_type": "code",
   "execution_count": 100,
   "metadata": {},
   "outputs": [],
   "source": [
    "def is_canonical(dot_bracket:str, seq:str) -> bool:\n",
    "    \"\"\"\n",
    "    Check if the RNA structure is canonical\n",
    "\n",
    "    Args:\n",
    "        dot_bracket: Dot bracket notation of the RNA structure\n",
    "        seq: RNA sequence\n",
    "        \n",
    "    Returns:\n",
    "        True if the RNA structure is canonical, False otherwise\n",
    "    \"\"\"\n",
    "    base_pairs = parse_rna_structure(dot_bracket)\n",
    "    for i, j in base_pairs:\n",
    "        assert i < j, f\"Base pair ({i}, {j}) is invalid, i must be less than j\"\n",
    "        assert i > 0 and j > 0, f\"Base pair ({i}, {j}) is invalid, positions must be positive\"\n",
    "        assert i <= len(seq) and j <= len(seq), f\"Base pair ({i}, {j}) is invalid, sequence length is {len(seq)}\"\n",
    "        if not is_canonical_base_pair(seq[i-1], seq[j-1]):\n",
    "            return False\n",
    "                \n",
    "    return True"
   ]
  },
  {
   "cell_type": "code",
   "execution_count": 101,
   "metadata": {},
   "outputs": [
    {
     "data": {
      "text/plain": [
       "'All tests passed'"
      ]
     },
     "execution_count": 101,
     "metadata": {},
     "output_type": "execute_result"
    }
   ],
   "source": [
    "def test_is_canonical():\n",
    "    \"\"\"\n",
    "    Test function for is_canonical\n",
    "\n",
    "    Returns:\n",
    "        String All tests passed if all tests are successful, otherwise raises an exception\n",
    "    \"\"\"\n",
    "    assert is_canonical('......', 'ACGUAC') == True, f\"Test case 1 failed, expected True but got {is_canonical('......', 'ACGUAC')}\"\n",
    "    assert is_canonical('(....)', 'ACGUAC') == False, f\"Test case 2 failed, expected False but got {is_canonical('(....)', 'ACGUAC')}\"\n",
    "    assert is_canonical('(....)', 'ACGUAU') == True, f\"Test case 3 failed, expected True but got {is_canonical('(....)', 'ACGUAC')}\"\n",
    "    assert is_canonical('((....))', 'ACGGGUAC') == False, f\"Test case 4 failed, expected False but got {is_canonical('((....))', 'ACGGGUAC')}\"\n",
    "    assert is_canonical('((....))', 'ACGGGUGU') == True, f\"Test case 5 failed, expected True but got {is_canonical('((....))', 'ACGGGUGU')}\"\n",
    "    assert is_canonical('.((...))(...)', 'ACGUACCGACGGU') == True, f\"Test case 6 failed, expected True but got {is_canonical('.((...))(...)', 'ACGUACGGACGGU')}\"\n",
    "    assert is_canonical('.((...))(...)', 'ACGUACGUACGGC') == False, f\"Test case 7 failed, expected False but got {is_canonical('.((...))(...)', 'ACGUACGUACGGC')}\"\n",
    "    try:\n",
    "        is_canonical('.((...))(...)', 'ACGUACG')\n",
    "    except AssertionError:\n",
    "        pass\n",
    "    else:\n",
    "        raise AssertionError(f\"Test case 8 failed, expected an assertion error but got {is_canonical('.((...))(...)', 'ACGUACGUACGGCU')}\")\n",
    "   \n",
    "    return \"All tests passed\"\n",
    "\n",
    "test_is_canonical()"
   ]
  },
  {
   "cell_type": "code",
   "execution_count": 25,
   "metadata": {},
   "outputs": [],
   "source": [
    "class RNAMolecule:\n",
    "    \"\"\"\n",
    "    Represents an RNA sequence and its corresponding structure.\n",
    "    \n",
    "    Attributes:\n",
    "        seq (str): RNA sequence (e.g., \"AUGC\").\n",
    "        structure (str, optional): RNA structure in dot-bracket notation (e.g., \"..((..))..\").\n",
    "        \n",
    "    Methods:\n",
    "    \"\"\"\n",
    "    @staticmethod\n",
    "    def preprocess_rna_seq(seq: str) -> str:\n",
    "        \"\"\"\n",
    "        Preprocess RNA sequence by uppercasing and converting T to U\n",
    "\n",
    "        Args:\n",
    "            seq: RNA sequence\n",
    "\n",
    "        Returns:\n",
    "            preprocessed RNA sequence    \n",
    "        \"\"\"\n",
    "        return seq.upper().replace('T', 'U')\n",
    "\n",
    "    def __init__(self, seq, structure=None):\n",
    "        \"\"\"\n",
    "        Initializes an RNAMolecule object.\n",
    "        \n",
    "        Args:\n",
    "            seq (str): RNA sequence.\n",
    "            structure (str, optional): RNA structure in dot-bracket notation. Defaults to None.\n",
    "        \"\"\"\n",
    "        self.seq = self.preprocess_rna_seq(seq)\n",
    "        if structure is not None:\n",
    "            self.structure = structure\n",
    "        else:\n",
    "            self.structure = None\n",
    "\n",
    "    def __str__(self):\n",
    "        \"\"\"\n",
    "        Returns a string representation of the RNA molecule.\n",
    "        \n",
    "        Returns:\n",
    "            str: Sequence and structure in the format \"Sequence: <seq>, Structure: <structure>\".\n",
    "        \"\"\"\n",
    "        return f\"Sequence: {self.seq}\\nStructure: {self.structure or 'None'}\"\n",
    "    \n",
    "    @staticmethod\n",
    "    def edges_to_dot_bracket(edges, seq_len):\n",
    "        \"\"\"\n",
    "        Convert edges to dot bracket notation\n",
    "\n",
    "        Args:\n",
    "            edges: List of edges in the alignment graph\n",
    "            seq_len: Length of the sequence\n",
    "            \n",
    "        Returns:\n",
    "            Dot bracket notation of the alignment graph\n",
    "\n",
    "        Example:\n",
    "            edges_to_dot_bracket([(2, 8), (3, 7), (9, 13)], 13) -> '.((...))(...)'\n",
    "        \"\"\"\n",
    "        dot_bracket = ['.'] * seq_len\n",
    "        for i, j in edges:\n",
    "            assert i!=j, f\"Edges must be of the form (i, i) where i != j, i={i}, j={j}\"\n",
    "            assert i <= seq_len and j <= seq_len, f\"Edges must be within the sequence length, i={i}, j={j}, seq_len={seq_len}\"\n",
    "            assert i < j, f\"Edges must be of the form (i, j) where i < j, i={i}, j={j}\"\n",
    "            dot_bracket[i-1] = '('\n",
    "            dot_bracket[j-1] = ')'\n",
    "        return ''.join(dot_bracket)\n",
    "\n",
    "    def parse_rna_structure(self) -> list:\n",
    "        \"\"\"\n",
    "        Parse RNA structure from dot bracket notation\n",
    "\n",
    "        Args:\n",
    "            dot_bracket: Dot bracket notation of the RNA structure\n",
    "            \n",
    "        Returns:\n",
    "            List of base pairs\n",
    "\n",
    "        Example:\n",
    "            parse_rna_structure('.((...))(...)') -> [(2, 8), (3, 7), (9, 13)]\n",
    "        \"\"\"\n",
    "        dot_bracket = self.structure\n",
    "        stack = []\n",
    "        base_pairs = []\n",
    "        for i, c in enumerate(dot_bracket):\n",
    "            if c == '(':\n",
    "                stack.append(i+1)\n",
    "            elif c == ')':\n",
    "                assert len(stack) > 0, \"Unmatched brackets )\"\n",
    "                base_pairs.append((stack.pop(), i+1))\n",
    "        base_pairs = sorted(base_pairs, key=lambda x: x[0])\n",
    "        assert len(stack) == 0, \"Unmatched brackets (\"\n",
    "        return base_pairs\n",
    "    \n",
    "    @staticmethod\n",
    "    def is_canonical_base_pair(x, y):\n",
    "        \"\"\"\n",
    "        Check if two bases form a canonical base pair: (A,U),(C,G),(G,C),(G,U),(U,A), or (U,G)\n",
    "\n",
    "        Args:\n",
    "            x: base 1\n",
    "            y: base 2\n",
    "            \n",
    "        Returns:\n",
    "            True if x, y form a canonical base pair, False otherwise\n",
    "        \"\"\"\n",
    "        assert x in ['A', 'C', 'G', 'U'], f\"Invalid base {x}\"\n",
    "        assert y in ['A', 'C', 'G', 'U'], f\"Invalid base {y}\"\n",
    "        return (x == 'A' and y == 'U') or (x == 'U' and y == 'A') or (x == 'G' and y == 'C') or (x == 'C' and y == 'G') or (x == 'G' and y == 'U') or (x == 'U' and y == 'G')\n",
    "    \n",
    "    def is_canonical(self) -> bool:\n",
    "        \"\"\"\n",
    "        Check if the RNA structure is canonical\n",
    "\n",
    "        Args:\n",
    "            dot_bracket: Dot bracket notation of the RNA structure\n",
    "            seq: RNA sequence\n",
    "            \n",
    "        Returns:\n",
    "            True if the RNA structure is canonical, False otherwise\n",
    "        \"\"\"\n",
    "        seq = self.seq\n",
    "        dot_bracket = self.structure\n",
    "        if dot_bracket is None:\n",
    "            warnings.warn(\"Structure is not provided\")\n",
    "            return False\n",
    "        base_pairs = self.parse_rna_structure()\n",
    "        for i, j in base_pairs:\n",
    "            assert i < j, f\"Base pair ({i}, {j}) is invalid, i must be less than j\"\n",
    "            assert i > 0 and j > 0, f\"Base pair ({i}, {j}) is invalid, positions must be positive\"\n",
    "            assert i <= len(seq) and j <= len(seq), f\"Base pair ({i}, {j}) is invalid, sequence length is {len(seq)}\"\n",
    "            if not is_canonical_base_pair(seq[i-1], seq[j-1]):\n",
    "                return False\n",
    "                    \n",
    "        return True"
   ]
  },
  {
   "cell_type": "code",
   "execution_count": 26,
   "metadata": {},
   "outputs": [
    {
     "name": "stdout",
     "output_type": "stream",
     "text": [
      "Printing test:\n",
      "Sequence: ACGUAC\n",
      "Structure: (....)\n"
     ]
    },
    {
     "ename": "NameError",
     "evalue": "name 'is_canonical_base_pair' is not defined",
     "output_type": "error",
     "traceback": [
      "\u001b[0;31m---------------------------------------------------------------------------\u001b[0m",
      "\u001b[0;31mNameError\u001b[0m                                 Traceback (most recent call last)",
      "Cell \u001b[0;32mIn[26], line 27\u001b[0m\n\u001b[1;32m     23\u001b[0m     \u001b[38;5;28;01massert\u001b[39;00m rna_test\u001b[38;5;241m.\u001b[39mparse_rna_structure() \u001b[38;5;241m==\u001b[39m [(\u001b[38;5;241m1\u001b[39m, \u001b[38;5;241m6\u001b[39m)], \u001b[38;5;124mf\u001b[39m\u001b[38;5;124m\"\u001b[39m\u001b[38;5;124mTest case 11 failed, expected [(1, 6)] but got \u001b[39m\u001b[38;5;132;01m{\u001b[39;00mrna_test\u001b[38;5;241m.\u001b[39mparse_rna_structure()\u001b[38;5;132;01m}\u001b[39;00m\u001b[38;5;124m\"\u001b[39m\n\u001b[1;32m     24\u001b[0m     \u001b[38;5;28;01mreturn\u001b[39;00m \u001b[38;5;124m\"\u001b[39m\u001b[38;5;124mAll tests passed\u001b[39m\u001b[38;5;124m\"\u001b[39m\n\u001b[0;32m---> 27\u001b[0m \u001b[43mtest_class_rna\u001b[49m\u001b[43m(\u001b[49m\u001b[43m)\u001b[49m\n",
      "Cell \u001b[0;32mIn[26], line 22\u001b[0m, in \u001b[0;36mtest_class_rna\u001b[0;34m()\u001b[0m\n\u001b[1;32m     20\u001b[0m \u001b[38;5;28;01massert\u001b[39;00m rna_test\u001b[38;5;241m.\u001b[39mseq \u001b[38;5;241m==\u001b[39m \u001b[38;5;124m\"\u001b[39m\u001b[38;5;124mACGUAC\u001b[39m\u001b[38;5;124m\"\u001b[39m, \u001b[38;5;124mf\u001b[39m\u001b[38;5;124m\"\u001b[39m\u001b[38;5;124mTest case 8 failed, expected ACGUAC but got \u001b[39m\u001b[38;5;132;01m{\u001b[39;00mrna_test\u001b[38;5;241m.\u001b[39mseq\u001b[38;5;132;01m}\u001b[39;00m\u001b[38;5;124m\"\u001b[39m\n\u001b[1;32m     21\u001b[0m \u001b[38;5;28;01massert\u001b[39;00m rna_test\u001b[38;5;241m.\u001b[39mstructure \u001b[38;5;241m==\u001b[39m \u001b[38;5;124m\"\u001b[39m\u001b[38;5;124m(....)\u001b[39m\u001b[38;5;124m\"\u001b[39m, \u001b[38;5;124mf\u001b[39m\u001b[38;5;124m\"\u001b[39m\u001b[38;5;124mTest case 9 failed, expected (....) but got \u001b[39m\u001b[38;5;132;01m{\u001b[39;00mrna_test\u001b[38;5;241m.\u001b[39mstructure\u001b[38;5;132;01m}\u001b[39;00m\u001b[38;5;124m\"\u001b[39m\n\u001b[0;32m---> 22\u001b[0m \u001b[38;5;28;01massert\u001b[39;00m \u001b[43mrna_test\u001b[49m\u001b[38;5;241;43m.\u001b[39;49m\u001b[43mis_canonical\u001b[49m\u001b[43m(\u001b[49m\u001b[43m)\u001b[49m \u001b[38;5;241m==\u001b[39m \u001b[38;5;28;01mFalse\u001b[39;00m, \u001b[38;5;124mf\u001b[39m\u001b[38;5;124m\"\u001b[39m\u001b[38;5;124mTest case 10 is canonical failed, expected False but got \u001b[39m\u001b[38;5;132;01m{\u001b[39;00mrna_test\u001b[38;5;241m.\u001b[39mis_canonical()\u001b[38;5;132;01m}\u001b[39;00m\u001b[38;5;124m\"\u001b[39m\n\u001b[1;32m     23\u001b[0m \u001b[38;5;28;01massert\u001b[39;00m rna_test\u001b[38;5;241m.\u001b[39mparse_rna_structure() \u001b[38;5;241m==\u001b[39m [(\u001b[38;5;241m1\u001b[39m, \u001b[38;5;241m6\u001b[39m)], \u001b[38;5;124mf\u001b[39m\u001b[38;5;124m\"\u001b[39m\u001b[38;5;124mTest case 11 failed, expected [(1, 6)] but got \u001b[39m\u001b[38;5;132;01m{\u001b[39;00mrna_test\u001b[38;5;241m.\u001b[39mparse_rna_structure()\u001b[38;5;132;01m}\u001b[39;00m\u001b[38;5;124m\"\u001b[39m\n\u001b[1;32m     24\u001b[0m \u001b[38;5;28;01mreturn\u001b[39;00m \u001b[38;5;124m\"\u001b[39m\u001b[38;5;124mAll tests passed\u001b[39m\u001b[38;5;124m\"\u001b[39m\n",
      "Cell \u001b[0;32mIn[25], line 134\u001b[0m, in \u001b[0;36mRNAMolecule.is_canonical\u001b[0;34m(self)\u001b[0m\n\u001b[1;32m    132\u001b[0m     \u001b[38;5;28;01massert\u001b[39;00m i \u001b[38;5;241m>\u001b[39m \u001b[38;5;241m0\u001b[39m \u001b[38;5;129;01mand\u001b[39;00m j \u001b[38;5;241m>\u001b[39m \u001b[38;5;241m0\u001b[39m, \u001b[38;5;124mf\u001b[39m\u001b[38;5;124m\"\u001b[39m\u001b[38;5;124mBase pair (\u001b[39m\u001b[38;5;132;01m{\u001b[39;00mi\u001b[38;5;132;01m}\u001b[39;00m\u001b[38;5;124m, \u001b[39m\u001b[38;5;132;01m{\u001b[39;00mj\u001b[38;5;132;01m}\u001b[39;00m\u001b[38;5;124m) is invalid, positions must be positive\u001b[39m\u001b[38;5;124m\"\u001b[39m\n\u001b[1;32m    133\u001b[0m     \u001b[38;5;28;01massert\u001b[39;00m i \u001b[38;5;241m<\u001b[39m\u001b[38;5;241m=\u001b[39m \u001b[38;5;28mlen\u001b[39m(seq) \u001b[38;5;129;01mand\u001b[39;00m j \u001b[38;5;241m<\u001b[39m\u001b[38;5;241m=\u001b[39m \u001b[38;5;28mlen\u001b[39m(seq), \u001b[38;5;124mf\u001b[39m\u001b[38;5;124m\"\u001b[39m\u001b[38;5;124mBase pair (\u001b[39m\u001b[38;5;132;01m{\u001b[39;00mi\u001b[38;5;132;01m}\u001b[39;00m\u001b[38;5;124m, \u001b[39m\u001b[38;5;132;01m{\u001b[39;00mj\u001b[38;5;132;01m}\u001b[39;00m\u001b[38;5;124m) is invalid, sequence length is \u001b[39m\u001b[38;5;132;01m{\u001b[39;00m\u001b[38;5;28mlen\u001b[39m(seq)\u001b[38;5;132;01m}\u001b[39;00m\u001b[38;5;124m\"\u001b[39m\n\u001b[0;32m--> 134\u001b[0m     \u001b[38;5;28;01mif\u001b[39;00m \u001b[38;5;129;01mnot\u001b[39;00m \u001b[43mis_canonical_base_pair\u001b[49m(seq[i\u001b[38;5;241m-\u001b[39m\u001b[38;5;241m1\u001b[39m], seq[j\u001b[38;5;241m-\u001b[39m\u001b[38;5;241m1\u001b[39m]):\n\u001b[1;32m    135\u001b[0m         \u001b[38;5;28;01mreturn\u001b[39;00m \u001b[38;5;28;01mFalse\u001b[39;00m\n\u001b[1;32m    137\u001b[0m \u001b[38;5;28;01mreturn\u001b[39;00m \u001b[38;5;28;01mTrue\u001b[39;00m\n",
      "\u001b[0;31mNameError\u001b[0m: name 'is_canonical_base_pair' is not defined"
     ]
    }
   ],
   "source": [
    "def test_class_rna():\n",
    "    \"\"\"\n",
    "    Test function for RNAMolecule class\n",
    "\n",
    "    Returns:\n",
    "        String All tests passed if all tests are successful, otherwise raises an exception\n",
    "    \"\"\"\n",
    "    rna_test = RNAMolecule(\"ACGUAC\")\n",
    "    assert rna_test.seq == \"ACGUAC\", f\"Test case 1 failed, expected ACGUAC but got {rna_test.seq}\"\n",
    "    assert rna_test.structure == None, f\"Test case 2 failed, expected None but got {rna_test.structure}\"\n",
    "    rna_test = RNAMolecule(\"ACGUAC\", \"......\")\n",
    "    assert rna_test.seq == \"ACGUAC\", f\"Test case 3 failed, expected ACGUAC but got {rna_test.seq}\"\n",
    "    assert rna_test.structure == \"......\", f\"Test case 4 failed, expected ...... but got {rna_test.structure}\"\n",
    "    rna_test = RNAMolecule(\"ACGUAC\", \"(....)\")\n",
    "    assert rna_test.seq == \"ACGUAC\", f\"Test case 5 failed, expected ACGUAC but got {rna_test.seq}\"\n",
    "    assert rna_test.structure == \"(....)\", f\"Test case 6 failed, expected (....) but got {rna_test.structure}\"\n",
    "    assert str(rna_test) == \"Sequence: ACGUAC\\nStructure: (....)\", f\"Test case 7 failed, expected Sequence: ACGUAC\\nStructure: (....) but got {str(rna_test)}\"\n",
    "    print(\"Printing test:\\n\", rna_test, sep=\"\")\n",
    "    rna_test = RNAMolecule(\"acguac\", \"(....)\")\n",
    "    assert rna_test.seq == \"ACGUAC\", f\"Test case 8 failed, expected ACGUAC but got {rna_test.seq}\"\n",
    "    assert rna_test.structure == \"(....)\", f\"Test case 9 failed, expected (....) but got {rna_test.structure}\"\n",
    "    assert rna_test.is_canonical() == False, f\"Test case 10 is canonical failed, expected False but got {rna_test.is_canonical()}\"\n",
    "    assert rna_test.parse_rna_structure() == [(1, 6)], f\"Test case 11 failed, expected [(1, 6)] but got {rna_test.parse_rna_structure()}\"\n",
    "    return \"All tests passed\"\n",
    "\n",
    "\n",
    "test_class_rna()"
   ]
  },
  {
   "cell_type": "markdown",
   "metadata": {
    "id": "4fxr0yBB-Lsn"
   },
   "source": [
    "### Assignment 3: Map an RNA structure to a sequence based on an alignment string\n",
    "\n",
    "Another sub-problem that you will likely encounter in the RNA-project is the following: given an alignment string $x'$ and a dot bracket string $y'$ of the length of the alignment, obtain $x$ and the corresponding dot-bracket string $y$ that describes the 'projected' structure for $x$.\n",
    "\n",
    "This situation occurs when $y'$ describes a consensus structure of the sequences in an alignment. \n",
    "\n",
    "As an example, consider the following alignment\n",
    "with a dot-bracket string that describes the consensus base pairs.\n",
    "\n",
    "```\n",
    "GCCGCUUA-CAGGAAUCCUGC\n",
    "CGCGCUUAGCAGGAAUCCUCG\n",
    "GCC-CUUAG-U-GAAUCCAGC\n",
    "((.((...))(((...)))))\n",
    "```\n",
    "\n",
    "For the third alignment row and the dot bracket structure, we want to obtain the following sequence and projected structure\n",
    "```\n",
    "GCCCUUAGUGAAUCCAGC\n",
    "((.(...)((...).)))\n",
    "```\n",
    "Compared to the consensus structure, the projected structure does not contain any base pair that involved gaps in the alignment string.\n",
    "\n",
    "1. Write a function that performs the 'projection'. It should return the sequence and projected structure. Make use of previously implemented functions from the previous assignments, where appropriate.\n",
    "\n",
    "1. Test [and document] your function.\n",
    "\n",
    "1. Can you reasonably use [or even extend?] the class ```RnaMolecule``` from the previous assignment?"
   ]
  },
  {
   "cell_type": "markdown",
   "metadata": {
    "id": "RBsrSAhM-UOl"
   },
   "source": [
    "### Assignment 4: Count paths in an $n\\times m$ grid\n",
    "\n",
    "In both projects of the class, you will be asked to implement dynamic programming algorithms. As warm-up solve the following problem. An efficient solution uses dynamic programming.\n",
    "\n",
    "Given is a $n \\times m$ grid.\n",
    "\n",
    "For example, here is a grid of $3 \\times 4$ cells:\n",
    "```\n",
    ".     + - + - + - + - +\n",
    ".     |   |   |   |   |\n",
    ".     + - + - + - + - +\n",
    ".     |   |   |   |   |\n",
    ".     + - + - + - + - +\n",
    ".     |   |   |   |   |\n",
    ".     + - + - + - + - +\n",
    "```\n",
    "We want to count the number of paths from the upper-left to the lower-right cell, where paths can only move right or down in each step.\n",
    "Here, is the example grid with one possible path:\n",
    "```\n",
    ".     + - + - + - + - +\n",
    ".     | #---# |   |   |\n",
    ".     + - + | + - + - +\n",
    ".     |   | #---#---# |\n",
    ".     + - + - + - + | +\n",
    ".     |   |   |   | # |\n",
    ".     + - + - + - + - +\n",
    "```\n",
    "\n",
    "1. Write a recursive function that counts paths for $n\\times m$ based on the numbers of paths for $n-1\\times m$ and $n\\times m-1$. Test your function for some [small] instances. Why is this function inefficient?\n",
    "\n",
    "1. Based on the recursive function, develop an efficient function that avoids redundant computation of sub-problems due to dynamic programming.\n",
    "\n",
    "1. Consider the problem variant, where paths can as well move diagonally down-right. How is this problem related to a typical pairwise sequence alignment algorithm (like Needleman-Wunsch)?"
   ]
  },
  {
   "cell_type": "markdown",
   "metadata": {
    "id": "M-VH6R83LgSI"
   },
   "source": [
    "## The Vienna RNA package\n",
    "\n",
    "Before working on the RNA project, you should briefly familiarize yourself with the elementary functionality of the Vienna package. You will get example code that is almost ready to use. The most essential theory is/will be also presented in class and on lecture slides.\n",
    "\n",
    "We use the Vienna RNA package in the RNA project (mainly) to predict Minimum Free Energy structures of RNAs as well as to predict base pair probabilities; moreover, to call RNAalifold for comparison and benchmarks. These uses will be demonstrated in this document.\n",
    "\n",
    "The home of the Vienna package is\n",
    "\n",
    "https://www.tbi.univie.ac.at/RNA/\n",
    "\n",
    "Among other things, you will find **documentation of the Python API** (https://www.tbi.univie.ac.at/RNA/ViennaRNA/refman/index.html).\n",
    "\n",
    "Recall, that one can install the Vienna RNA package using pip: ```pip install viennarna```"
   ]
  },
  {
   "cell_type": "markdown",
   "metadata": {
    "id": "Addb5J6LLQbV"
   },
   "source": [
    "## Usage of the Vienna RNA package in Python"
   ]
  },
  {
   "cell_type": "markdown",
   "metadata": {
    "id": "-UuIlruCOuon",
    "lines_to_next_cell": 0
   },
   "source": [
    "One finds more details in the API documentation:\n",
    "\n",
    "https://www.tbi.univie.ac.at/RNA/ViennaRNA/refman/index.html"
   ]
  },
  {
   "cell_type": "markdown",
   "metadata": {
    "id": "qzu13xCRO0Tp"
   },
   "source": [
    "#### Predicting the Minimum free energy structure"
   ]
  },
  {
   "cell_type": "code",
   "execution_count": null,
   "metadata": {
    "id": "yYGquGHgJ8ve"
   },
   "outputs": [],
   "source": [
    "import RNA\n",
    "# The RNA sequence\n",
    "sequence = \"GAGUAGUGGAACCAGGCUAUGUUUGUGACUCGCAGACUAACA\"\n",
    "\n",
    "# create a new model details structure\n",
    "md = RNA.md()\n",
    "\n",
    "# optionally one could change all kinds of parameters\n",
    "# md.temperature = 25.0 # 25 Deg Celcius\n",
    "# md.dangles = 1 # keep default dangles=2 for compatibility with partition folding\n",
    "\n",
    "# create a fold compound\n",
    "fc = RNA.fold_compound(sequence, md)\n",
    "\n",
    "# predict Minmum Free Energy and corresponding secondary structure\n",
    "(ss, mfe) = fc.mfe()\n",
    "\n",
    "# print sequence, structure and MFE\n",
    "print(\"%s\\n%s [ %6.2f ]\\n\" % (sequence, ss, mfe))"
   ]
  },
  {
   "cell_type": "markdown",
   "metadata": {},
   "source": [
    "For interpretation the dot bracket string in a program, the RNA lib supports conversion to a 'pair table'.\n",
    "This can be used as alternative to a base pair list (as you were asked to produce before in parse_RNA_structure) or allows to more easily generate one."
   ]
  },
  {
   "cell_type": "code",
   "execution_count": null,
   "metadata": {
    "id": "yYGquGHgJ8ve"
   },
   "outputs": [],
   "source": [
    "# parse the dot-bracket structure:\n",
    "# RNA.ptable returns a table, such that table[i]=j if (i.j) pair or 0 if i is unpaired.\n",
    "# note: positions are 1-based; table[0] contains the length of the structure.\n",
    "pt = RNA.ptable(ss)\n",
    "print(pt)"
   ]
  },
  {
   "cell_type": "markdown",
   "metadata": {},
   "source": [
    "The RNA library implements functionality to draw structures. Here is code to draw the predicted structure."
   ]
  },
  {
   "cell_type": "code",
   "execution_count": null,
   "metadata": {},
   "outputs": [],
   "source": [
    "import tempfile\n",
    "from IPython.display import SVG\n",
    "\n",
    "fp = tempfile.NamedTemporaryFile(suffix=\"svg\")\n",
    "RNA.svg_rna_plot(sequence, structure=ss, ssfile=fp.name)\n",
    "SVG(fp.name)"
   ]
  },
  {
   "cell_type": "markdown",
   "metadata": {
    "id": "um6XmLZGQV_v"
   },
   "source": [
    "#### Predicting partition funtions and  base pair probabilities"
   ]
  },
  {
   "cell_type": "code",
   "execution_count": null,
   "metadata": {
    "id": "CXNjxKF-QcJX",
    "lines_to_next_cell": 2
   },
   "outputs": [],
   "source": [
    "## Code adapted from the Vienna RNA package API documentation\n",
    "\n",
    "import RNA\n",
    "sequence = \"GAGUAGUGGAACCAGGCUAUGUUUGUGACUCGCAGACUAACA\"\n",
    "# create model details\n",
    "md = RNA.md()\n",
    "# activate unique multibranch loop decomposition\n",
    "md.uniq_ML = 1\n",
    "# create fold compound object\n",
    "fc = RNA.fold_compound(sequence, md)\n",
    "# compute MFE\n",
    "(ss, mfe) = fc.mfe()\n",
    "# rescale Boltzmann factors according to MFE; rescaling avoids numerical problems for long sequences\n",
    "fc.exp_params_rescale(mfe)\n",
    "# compute partition function to fill DP matrices\n",
    "fc.pf()"
   ]
  },
  {
   "cell_type": "markdown",
   "metadata": {},
   "source": [
    "After calculating the partition function, one can get a matrix of base pair probabilities from the fold compound. Attention: this matrix is 1-based and only entries i<j are meaningful."
   ]
  },
  {
   "cell_type": "code",
   "execution_count": null,
   "metadata": {
    "id": "CXNjxKF-QcJX",
    "lines_to_next_cell": 2
   },
   "outputs": [],
   "source": [
    "bpp = fc.bpp()\n",
    "#print(bpp)"
   ]
  },
  {
   "cell_type": "markdown",
   "metadata": {},
   "source": [
    "The base pair probabilities can be visualized"
   ]
  },
  {
   "cell_type": "code",
   "execution_count": null,
   "metadata": {
    "id": "CXNjxKF-QcJX",
    "lines_to_next_cell": 2
   },
   "outputs": [],
   "source": [
    "# produce simple 'dot plot'\n",
    "import matplotlib.pyplot as plt\n",
    "bpp2 = [p**2 for row in bpp[1:] for p in row[1:]]\n",
    "plt.imshow(bpp)"
   ]
  },
  {
   "cell_type": "markdown",
   "metadata": {},
   "source": [
    "We will also need unpaired probabilities for nucleotides i. They can be computed from the base pair probabilities. We obtain an unpaired probability profile of our RNA."
   ]
  },
  {
   "cell_type": "code",
   "execution_count": null,
   "metadata": {
    "id": "CXNjxKF-QcJX",
    "lines_to_next_cell": 2
   },
   "outputs": [],
   "source": [
    "# compute unpaired probabilities (0-based)\n",
    "# ATTENTION: bpp contains probability values only for i<j\n",
    "unp = [1-sum(bpp[i][j]+bpp[j][i] for j in range(1,len(sequence)+1)) for i in range(1,len(sequence)+1)]\n",
    "#print(unp)\n",
    "plt.plot(unp)"
   ]
  },
  {
   "cell_type": "markdown",
   "metadata": {
    "id": "xNneIY2uRzuv"
   },
   "source": [
    "#### Predicting structures from alignments\n",
    "\n",
    "The Vienna package can predict structures from Alignments by the *Alifold* method. For this purpose, we pass an alignment (instead of a single sequence) to the fold compound. Then, we can ask it to produce an mfe structure (or partion function, ...) as in the single sequence case."
   ]
  },
  {
   "cell_type": "code",
   "execution_count": null,
   "metadata": {
    "id": "hYTkIXRBSRhv"
   },
   "outputs": [],
   "source": [
    "import RNA\n",
    "# The RNA sequence\n",
    "\n",
    "alignment = [\"GGAGGAUUAGCUCAGCUGGGAGAGCAUCUGCCUUACAAGCAGAGGG-----------UCGGCGGUUCGAGCCCGUCAUCCUCC\",\n",
    "\"GCCUUCCUAGCUCAG-UGGUAGAGCGCACGGCUUUUAACCGUGUGG-----------UCGUGGGUUCGAUCCCCACGGAAGGC\",\n",
    "\"GCCUUUAUAGCUUAG-UGGUAAAGCGAUAAACUGAAGAUUUAUUUA-----------CAUGUAGUUCGAUUCUCAUUAAGGGC\",\n",
    "\"GCGGAUAUAACUUAGGGGUUAAAGUUGCAGAUUGUGGCUCUGAAAA------------CACGGGUUCGAAUCCCGUUAUUCGC\",\n",
    "\"GGAAAAUU-GAUCAUCGGCAAGAUAAGUUAUUUACUAAAUAAUAGGAUUUAAUAACCUGGUGAGUUCGAAUCUCACAUUUUCC\"\n",
    "]\n",
    "\n",
    "# create a new model details structure\n",
    "md = RNA.md()\n",
    "# optionally one could change some parameters\n",
    "# md.temperature = 25.0 # 25 Deg Celcius\n",
    "# md.dangles = 1 # keep default 2 for compatibility with partition folding\n",
    "# create a fold compound\n",
    "fc = RNA.fold_compound(alignment, md)\n",
    "# predict the  \"Alifold\" Minmum Free Energy and the corresponding secondary structure\n",
    "(ss, mfe) = fc.mfe()\n",
    "conservation_score = fc.eval_covar_structure(ss)\n",
    "print(\"%s\\n%s [ %6.2f, %6.2f ]\\n\" % ('\\n'.join(alignment), ss, mfe, conservation_score))"
   ]
  },
  {
   "cell_type": "markdown",
   "metadata": {},
   "source": [
    "## Assignment 5: Use the Vienna RNA package\n",
    "\n",
    "a) Write a function that takes an alignment (as above) and computes the mfe structures of the single sequences (without gaps).\n",
    "\n",
    "b) Compare the single sequence mfe structures to the alifold mfe structure of the alignment (compare dot bracket strings and/or visualize as secondary structure plots).\n",
    "\n",
    "c) Write a function that takes an alignment (as above) and computes the average positional unpaired probabilities from folding\n",
    "the single sequences. Take care, where this requires to map sequence positions to alignment columns or vice versa.\n",
    "\n",
    "d) Visually compare this profile to the Alifold mfe structure and the corresponding Alifold unpaired probability profile. \n",
    "\n",
    "e) Quantify the difference between the profiles (e.g. sum over the log of the positional ratios...)."
   ]
  },
  {
   "cell_type": "markdown",
   "metadata": {
    "id": "B2RwBCorel1r"
   },
   "source": [
    "## Test data\n",
    "\n",
    "Find test data here\n",
    "https://www.lix.polytechnique.fr/~will/Teaching/INF588/Testdata\n",
    "\n",
    "Can your program handle all of the diverse examples (in different file formats)?\n",
    "\n",
    "Here is one way to download the data to Colab by downloading an archive of all files and unpacking it. The files will be written to subdirectory Testdata"
   ]
  },
  {
   "cell_type": "code",
   "execution_count": null,
   "metadata": {},
   "outputs": [],
   "source": [
    "from urllib.request import urlretrieve\n",
    "arcfile = \"testdata.zip\"\n",
    "url = f\"https://www.lix.polytechnique.fr/~will/Teaching/INF588/{arcfile}\"\n",
    "urlretrieve(url, arcfile)\n",
    "\n",
    "import zipfile\n",
    "with zipfile.ZipFile(arcfile, 'r') as zip_ref:\n",
    "    zip_ref.extractall(\".\")\n",
    "\n",
    "!ls Testdata"
   ]
  },
  {
   "cell_type": "markdown",
   "metadata": {},
   "source": [
    "## Assignment 6\n",
    "\n",
    "a) Write a function to read an alignment from either an aln or stk file. Use Biopython (https://biopython.org/docs/1.75/api/Bio.AlignIO.html) and find out about stk / Stockholm files!\n",
    "\n",
    "b) Apply the functions from the previous assignment to the test alignments. How could we interpret the results?"
   ]
  },
  {
   "cell_type": "markdown",
   "metadata": {
    "id": "R9ZOD0QBekpj"
   },
   "source": [
    "## How to work on the project\n",
    "In principle, you could start your work using Colab and simply extend this notebook. However at least in the longer run, it will have advantages to run everything 'locally' on your own computer; without Colab.  Note that for example, running larger computations in Colab can be inconvenient; also, Colab will require you to reinstall Conda, Biopython and Vienna RNA in each new Colab session.\n",
    "\n",
    "See above for how pip can be used to install the required software. This works in Colab as well as locally. *Optionally*: For local installation, one should consider installation in a Conda environment or Python virtual environment (which helps to keep things nicely structured, if one works on several projects with different software dendencies etc). "
   ]
  },
  {
   "cell_type": "code",
   "execution_count": null,
   "metadata": {
    "id": "vfhqHMlDtDSz"
   },
   "outputs": [],
   "source": []
  }
 ],
 "metadata": {
  "colab": {
   "collapsed_sections": [
    "PpyYNiDApIOB",
    "OOnY9HZip-39",
    "d9H4MqtYqKeh",
    "KGP2oqZ6q0bs",
    "7ZKaqesgq-Ee",
    "VT4gDTWIrCqg",
    "Q6PBkZk6rIN_",
    "b0WA4QB0rLro",
    "XdCfVJLtriRs",
    "OrluaorLr9Xv",
    "c1BvG_Vnr-wV",
    "n8OaOhw2sAjp",
    "BMgXefKmsVss",
    "ymhx-2awse8L",
    "bDJ9TSpUvOfB",
    "Y5nXn9KzvfU_"
   ],
   "private_outputs": true,
   "provenance": []
  },
  "jupytext": {
   "formats": "ipynb,py:light"
  },
  "kernelspec": {
   "display_name": "Python 3",
   "language": "python",
   "name": "python3"
  },
  "language_info": {
   "codemirror_mode": {
    "name": "ipython",
    "version": 3
   },
   "file_extension": ".py",
   "mimetype": "text/x-python",
   "name": "python",
   "nbconvert_exporter": "python",
   "pygments_lexer": "ipython3",
   "version": "3.11.1"
  }
 },
 "nbformat": 4,
 "nbformat_minor": 4
}
