{
 "cells": [
  {
   "cell_type": "markdown",
   "metadata": {
    "id": "a370sZeQdAMc"
   },
   "source": [
    "# Notebook for INF588 - 2024"
   ]
  },
  {
   "cell_type": "code",
   "execution_count": 4,
   "metadata": {},
   "outputs": [],
   "source": [
    "import warnings"
   ]
  },
  {
   "cell_type": "code",
   "execution_count": 5,
   "metadata": {},
   "outputs": [],
   "source": [
    "%load_ext autoreload\n",
    "%autoreload 2"
   ]
  },
  {
   "cell_type": "markdown",
   "metadata": {
    "id": "abBArbrWRzR8"
   },
   "source": [
    "## First class - Python warm up and the Vienna RNA package\n",
    "\n",
    "In the class INF588, you are going to work on two different Bioinformatics projects:   \n",
    "- Computing alignments of proteins using structural information  \n",
    "- Predicting the structure of RNAs from an RNA alignment\n",
    "\n",
    "Both projects require you to write Python code to implement the required algorithms and tools and then apply them to biological data.\n",
    "\n",
    "Thus, before jumping into these projects it makes sense to\n",
    "\n",
    "1. re-activate or strengthen your Python skills by solving some warm-up assignments, which mostly prepare code required in the projects;\n",
    "1. learn about simple use of Biopython to read/write bio-data. *Note*: find details online on-the-go, e.g. when you want to read sequences from fasta format and alignments in clustal or stockholm format;\n",
    "1. learn how to use the Vienna RNA package, which we need for the RNA-related project.\n"
   ]
  },
  {
   "cell_type": "markdown",
   "metadata": {
    "id": "21awqVPFIqf2"
   },
   "source": [
    "\n",
    "## About this document\n",
    "\n",
    "This Jupyter notebook serves several purposes:\n",
    "\n",
    "* It contains warm-up Python programming tasks for the first class.\n",
    "\n",
    "* It introduces the Vienna RNA package for use in the RNA folding project.\n",
    "\n",
    "* It shows how to install required software including Python, Biopython and the Vienna RNA package, locally or in Google Colab.\n",
    "\n",
    "* It provides examples for the use of the Vienna package from Python - providing a mini-tutorial tailored to our needs.\n",
    "\n",
    "* Finally, it provides a pointer to test data (and shows how to upload it on Colab, if you have to).\n",
    "\n",
    "For today, it is possible to work in this notebook on Colab, i.e. write and run your code in the browser. You could continue using Colab for the rest of this class, but it is likely more convenient to continue without Colab after install Python and the required packages locally.\n"
   ]
  },
  {
   "cell_type": "markdown",
   "metadata": {
    "id": "aqtE589yLexc"
   },
   "source": [
    "## Installation of Biopython and the Vienna RNA package\n",
    "\n",
    "We install the special Python modules Biopython and the Vienna RNA package using pip. On Google Colab, this requires no further preparation, but the\n",
    "installation has to be repeated once per session. If you work locally (as recommended), then the installation needs to be done only once. However, you need to install Python 3.x, pip, and VS Code or Jupyter(*) in advance. \n",
    "\n",
    "(*) We recommend VS Code to edit and run this Jupyter notebook (.ipynb file); or use Jupyter to do the same in your browser. \n",
    "\n",
    "Our two special Python modules can be installed by pip by running the next cell. In the same way, we can install additional packages as required, e.g. matplotlib and seaborn. Many standard packages are typically alread installed in Google Colab."
   ]
  },
  {
   "cell_type": "code",
   "execution_count": 6,
   "metadata": {},
   "outputs": [],
   "source": [
    "# !pip install viennarna biopython"
   ]
  },
  {
   "cell_type": "markdown",
   "metadata": {
    "id": "1TDTN6k4vpKE"
   },
   "source": [
    "## Python warm-up assignments\n",
    "\n"
   ]
  },
  {
   "cell_type": "markdown",
   "metadata": {
    "id": "msiHrdHHw2tf"
   },
   "source": [
    "### Assignment 1: Sequence identity of an alignment\n",
    "\n",
    "An RNA sequence is a string containing only the characters A, C, G, and U, which denote the four nucleotides Adenin, Cytosin, Guanin, and Uracil.\n",
    "\n",
    "An alignment of two RNA sequences x and y is typically represented by a pair of alignment strings x' and y' that additionally contain gap symbols $-$.\n",
    "\n",
    "The pair $x', y'$ represents an alignment of RNA sequences $x$ and $y$ iff\n",
    "1. removing gap symbols in $x'$ [$y'$] yields the sequences $x$ [$y$], resp.\n",
    "2. there is no $i$ such that $x_i=-$ and $y_i=-$.\n",
    "\n",
    "For example,\n",
    "```\n",
    "x' = ACGU--CGACUAGC-\n",
    "y' = -CGUCGU-ACUCGCG\n",
    "```\n",
    "represents an alignment of ```ACGUCGACUAGC``` and ```CGUCGUACUCGCG```.\n",
    "A column $(x'_i,y'_i)$ is called a match if $x'_i=y'_i$.\n",
    "\n",
    "1. Write a function that takes the two alignment strings and returns the percentage of match colunmns, i.e. the sequence identity of the alignment.\n",
    "\n",
    "1. In publicly available RNA sequence data, one will often find small letter symbols and even T instead of U. Extend the function such that it can converts small letters to capital ones and T to U. Write another function to perform this transformation and make the transformation optional in the sequence identity function, e.g. by adding another argument with default ```True```.\n",
    "\n",
    "1. Write a function that returns a list of the *edges* in an alignment. An edge is a pair of respective positions $i$ and $j$ in $x$ and $y$ that are in the same alignment column (regardless whether matched or mismatched). The alignment should be givn as a pair of alignment strings. Indexing sequence positions from 1 to the sequence length [*1-based indexing*], edges of our example alignment are (2,1), (3,2), (4,3), (5,6), ..., (12,12). For example, (5,6) is an *edge* of the alignment given by $x',y'$, because the `C` at position 5 of sequence $x$ is in the same column as the `G` at position 6 of $y$.\n",
    "\n",
    "1. Add meaningful doc strings to your functions. Generally, one should get into the habit of writing at least a brief description for every function / method / class. It is good practice, to describe arguments and return value (see function sequence_identity below). Using type hints, as in sequence_identity (even sporadically), can be a good idea as well.\n",
    "\n",
    "1. Write unit tests for your functions; design simple examples that include edge cases like gaps at the beginning and end of sequences, consecutive insertion and deletion, empty alignment, identical alignment strings, no identity..."
   ]
  },
  {
   "cell_type": "code",
   "execution_count": 7,
   "metadata": {},
   "outputs": [],
   "source": [
    "def preprocess_rna_seq(seq: str) -> str:\n",
    "    \"\"\"\n",
    "    Preprocess RNA sequence by uppercasing and converting T to U\n",
    "\n",
    "    Args:\n",
    "        seq: RNA sequence\n",
    "\n",
    "    Returns:\n",
    "        preprocessed RNA sequence    \n",
    "    \"\"\"\n",
    "    return seq.upper().replace('T', 'U')"
   ]
  },
  {
   "cell_type": "code",
   "execution_count": 8,
   "metadata": {},
   "outputs": [
    {
     "data": {
      "text/plain": [
       "'All tests passed'"
      ]
     },
     "execution_count": 8,
     "metadata": {},
     "output_type": "execute_result"
    }
   ],
   "source": [
    "def test_preprocess_rna_seq():\n",
    "    \"\"\"\n",
    "    Test function for preprocess_rna_seq\n",
    "\n",
    "    Returns:\n",
    "        String All tests passed if all tests are successful, otherwise raises an exception\n",
    "    \"\"\"\n",
    "    assert preprocess_rna_seq('ATGC') == 'AUGC', \"Error in test case 1: T to U\"\n",
    "    assert preprocess_rna_seq('atgc') == 'AUGC', \"Error in test case 2: lower case and T to U\"\n",
    "    assert preprocess_rna_seq('ATGCATGC') == 'AUGCAUGC', \"Error in test case 3: T to U\"\n",
    "    assert preprocess_rna_seq('ATGCTTGC') == 'AUGCUUGC', \"Error in test case 4: T to U\"\n",
    "    assert preprocess_rna_seq('ATGCTTGCATGC') == 'AUGCUUGCAUGC', \"Error in test case 5: T to U\"\n",
    "    assert preprocess_rna_seq('ATGCTTGCatgc') == 'AUGCUUGCAUGC', \"Error in test case 6: lower case and T to U\"\n",
    "    return \"All tests passed\"\n",
    "\n",
    "test_preprocess_rna_seq()"
   ]
  },
  {
   "cell_type": "code",
   "execution_count": 9,
   "metadata": {
    "id": "UPH4cH6dysyo"
   },
   "outputs": [],
   "source": [
    "def sequence_identity(xp:str, yp:str, need_preprocess = True) -> str:\n",
    "    \"\"\"\n",
    "    Sequence identity of two aligned sequences\n",
    "\n",
    "    Args:\n",
    "      xp: alignment string of sequence x\n",
    "      yp: alignment string of sequence y\n",
    "      need_preprocess: whether to preprocess the sequences\n",
    "    \n",
    "    Returns:\n",
    "      Percentage of identical alignment columns\n",
    "    \"\"\"\n",
    "    assert len(xp) == len(yp), \"Sequences must have the same length\"\n",
    "    if need_preprocess:\n",
    "        xp = preprocess_rna_seq(xp)\n",
    "        yp = preprocess_rna_seq(yp)\n",
    "\n",
    "    xp_symbols = [x for x in xp]\n",
    "    yp_symbols = [y for y in yp]\n",
    "    return f\"{sum([1 for x, y in zip(xp_symbols, yp_symbols) if x == y]) / len(xp) * 100:.2f}%\""
   ]
  },
  {
   "cell_type": "code",
   "execution_count": 10,
   "metadata": {},
   "outputs": [
    {
     "data": {
      "text/plain": [
       "'All tests passed'"
      ]
     },
     "execution_count": 10,
     "metadata": {},
     "output_type": "execute_result"
    }
   ],
   "source": [
    "def test_sequence_identity():\n",
    "    \"\"\"\n",
    "    Test function for sequence_identity\n",
    "\n",
    "    Returns:\n",
    "        String All tests passed if all tests are successful, otherwise raises an exception\n",
    "    \"\"\"\n",
    "    assert sequence_identity(\"ACGT\", \"ACGT\", False) == \"100.00%\", f\"No preprocessing. Identical sequences test failed, percentage should be 100 and not {sequence_identity('ACGT', 'ACGT', False)}\"\n",
    "    assert sequence_identity(\"ACGT\", \"AC-A\", False) == \"50.00%\", f\"No preprocessing. Half identical sequences test failed, percentage should be 50 and not {sequence_identity('ACGT', 'ACGT', False)}\"\n",
    "    assert sequence_identity(\"ACGT\", \"----\", False) == \"0.00%\", f\"No preprocessing. No identical sequences test failed, percentage should be 0 and not {sequence_identity('ACGT', 'ACGT', False)}\"\n",
    "    assert sequence_identity(\"ACGT\", \"ACGU\", True) == \"100.00%\", f\"Preprocessing T to U. Identical sequences test failed, percentage should be 100 and not {sequence_identity('ACGT', 'ACGU', True)}\"\n",
    "    assert sequence_identity(\"ACGT\", \"AC-U\", True) == \"75.00%\", f\"Preprocessing T to U. 3/4 identical sequences test failed, percentage should be 75 and not {sequence_identity('ACGT', 'AC-U', True)}\"\n",
    "    assert sequence_identity(\"ACGT\", \"----\", True) == \"0.00%\", f\"Preprocessing T to U. No identical sequences test failed, percentage should be 0 and not {sequence_identity('ACGT', '----', True)}\"\n",
    "    assert sequence_identity(\"acgu\", \"ACGU\", True) == \"100.00%\", f\"Preprocessing lower case. Identical sequences test failed, percentage should be 100 and not {sequence_identity('acgu', 'ACGU', True)}\"\n",
    "\n",
    "    return \"All tests passed\"\n",
    "\n",
    "test_sequence_identity()"
   ]
  },
  {
   "cell_type": "code",
   "execution_count": 11,
   "metadata": {},
   "outputs": [],
   "source": [
    "def alignment_edges(xp, yp):\n",
    "    \"\"\"\n",
    "        Extract edges from alignment strings.\n",
    "        An edge is a pair of respective positions $i$ and $j$ in $x$ and $y$ that are in the same alignment column \n",
    "        (regardless whether matched or mismatched). The alignment should be givn as a pair of alignment strings. \n",
    "        Indexing sequence positions from 1 to the sequence length. \n",
    "        x' = ACGU--CGACUAGC-\n",
    "        y' = -CGUCGU-ACUCGCG\n",
    "        Edges of our example alignment are (2,1), (3,2), (4,3), (5,6), ..., (12,12). \n",
    "\n",
    "        Args:\n",
    "            xp: alignment string of sequence x\n",
    "            yp: alignment string of sequence y\n",
    "        \n",
    "        Returns:\n",
    "            List of edges in the alignment graph\n",
    "\n",
    "        Example:\n",
    "            alignment_edges(\"ACGT\", \"AC-T\") == [(1,1), (2, 2), (4, 3)]\n",
    "    \"\"\"\n",
    "    assert len(xp) == len(yp), \"Sequences must have the same length\"\n",
    "    edges = []\n",
    "    i, j = 0, 0\n",
    "    for k in range(len(xp)):\n",
    "        if xp[k] != '-' and yp[k] != '-':\n",
    "            i += 1\n",
    "            j += 1\n",
    "            edges.append((i, j))\n",
    "        elif xp[k] == '-':\n",
    "            j += 1\n",
    "        else:\n",
    "            i += 1\n",
    "    return edges"
   ]
  },
  {
   "cell_type": "code",
   "execution_count": 12,
   "metadata": {},
   "outputs": [
    {
     "data": {
      "text/plain": [
       "'All tests passed'"
      ]
     },
     "execution_count": 12,
     "metadata": {},
     "output_type": "execute_result"
    }
   ],
   "source": [
    "def test_alignment_edges():\n",
    "    \"\"\"\n",
    "    Test function for alignment_edges\n",
    "\n",
    "    Returns:\n",
    "        String All tests passed if all tests are successful, otherwise raises an exception\n",
    "    \"\"\"\n",
    "    assert alignment_edges(\"ACGT\", \"ACGT\") == [(1,1), (2, 2), (3, 3), (4, 4)], f\"Identical sequences test failed, edges should be [(1,1), (2, 2), (3, 3), (4, 4)] and not {alignment_edges('ACGT', 'ACGT')}\"\n",
    "    assert alignment_edges(\"ACGT\", \"AC-T\") == [(1,1), (2, 2), (4, 3)], f\"Half identical sequences test failed, edges should be [(1,1), (2, 2), (4, 3)] and not {alignment_edges('ACGT', 'AC-T')}\"\n",
    "    assert alignment_edges(\"ACGT\", \"----\") == [], f\"No identical sequences test failed, edges should be [] and not {alignment_edges('ACGT', '----')}\"\n",
    "    return \"All tests passed\"\n",
    "\n",
    "test_alignment_edges()"
   ]
  },
  {
   "cell_type": "markdown",
   "metadata": {
    "id": "-oxvRBjOxOkT"
   },
   "source": [
    "### Assignment 2: RNA structure dot-bracket representation\n",
    "\n",
    "\n",
    "An *RNA structure* for an RNA of sequence length $n$ is a set of *base pairs* $(i,j)$, $1 \\leq i < j \\leq n$. Typically, we restrict ourselves to structures that can be represented by *dot-bracket strings*. These strings contain only dots ```.``` and opening and closing brackets ```(``` and ```)```. They contain one symbol for each sequence position. The dot marks an unpaired position, while an opening bracket tells that the base is paired to the base of the corresponding closing bracket.\n",
    "\n",
    "For example, let the sequence and structure of an RNA described by\n",
    "```\n",
    "sequence = \"CGCUUAGCGAAUC\"\n",
    "dbstring = \".((...))(...)\"\n",
    "```\n",
    "Then, the dot-bracket string ```dbstring``` describes the structure (aka the set of base pairs) ```{(2,8),(3,7),(9,13)}```.\n",
    "\n",
    "A structure is *canonical* for a sequence $x$, if for all base pairs $(i,j)$ of the structure $(x_i,x_j)$ is one of the *canonical base pairs* (A,U),(C,G),(G,C),(G,U),(U,A), or (U,G).\n",
    "\n",
    "1. Write a function that takes a sequence length and a set or list of base pairs and returns the corresponding dot-bracket string.\n",
    "\n",
    "1. Write a function ```parse_RNA_structure``` that takes a dot-bracket string and returns the corresponding base pair set as a list. How should it handle invalid dot-bracket strings? Use exceptions (https://docs.python.org/3/tutorial/errors.html).\n",
    "\n",
    "1. Write a function ```is_canonical``` that checks whether a structure, given as dot-bracket string, is canonical for a sequence. (Write helper functions like ```is_canonical_basepair(x,y)```, where reasonable.)\n",
    "\n",
    "1. Based on your previous code, implement a Python class ```RnaMolecule``` that represents an RNA sequence and a corresponding structure. Objects of this class should be initialized with a sequence and optionally a structure, printing an object should show the sequence and dot bracket string, it should be possible to get the base pair list representation of an object... (https://docs.python.org/3/tutorial/classes.html)\n",
    "\n",
    "**Note:** pay attention that we use one-based positions to describe the base pairs, while strings in Python use zero-based indices. One and zero-based indexing is a recurring issue when working with RNAs and specifically the Vienna RNA package. Beware since this is a potential source of errors."
   ]
  },
  {
   "cell_type": "code",
   "execution_count": 13,
   "metadata": {},
   "outputs": [],
   "source": [
    "def edges_to_dot_bracket(edges, seq_len):\n",
    "    \"\"\"\n",
    "    Convert edges to dot bracket notation\n",
    "\n",
    "    Args:\n",
    "        edges: List of edges in the alignment graph\n",
    "        seq_len: Length of the sequence\n",
    "        \n",
    "    Returns:\n",
    "        Dot bracket notation of the alignment graph\n",
    "\n",
    "    Example:\n",
    "        edges_to_dot_bracket([(2, 8), (3, 7), (9, 13)], 13) -> '.((...))(...)'\n",
    "    \"\"\"\n",
    "    dot_bracket = ['.'] * seq_len\n",
    "    for i, j in edges:\n",
    "        assert i!=j, f\"Edges must be of the form (i, i) where i != j, i={i}, j={j}\"\n",
    "        assert i <= seq_len and j <= seq_len, f\"Edges must be within the sequence length, i={i}, j={j}, seq_len={seq_len}\"\n",
    "        assert i < j, f\"Edges must be of the form (i, j) where i < j, i={i}, j={j}\"\n",
    "        dot_bracket[i-1] = '('\n",
    "        dot_bracket[j-1] = ')'\n",
    "    return ''.join(dot_bracket)"
   ]
  },
  {
   "cell_type": "code",
   "execution_count": 14,
   "metadata": {},
   "outputs": [
    {
     "data": {
      "text/plain": [
       "'All tests passed'"
      ]
     },
     "execution_count": 14,
     "metadata": {},
     "output_type": "execute_result"
    }
   ],
   "source": [
    "def test_edges_to_dot_bracket():\n",
    "    \"\"\"\n",
    "    Test function for edges_to_dot_bracket\n",
    "\n",
    "    Returns:\n",
    "        String All tests passed if all tests are successful, otherwise raises an exception\n",
    "    \"\"\"\n",
    "    assert edges_to_dot_bracket([(2, 8), (3, 7), (9, 13)], 13) == '.((...))(...)', f\"Test case 1 failed, expected .((...))(...) but got {edges_to_dot_bracket([(2, 8), (3, 7), (9, 13)], 13)}\"\n",
    "    assert edges_to_dot_bracket([],6) == '......', f\"Test case 2 failed, expected ...... but got {edges_to_dot_bracket([],6)}\"\n",
    "    assert edges_to_dot_bracket([(1, 6)],6) == '(....)', f\"Test case 3 failed, expected (....) but got {edges_to_dot_bracket([(1, 6)],6)}\"\n",
    "    try:\n",
    "        edges_to_dot_bracket([(1, 1)],1)\n",
    "    except AssertionError:\n",
    "        pass\n",
    "    else:\n",
    "        raise AssertionError(f\"Test case 4 failed, expected an assertion error but got {edges_to_dot_bracket([(1, 1)],1)}\")\n",
    "    try:\n",
    "        edges_to_dot_bracket([(1, 2)],1)\n",
    "    except AssertionError:\n",
    "        pass\n",
    "    else:\n",
    "        raise AssertionError(f\"Test case 5 failed, expected an assertion error but got {edges_to_dot_bracket([(1, 2)],1)}\")\n",
    "    try:\n",
    "        edges_to_dot_bracket([(2, 1)],2)\n",
    "    except AssertionError:\n",
    "        pass\n",
    "    else:\n",
    "        raise AssertionError(f\"Test case 6 failed, expected an assertion error but got {edges_to_dot_bracket([(2, 1)],2)}\")\n",
    "\n",
    "    return \"All tests passed\"\n",
    "\n",
    "test_edges_to_dot_bracket()"
   ]
  },
  {
   "cell_type": "code",
   "execution_count": 15,
   "metadata": {},
   "outputs": [],
   "source": [
    "def parse_rna_structure(dot_bracket:str) -> list:\n",
    "    \"\"\"\n",
    "    Parse RNA structure from dot bracket notation\n",
    "\n",
    "    Args:\n",
    "        dot_bracket: Dot bracket notation of the RNA structure\n",
    "        \n",
    "    Returns:\n",
    "        List of base pairs\n",
    "\n",
    "    Example:\n",
    "        parse_rna_structure('.((...))(...)') -> [(2, 8), (3, 7), (9, 13)]\n",
    "    \"\"\"\n",
    "    stack = []\n",
    "    base_pairs = []\n",
    "    for i, c in enumerate(dot_bracket):\n",
    "        if c == '(':\n",
    "            stack.append(i+1)\n",
    "        elif c == ')':\n",
    "            assert len(stack) > 0, \"Unmatched brackets )\"\n",
    "            base_pairs.append((stack.pop(), i+1))\n",
    "    base_pairs = sorted(base_pairs, key=lambda x: x[0])\n",
    "    assert len(stack) == 0, \"Unmatched brackets (\"\n",
    "    return base_pairs"
   ]
  },
  {
   "cell_type": "code",
   "execution_count": 16,
   "metadata": {},
   "outputs": [
    {
     "data": {
      "text/plain": [
       "'All tests passed'"
      ]
     },
     "execution_count": 16,
     "metadata": {},
     "output_type": "execute_result"
    }
   ],
   "source": [
    "def test_parse_rna_structure():\n",
    "    \"\"\"\n",
    "    Test function for parse_rna_structure\n",
    "\n",
    "    Returns:\n",
    "        String All tests passed if all tests are successful, otherwise raises an exception\n",
    "    \"\"\"\n",
    "    assert parse_rna_structure('.((...))(...)') == [(2, 8), (3, 7), (9, 13)], f\"Test case 1 failed, expected [(2, 8), (3, 7), (9, 13)] but got {parse_rna_structure('.((...))(...)')}\"\n",
    "    assert parse_rna_structure('......') == [], f\"Test case 2 failed, expected [] but got {parse_rna_structure('......')}\"\n",
    "    assert parse_rna_structure('(....)') == [(1, 6)], f\"Test case 3 failed, expected [(1, 6)] but got {parse_rna_structure('(....)')}\"\n",
    "    try:\n",
    "        parse_rna_structure('..(..')\n",
    "    except AssertionError:\n",
    "        pass\n",
    "    else:\n",
    "        raise AssertionError(f\"Test case 4 failed, expected an assertion error but got {parse_rna_structure('..(..')}\")\n",
    "    try:\n",
    "        parse_rna_structure('..)..')\n",
    "    except AssertionError:\n",
    "        pass\n",
    "    else:\n",
    "        raise AssertionError(f\"Test case 5 failed, expected an assertion error but got {parse_rna_structure('..)..')}\")\n",
    "    \n",
    "    return \"All tests passed\"\n",
    "\n",
    "test_preprocess_rna_seq()"
   ]
  },
  {
   "cell_type": "code",
   "execution_count": 17,
   "metadata": {},
   "outputs": [],
   "source": [
    "def is_canonical_base_pair(x, y):\n",
    "    \"\"\"\n",
    "    Check if two bases form a canonical base pair: (A,U),(C,G),(G,C),(G,U),(U,A), or (U,G)\n",
    "\n",
    "    Args:\n",
    "        x: base 1\n",
    "        y: base 2\n",
    "        \n",
    "    Returns:\n",
    "        True if x, y form a canonical base pair, False otherwise\n",
    "    \"\"\"\n",
    "    assert x in ['A', 'C', 'G', 'U'], f\"Invalid base {x}\"\n",
    "    assert y in ['A', 'C', 'G', 'U'], f\"Invalid base {y}\"\n",
    "    return (x == 'A' and y == 'U') or (x == 'U' and y == 'A') or (x == 'G' and y == 'C') or (x == 'C' and y == 'G') or (x == 'G' and y == 'U') or (x == 'U' and y == 'G')"
   ]
  },
  {
   "cell_type": "code",
   "execution_count": 18,
   "metadata": {},
   "outputs": [
    {
     "data": {
      "text/plain": [
       "'All tests passed'"
      ]
     },
     "execution_count": 18,
     "metadata": {},
     "output_type": "execute_result"
    }
   ],
   "source": [
    "def test_is_canonical_base_pair():\n",
    "    \"\"\"\n",
    "    Test function for is_canonical_base_pair\n",
    "\n",
    "    Returns:\n",
    "        String All tests passed if all tests are successful, otherwise raises an exception\n",
    "    \"\"\"\n",
    "    assert is_canonical_base_pair('A', 'U') == True, f\"Test case 1 failed, expected True but got {is_canonical_base_pair('A', 'U')}\"\n",
    "    assert is_canonical_base_pair('U', 'A') == True, f\"Test case 2 failed, expected True but got {is_canonical_base_pair('U', 'A')}\"\n",
    "    assert is_canonical_base_pair('G', 'C') == True, f\"Test case 3 failed, expected True but got {is_canonical_base_pair('G', 'C')}\"\n",
    "    assert is_canonical_base_pair('C', 'G') == True, f\"Test case 4 failed, expected True but got {is_canonical_base_pair('C', 'G')}\"\n",
    "    assert is_canonical_base_pair('G', 'U') == True, f\"Test case 5 failed, expected True but got {is_canonical_base_pair('G', 'U')}\"\n",
    "    assert is_canonical_base_pair('U', 'G') == True, f\"Test case 6 failed, expected True but got {is_canonical_base_pair('U', 'G')}\"\n",
    "    assert is_canonical_base_pair('A', 'C') == False, f\"Test case 7 failed, expected False but got {is_canonical_base_pair('A', 'C')}\"\n",
    "    assert is_canonical_base_pair('C', 'A') == False, f\"Test case 8 failed, expected False but got {is_canonical_base_pair('C', 'A')}\"\n",
    "    assert is_canonical_base_pair('G', 'A') == False, f\"Test case 9 failed, expected False but got {is_canonical_base_pair('G', 'A')}\"\n",
    "    assert is_canonical_base_pair('A', 'G') == False, f\"Test case 10 failed, expected False but got {is_canonical_base_pair('A', 'G')}\"\n",
    "    assert is_canonical_base_pair('U', 'C') == False, f\"Test case 11 failed, expected False but got {is_canonical_base_pair('U', 'C')}\"\n",
    "    assert is_canonical_base_pair('C', 'U') == False, f\"Test case 12 failed, expected False but got {is_canonical_base_pair('C', 'U')}\"\n",
    "    assert is_canonical_base_pair('A', 'A') == False, f\"Test case 13 failed, expected False but got {is_canonical_base_pair('A', 'A')}\"\n",
    "    assert is_canonical_base_pair('C', 'C') == False, f\"Test case 14 failed, expected False but got {is_canonical_base_pair('C', 'C')}\"\n",
    "    assert is_canonical_base_pair('G', 'G') == False, f\"Test case 15 failed, expected False but got {is_canonical_base_pair('G', 'G')}\"\n",
    "    assert is_canonical_base_pair('U', 'U') == False, f\"Test case 16 failed, expected False but got {is_canonical_base_pair('U', 'U')}\"\n",
    "    try:\n",
    "        is_canonical_base_pair('P', 'T')\n",
    "    except AssertionError:\n",
    "        pass\n",
    "    else:\n",
    "        raise AssertionError(f\"Test case 17 failed, expected an assertion error but got {is_canonical_base_pair('A', 'T')}\")\n",
    "    return \"All tests passed\"\n",
    "\n",
    "test_is_canonical_base_pair()"
   ]
  },
  {
   "cell_type": "code",
   "execution_count": 19,
   "metadata": {},
   "outputs": [],
   "source": [
    "def is_canonical(dot_bracket:str, seq:str) -> bool:\n",
    "    \"\"\"\n",
    "    Check if the RNA structure is canonical\n",
    "\n",
    "    Args:\n",
    "        dot_bracket: Dot bracket notation of the RNA structure\n",
    "        seq: RNA sequence\n",
    "        \n",
    "    Returns:\n",
    "        True if the RNA structure is canonical, False otherwise\n",
    "    \"\"\"\n",
    "    base_pairs = parse_rna_structure(dot_bracket)\n",
    "    for i, j in base_pairs:\n",
    "        assert i < j, f\"Base pair ({i}, {j}) is invalid, i must be less than j\"\n",
    "        assert i > 0 and j > 0, f\"Base pair ({i}, {j}) is invalid, positions must be positive\"\n",
    "        assert i <= len(seq) and j <= len(seq), f\"Base pair ({i}, {j}) is invalid, sequence length is {len(seq)}\"\n",
    "        if not is_canonical_base_pair(seq[i-1], seq[j-1]):\n",
    "            return False\n",
    "                \n",
    "    return True"
   ]
  },
  {
   "cell_type": "code",
   "execution_count": 20,
   "metadata": {},
   "outputs": [
    {
     "data": {
      "text/plain": [
       "'All tests passed'"
      ]
     },
     "execution_count": 20,
     "metadata": {},
     "output_type": "execute_result"
    }
   ],
   "source": [
    "def test_is_canonical():\n",
    "    \"\"\"\n",
    "    Test function for is_canonical\n",
    "\n",
    "    Returns:\n",
    "        String All tests passed if all tests are successful, otherwise raises an exception\n",
    "    \"\"\"\n",
    "    assert is_canonical('......', 'ACGUAC') == True, f\"Test case 1 failed, expected True but got {is_canonical('......', 'ACGUAC')}\"\n",
    "    assert is_canonical('(....)', 'ACGUAC') == False, f\"Test case 2 failed, expected False but got {is_canonical('(....)', 'ACGUAC')}\"\n",
    "    assert is_canonical('(....)', 'ACGUAU') == True, f\"Test case 3 failed, expected True but got {is_canonical('(....)', 'ACGUAC')}\"\n",
    "    assert is_canonical('((....))', 'ACGGGUAC') == False, f\"Test case 4 failed, expected False but got {is_canonical('((....))', 'ACGGGUAC')}\"\n",
    "    assert is_canonical('((....))', 'ACGGGUGU') == True, f\"Test case 5 failed, expected True but got {is_canonical('((....))', 'ACGGGUGU')}\"\n",
    "    assert is_canonical('.((...))(...)', 'ACGUACCGACGGU') == True, f\"Test case 6 failed, expected True but got {is_canonical('.((...))(...)', 'ACGUACGGACGGU')}\"\n",
    "    assert is_canonical('.((...))(...)', 'ACGUACGUACGGC') == False, f\"Test case 7 failed, expected False but got {is_canonical('.((...))(...)', 'ACGUACGUACGGC')}\"\n",
    "    try:\n",
    "        is_canonical('.((...))(...)', 'ACGUACG')\n",
    "    except AssertionError:\n",
    "        pass\n",
    "    else:\n",
    "        raise AssertionError(f\"Test case 8 failed, expected an assertion error but got {is_canonical('.((...))(...)', 'ACGUACGUACGGCU')}\")\n",
    "   \n",
    "    return \"All tests passed\"\n",
    "\n",
    "test_is_canonical()"
   ]
  },
  {
   "cell_type": "code",
   "execution_count": 21,
   "metadata": {},
   "outputs": [],
   "source": [
    "class RNAMolecule:\n",
    "    \"\"\"\n",
    "    Represents an RNA sequence and its corresponding structure.\n",
    "    \n",
    "    Attributes:\n",
    "        seq (str): RNA sequence (e.g., \"AUGC\").\n",
    "        structure (str, optional): RNA structure in dot-bracket notation (e.g., \"..((..))..\").\n",
    "        \n",
    "    Methods:\n",
    "    \"\"\"\n",
    "    @staticmethod\n",
    "    def preprocess_rna_seq(seq: str) -> str:\n",
    "        \"\"\"\n",
    "        Preprocess RNA sequence by uppercasing and converting T to U\n",
    "\n",
    "        Args:\n",
    "            seq: RNA sequence\n",
    "\n",
    "        Returns:\n",
    "            preprocessed RNA sequence    \n",
    "        \"\"\"\n",
    "        return seq.upper().replace('T', 'U')\n",
    "\n",
    "    def __init__(self, seq, structure=None):\n",
    "        \"\"\"\n",
    "        Initializes an RNAMolecule object.\n",
    "        \n",
    "        Args:\n",
    "            seq (str): RNA sequence.\n",
    "            structure (str, optional): RNA structure in dot-bracket notation. Defaults to None.\n",
    "        \"\"\"\n",
    "        self.seq = self.preprocess_rna_seq(seq)\n",
    "        if structure is not None:\n",
    "            self.structure = structure\n",
    "        else:\n",
    "            self.structure = None\n",
    "\n",
    "    def __str__(self):\n",
    "        \"\"\"\n",
    "        Returns a string representation of the RNA molecule.\n",
    "        \n",
    "        Returns:\n",
    "            str: Sequence and structure in the format \"Sequence: <seq>, Structure: <structure>\".\n",
    "        \"\"\"\n",
    "        return f\"Sequence: {self.seq}\\nStructure: {self.structure or 'None'}\"\n",
    "    \n",
    "    @staticmethod\n",
    "    def edges_to_dot_bracket(edges, seq_len):\n",
    "        \"\"\"\n",
    "        Convert edges to dot bracket notation\n",
    "\n",
    "        Args:\n",
    "            edges: List of edges in the alignment graph\n",
    "            seq_len: Length of the sequence\n",
    "            \n",
    "        Returns:\n",
    "            Dot bracket notation of the alignment graph\n",
    "\n",
    "        Example:\n",
    "            edges_to_dot_bracket([(2, 8), (3, 7), (9, 13)], 13) -> '.((...))(...)'\n",
    "        \"\"\"\n",
    "        dot_bracket = ['.'] * seq_len\n",
    "        for i, j in edges:\n",
    "            assert i!=j, f\"Edges must be of the form (i, i) where i != j, i={i}, j={j}\"\n",
    "            assert i <= seq_len and j <= seq_len, f\"Edges must be within the sequence length, i={i}, j={j}, seq_len={seq_len}\"\n",
    "            assert i < j, f\"Edges must be of the form (i, j) where i < j, i={i}, j={j}\"\n",
    "            dot_bracket[i-1] = '('\n",
    "            dot_bracket[j-1] = ')'\n",
    "        return ''.join(dot_bracket)\n",
    "\n",
    "    def parse_rna_structure(self) -> list:\n",
    "        \"\"\"\n",
    "        Parse RNA structure from dot bracket notation\n",
    "\n",
    "        Args:\n",
    "            dot_bracket: Dot bracket notation of the RNA structure\n",
    "            \n",
    "        Returns:\n",
    "            List of base pairs\n",
    "\n",
    "        Example:\n",
    "            parse_rna_structure('.((...))(...)') -> [(2, 8), (3, 7), (9, 13)]\n",
    "        \"\"\"\n",
    "        dot_bracket = self.structure\n",
    "        stack = []\n",
    "        base_pairs = []\n",
    "        for i, c in enumerate(dot_bracket):\n",
    "            if c == '(':\n",
    "                stack.append(i+1)\n",
    "            elif c == ')':\n",
    "                assert len(stack) > 0, \"Unmatched brackets )\"\n",
    "                base_pairs.append((stack.pop(), i+1))\n",
    "        base_pairs = sorted(base_pairs, key=lambda x: x[0])\n",
    "        assert len(stack) == 0, \"Unmatched brackets (\"\n",
    "        return base_pairs\n",
    "    \n",
    "    @staticmethod\n",
    "    def is_canonical_base_pair(x, y):\n",
    "        \"\"\"\n",
    "        Check if two bases form a canonical base pair: (A,U),(C,G),(G,C),(G,U),(U,A), or (U,G)\n",
    "\n",
    "        Args:\n",
    "            x: base 1\n",
    "            y: base 2\n",
    "            \n",
    "        Returns:\n",
    "            True if x, y form a canonical base pair, False otherwise\n",
    "        \"\"\"\n",
    "        assert x in ['A', 'C', 'G', 'U'], f\"Invalid base {x}\"\n",
    "        assert y in ['A', 'C', 'G', 'U'], f\"Invalid base {y}\"\n",
    "        return (x == 'A' and y == 'U') or (x == 'U' and y == 'A') or (x == 'G' and y == 'C') or (x == 'C' and y == 'G') or (x == 'G' and y == 'U') or (x == 'U' and y == 'G')\n",
    "    \n",
    "    def is_canonical(self) -> bool:\n",
    "        \"\"\"\n",
    "        Check if the RNA structure is canonical\n",
    "\n",
    "        Args:\n",
    "            dot_bracket: Dot bracket notation of the RNA structure\n",
    "            seq: RNA sequence\n",
    "            \n",
    "        Returns:\n",
    "            True if the RNA structure is canonical, False otherwise\n",
    "        \"\"\"\n",
    "        seq = self.seq\n",
    "        dot_bracket = self.structure\n",
    "        if dot_bracket is None:\n",
    "            warnings.warn(\"Structure is not provided\")\n",
    "            return False\n",
    "        base_pairs = self.parse_rna_structure()\n",
    "        for i, j in base_pairs:\n",
    "            assert i < j, f\"Base pair ({i}, {j}) is invalid, i must be less than j\"\n",
    "            assert i > 0 and j > 0, f\"Base pair ({i}, {j}) is invalid, positions must be positive\"\n",
    "            assert i <= len(seq) and j <= len(seq), f\"Base pair ({i}, {j}) is invalid, sequence length is {len(seq)}\"\n",
    "            if not is_canonical_base_pair(seq[i-1], seq[j-1]):\n",
    "                return False\n",
    "                    \n",
    "        return True"
   ]
  },
  {
   "cell_type": "code",
   "execution_count": 22,
   "metadata": {},
   "outputs": [
    {
     "name": "stdout",
     "output_type": "stream",
     "text": [
      "Printing test:\n",
      "Sequence: ACGUAC\n",
      "Structure: (....)\n"
     ]
    },
    {
     "data": {
      "text/plain": [
       "'All tests passed'"
      ]
     },
     "execution_count": 22,
     "metadata": {},
     "output_type": "execute_result"
    }
   ],
   "source": [
    "def test_class_rna():\n",
    "    \"\"\"\n",
    "    Test function for RNAMolecule class\n",
    "\n",
    "    Returns:\n",
    "        String All tests passed if all tests are successful, otherwise raises an exception\n",
    "    \"\"\"\n",
    "    rna_test = RNAMolecule(\"ACGUAC\")\n",
    "    assert rna_test.seq == \"ACGUAC\", f\"Test case 1 failed, expected ACGUAC but got {rna_test.seq}\"\n",
    "    assert rna_test.structure == None, f\"Test case 2 failed, expected None but got {rna_test.structure}\"\n",
    "    rna_test = RNAMolecule(\"ACGUAC\", \"......\")\n",
    "    assert rna_test.seq == \"ACGUAC\", f\"Test case 3 failed, expected ACGUAC but got {rna_test.seq}\"\n",
    "    assert rna_test.structure == \"......\", f\"Test case 4 failed, expected ...... but got {rna_test.structure}\"\n",
    "    rna_test = RNAMolecule(\"ACGUAC\", \"(....)\")\n",
    "    assert rna_test.seq == \"ACGUAC\", f\"Test case 5 failed, expected ACGUAC but got {rna_test.seq}\"\n",
    "    assert rna_test.structure == \"(....)\", f\"Test case 6 failed, expected (....) but got {rna_test.structure}\"\n",
    "    assert str(rna_test) == \"Sequence: ACGUAC\\nStructure: (....)\", f\"Test case 7 failed, expected Sequence: ACGUAC\\nStructure: (....) but got {str(rna_test)}\"\n",
    "    print(\"Printing test:\\n\", rna_test, sep=\"\")\n",
    "    rna_test = RNAMolecule(\"acguac\", \"(....)\")\n",
    "    assert rna_test.seq == \"ACGUAC\", f\"Test case 8 failed, expected ACGUAC but got {rna_test.seq}\"\n",
    "    assert rna_test.structure == \"(....)\", f\"Test case 9 failed, expected (....) but got {rna_test.structure}\"\n",
    "    assert rna_test.is_canonical() == False, f\"Test case 10 is canonical failed, expected False but got {rna_test.is_canonical()}\"\n",
    "    assert rna_test.parse_rna_structure() == [(1, 6)], f\"Test case 11 failed, expected [(1, 6)] but got {rna_test.parse_rna_structure()}\"\n",
    "    return \"All tests passed\"\n",
    "\n",
    "\n",
    "test_class_rna()"
   ]
  },
  {
   "cell_type": "markdown",
   "metadata": {
    "id": "4fxr0yBB-Lsn"
   },
   "source": [
    "### Assignment 3: Map an RNA structure to a sequence based on an alignment string\n",
    "\n",
    "Another sub-problem that you will likely encounter in the RNA-project is the following: given an alignment string $x'$ and a dot bracket string $y'$ of the length of the alignment, obtain $x$ and the corresponding dot-bracket string $y$ that describes the 'projected' structure for $x$.\n",
    "\n",
    "This situation occurs when $y'$ describes a consensus structure of the sequences in an alignment. \n",
    "\n",
    "As an example, consider the following alignment\n",
    "with a dot-bracket string that describes the consensus base pairs.\n",
    "\n",
    "```\n",
    "GCCGCUUA-CAGGAAUCCUGC\n",
    "CGCGCUUAGCAGGAAUCCUCG\n",
    "GCC-CUUAG-U-GAAUCCAGC\n",
    "((.((...))(((...)))))\n",
    "```\n",
    "\n",
    "For the third alignment row and the dot bracket structure, we want to obtain the following sequence and projected structure\n",
    "```\n",
    "GCCCUUAGUGAAUCCAGC\n",
    "((.(...)((...).)))\n",
    "```\n",
    "Compared to the consensus structure, the projected structure does not contain any base pair that involved gaps in the alignment string.\n",
    "\n",
    "1. Write a function that performs the 'projection'. It should return the sequence and projected structure. Make use of previously implemented functions from the previous assignments, where appropriate.\n",
    "\n",
    "1. Test [and document] your function.\n",
    "\n",
    "1. Can you reasonably use [or even extend?] the class ```RnaMolecule``` from the previous assignment?"
   ]
  },
  {
   "cell_type": "code",
   "execution_count": 57,
   "metadata": {},
   "outputs": [],
   "source": [
    "def rna_structure_projection(aligned_sequence, dot_bracket_structure):\n",
    "    \"\"\" \n",
    "    Perform RNA structure projection. The projected structure does not contain any base pair that involved gaps in the alignment string.\n",
    "\n",
    "    Args:\n",
    "        aligned_sequence: RNA sequence\n",
    "        dot_bracket_structure: RNA structure in dot-bracket notation\n",
    "    \n",
    "    Returns:\n",
    "        (sequence, projected_structure): Tuple of RNA sequence and projected structure\n",
    "    \n",
    "    Example:\n",
    "        rna_structure_projection('GCC-CUUAG-U-GAAUCCAGC', '((.((...))(((...)))))') == ('GCCCUUAGUGAAUCCAGC', '((.(...)((...).)))')\n",
    "    \"\"\"\n",
    "    assert len(aligned_sequence) == len(dot_bracket_structure), \"Sequences must have the same length\"\n",
    "    edges = parse_rna_structure(dot_bracket_structure)\n",
    "    sequence = []\n",
    "    projected_structure = []\n",
    "    to_convert = [] # if first bracket is deleted, we need to delete the second bracket as well, so to convert second one in a dot\n",
    "    for i, (s, b) in enumerate(zip(aligned_sequence, dot_bracket_structure)):\n",
    "        if i in to_convert:\n",
    "            if b == ')':\n",
    "                b = '.'\n",
    "            to_convert.remove(i)\n",
    "        if s == '-':\n",
    "            if b == '(':\n",
    "                # we need to find in edges if there is a pair with i\n",
    "                found = False\n",
    "                for edge in edges:\n",
    "                    if edge[0] == i+1:\n",
    "                        found = True\n",
    "                        break\n",
    "                if found:\n",
    "                    to_convert.append(edge[1]-1)\n",
    "        else:\n",
    "            sequence.append(s)\n",
    "            projected_structure.append(b)\n",
    "    return ''.join(sequence), ''.join(projected_structure)"
   ]
  },
  {
   "cell_type": "code",
   "execution_count": 59,
   "metadata": {},
   "outputs": [
    {
     "data": {
      "text/plain": [
       "'RNA projection tests passed'"
      ]
     },
     "execution_count": 59,
     "metadata": {},
     "output_type": "execute_result"
    }
   ],
   "source": [
    "def test_rna_structure_projection():\n",
    "    assert rna_structure_projection('AC--G-T', \"((..).)\") == ('ACGT', '(())'), f\"Expected ('ACGT', '(())') but got {rna_structure_projection('AC--G-T', '((..).)')}\"\n",
    "    assert rna_structure_projection('--CA---T', '(.)((.))') == ('CAT', '.()'), f\"Expected ('CAT', '.()') but got {rna_structure_projection('--CA---T', '(.)((.))')}\"\n",
    "    assert rna_structure_projection('GCC-CUUAG-U-GAAUCCAGC', '((.((...))(((...)))))') == ('GCCCUUAGUGAAUCCAGC', '((.(...)((...).)))'), f\"Expected ('GCCCUUAGUGAAUCCAGC', '((.(...)((...).)))') but got {rna_structure_projection('GCC-CUUAG-U-GAAUCCAGC', '((.((...))(((...)))))')}\"\n",
    "    return \"RNA projection tests passed\"\n",
    "\n",
    "test_rna_structure_projection()\n"
   ]
  },
  {
   "cell_type": "markdown",
   "metadata": {
    "id": "RBsrSAhM-UOl"
   },
   "source": [
    "### Assignment 4: Count paths in an $n\\times m$ grid\n",
    "\n",
    "In both projects of the class, you will be asked to implement dynamic programming algorithms. As warm-up solve the following problem. An efficient solution uses dynamic programming.\n",
    "\n",
    "Given is a $n \\times m$ grid.\n",
    "\n",
    "For example, here is a grid of $3 \\times 4$ cells:\n",
    "```\n",
    ".     + - + - + - + - +\n",
    ".     |   |   |   |   |\n",
    ".     + - + - + - + - +\n",
    ".     |   |   |   |   |\n",
    ".     + - + - + - + - +\n",
    ".     |   |   |   |   |\n",
    ".     + - + - + - + - +\n",
    "```\n",
    "We want to count the number of paths from the upper-left to the lower-right cell, where paths can only move right or down in each step.\n",
    "Here, is the example grid with one possible path:\n",
    "```\n",
    ".     + - + - + - + - +\n",
    ".     | #---# |   |   |\n",
    ".     + - + | + - + - +\n",
    ".     |   | #---#---# |\n",
    ".     + - + - + - + | +\n",
    ".     |   |   |   | # |\n",
    ".     + - + - + - + - +\n",
    "```\n",
    "\n",
    "1. Write a recursive function that counts paths for $n\\times m$ based on the numbers of paths for $n-1\\times m$ and $n\\times m-1$. Test your function for some [small] instances. Why is this function inefficient?\n",
    "\n",
    "1. Based on the recursive function, develop an efficient function that avoids redundant computation of sub-problems due to dynamic programming.\n",
    "\n",
    "1. Consider the problem variant, where paths can as well move diagonally down-right. How is this problem related to a typical pairwise sequence alignment algorithm (like Needleman-Wunsch)?"
   ]
  },
  {
   "cell_type": "code",
   "execution_count": 67,
   "metadata": {},
   "outputs": [],
   "source": [
    "def path_number(n, m):\n",
    "    \"\"\"\n",
    "    Calculate the number of paths in an n x m grid from the top-left to the bottom-right\n",
    "\n",
    "    Args:\n",
    "        n: Number of rows\n",
    "        m: Number of columns\n",
    "\n",
    "    Returns:\n",
    "        Number of paths\n",
    "    \"\"\"\n",
    "    if n == 0 or m == 0:\n",
    "        return 0\n",
    "    if n == 1 or m == 1:\n",
    "        return 1\n",
    "    return path_number(n-1, m) + path_number(n, m-1)"
   ]
  },
  {
   "cell_type": "code",
   "execution_count": 71,
   "metadata": {},
   "outputs": [
    {
     "data": {
      "text/plain": [
       "6"
      ]
     },
     "execution_count": 71,
     "metadata": {},
     "output_type": "execute_result"
    }
   ],
   "source": [
    "path_number(3, 3)"
   ]
  },
  {
   "cell_type": "markdown",
   "metadata": {
    "id": "M-VH6R83LgSI"
   },
   "source": [
    "## The Vienna RNA package\n",
    "\n",
    "Before working on the RNA project, you should briefly familiarize yourself with the elementary functionality of the Vienna package. You will get example code that is almost ready to use. The most essential theory is/will be also presented in class and on lecture slides.\n",
    "\n",
    "We use the Vienna RNA package in the RNA project (mainly) to predict Minimum Free Energy structures of RNAs as well as to predict base pair probabilities; moreover, to call RNAalifold for comparison and benchmarks. These uses will be demonstrated in this document.\n",
    "\n",
    "The home of the Vienna package is\n",
    "\n",
    "https://www.tbi.univie.ac.at/RNA/\n",
    "\n",
    "Among other things, you will find **documentation of the Python API** (https://www.tbi.univie.ac.at/RNA/ViennaRNA/refman/index.html).\n",
    "\n",
    "Recall, that one can install the Vienna RNA package using pip: ```pip install viennarna```"
   ]
  },
  {
   "cell_type": "markdown",
   "metadata": {
    "id": "Addb5J6LLQbV"
   },
   "source": [
    "## Usage of the Vienna RNA package in Python"
   ]
  },
  {
   "cell_type": "markdown",
   "metadata": {
    "id": "-UuIlruCOuon",
    "lines_to_next_cell": 0
   },
   "source": [
    "One finds more details in the API documentation:\n",
    "\n",
    "https://www.tbi.univie.ac.at/RNA/ViennaRNA/refman/index.html"
   ]
  },
  {
   "cell_type": "markdown",
   "metadata": {
    "id": "qzu13xCRO0Tp"
   },
   "source": [
    "#### Predicting the Minimum free energy structure"
   ]
  },
  {
   "cell_type": "code",
   "execution_count": 74,
   "metadata": {
    "id": "yYGquGHgJ8ve"
   },
   "outputs": [
    {
     "name": "stdout",
     "output_type": "stream",
     "text": [
      "{ temperature: 37, dangles: 2, betaScale: 1, pf_smooth: 1, special_hp: 1, noLP: 0, noGU: 0, noGUclosure: 0, logML: 0, circ: 0, circ_penalty: 1, gquad: 0, uniq_ML: 0, energy_set: 0, backtrack: 1, backtrack_type: F, compute_bpp: 1, max_bp_span: -1, min_loop_size: 3, window_size: -1, oldAliEn: 0, ribo: 0, cv_fact: 1, nc_fact: 1, sfact: 1.07, salt: 1.021, saltMLLower: 6, saltMLUpper: 24, saltDPXInit: 99999, saltDPXInitFact: -45.324, helical_rise: 2.8, backbone_length: 6 }\n",
      "{ temperature: 37, dangles: 2, betaScale: 1, pf_smooth: 1, special_hp: 1, noLP: 0, noGU: 0, noGUclosure: 0, logML: 0, circ: 0, circ_penalty: 1, gquad: 0, uniq_ML: 0, energy_set: 0, backtrack: 1, backtrack_type: F, compute_bpp: 1, max_bp_span: -1, min_loop_size: 3, window_size: -1, oldAliEn: 0, ribo: 0, cv_fact: 1, nc_fact: 1, sfact: 1.07, salt: 1.021, saltMLLower: 6, saltMLUpper: 24, saltDPXInit: 99999, saltDPXInitFact: -45.324, helical_rise: 2.8, backbone_length: 6 }\n",
      "GAGUAGUGGAACCAGGCUAUGUUUGUGACUCGCAGACUAACA\n",
      "..(((((........)))))(((((((...)))))))..... [  -8.80 ]\n",
      "\n"
     ]
    }
   ],
   "source": [
    "import RNA\n",
    "# The RNA sequence\n",
    "sequence = \"GAGUAGUGGAACCAGGCUAUGUUUGUGACUCGCAGACUAACA\"\n",
    "\n",
    "# create a new model details structure\n",
    "md = RNA.md()\n",
    "print(md)\n",
    "\n",
    "# optionally one could change all kinds of parameters\n",
    "# md.temperature = 25.0 # 25 Deg Celcius\n",
    "# md.dangles = 1 # keep default dangles=2 for compatibility with partition folding\n",
    "print(md)\n",
    "\n",
    "# create a fold compound\n",
    "fc = RNA.fold_compound(sequence, md)\n",
    "\n",
    "# predict Minmum Free Energy and corresponding secondary structure\n",
    "(ss, mfe) = fc.mfe()\n",
    "\n",
    "# print sequence, structure and MFE\n",
    "print(\"%s\\n%s [ %6.2f ]\\n\" % (sequence, ss, mfe))"
   ]
  },
  {
   "cell_type": "markdown",
   "metadata": {},
   "source": [
    "For interpretation the dot bracket string in a program, the RNA lib supports conversion to a 'pair table'.\n",
    "This can be used as alternative to a base pair list (as you were asked to produce before in parse_RNA_structure) or allows to more easily generate one."
   ]
  },
  {
   "cell_type": "code",
   "execution_count": 75,
   "metadata": {
    "id": "yYGquGHgJ8ve"
   },
   "outputs": [
    {
     "name": "stdout",
     "output_type": "stream",
     "text": [
      "{ data: [42,0,0,20,19,18,17,16,0,0,0,0,0,0,0,0,7,6,5,4,3,37,36,35,34,33,32,31,0,0,0,27,26,25,24,23,22,21,0,0,0,0,0], type: RNA.VAR_ARRAY_LINEAR | RNA.VAR_ARRAY_ONE_BASED}\n"
     ]
    }
   ],
   "source": [
    "# parse the dot-bracket structure:\n",
    "# RNA.ptable returns a table, such that table[i]=j if (i.j) pair or 0 if i is unpaired.\n",
    "# note: positions are 1-based; table[0] contains the length of the structure.\n",
    "pt = RNA.ptable(ss)\n",
    "print(pt)"
   ]
  },
  {
   "cell_type": "markdown",
   "metadata": {},
   "source": [
    "The RNA library implements functionality to draw structures. Here is code to draw the predicted structure."
   ]
  },
  {
   "cell_type": "code",
   "execution_count": 76,
   "metadata": {},
   "outputs": [
    {
     "data": {
      "image/svg+xml": [
       "<svg xmlns=\"http://www.w3.org/2000/svg\" height=\"452\" width=\"452\">\n",
       "  <script type=\"text/ecmascript\">\n",
       "    <![CDATA[\n",
       "      var shown = 1;\n",
       "      function click() {\n",
       "        var seq = document.getElementById(\"seq\");\n",
       "        if (shown==1) {\n",
       "          seq.setAttribute(\"style\", \"visibility: hidden\");\n",
       "          shown = 0;\n",
       "        } else {\n",
       "          seq.setAttribute(\"style\", \"visibility: visible\");\n",
       "          shown = 1;\n",
       "        }\n",
       "      }\n",
       "    ]]>\n",
       "  </script>\n",
       "  <style type=\"text/css\">\n",
       "    <![CDATA[\n",
       "      .nucleotide {\n",
       "        font-family: SansSerif;\n",
       "      }\n",
       "      .backbone {\n",
       "        stroke: grey;\n",
       "        fill:   none;\n",
       "        stroke-width: 1.5;\n",
       "      }\n",
       "      .basepairs {\n",
       "        stroke: red;\n",
       "        fill:   none;\n",
       "        stroke-width: 2.5;\n",
       "      }\n",
       "    ]]>\n",
       "  </style>\n",
       "\n",
       "  <rect style=\"stroke: white; fill: white\" height=\"452\" x=\"0\" y=\"0\" width=\"452\" onclick=\"click(evt)\"/>\n",
       "  <g transform=\"scale(1.852459,1.852459) translate(22.500000,28.500000)\">\n",
       "    <polyline class=\"backbone\" id=\"outline\" points=\"       82.534,53.134       82.870,68.130       91.518,80.388       76.608,82.029       61.698,83.669       46.788,85.310       31.878,86.950       21.539,75.379       6.366,72.128       -7.806,78.447       -15.528,91.906       -13.831,107.330       -3.367,118.788       11.840,121.875       25.943,115.402       33.519,101.860       48.429,100.220       63.339,98.579       78.249,96.939       93.159,95.298       107.909,98.023       121.249,104.881       134.589,111.740       147.929,118.598       161.270,125.457       174.610,132.316       187.950,139.174       199.272,151.794       214.532,144.408       211.660,127.699       194.808,125.834       181.468,118.976       168.128,112.117       154.788,105.258       141.448,98.400       128.108,91.541       114.768,84.682       127.223,76.324       132.895,62.438       129.854,47.749       119.134,37.257       104.383,34.533     \"/>\n",
       "    <g id=\"pairs\">\n",
       "      <line class=\"basepairs\" id=\"3,20\" x1=\"91.51800\" y1=\"80.38802\" x2=\"93.15856\" y2=\"95.29803\"/>\n",
       "      <line class=\"basepairs\" id=\"4,19\" x1=\"76.60798\" y1=\"82.02859\" x2=\"78.24855\" y2=\"96.93861\"/>\n",
       "      <line class=\"basepairs\" id=\"5,18\" x1=\"61.69797\" y1=\"83.66916\" x2=\"63.33854\" y2=\"98.57917\"/>\n",
       "      <line class=\"basepairs\" id=\"6,17\" x1=\"46.78795\" y1=\"85.30972\" x2=\"48.42852\" y2=\"100.21974\"/>\n",
       "      <line class=\"basepairs\" id=\"7,16\" x1=\"31.87794\" y1=\"86.95029\" x2=\"33.51851\" y2=\"101.86031\"/>\n",
       "      <line class=\"basepairs\" id=\"21,37\" x1=\"107.90905\" y1=\"98.02259\" x2=\"114.76768\" y2=\"84.68246\"/>\n",
       "      <line class=\"basepairs\" id=\"22,36\" x1=\"121.24918\" y1=\"104.88123\" x2=\"128.10782\" y2=\"91.54109\"/>\n",
       "      <line class=\"basepairs\" id=\"23,35\" x1=\"134.58931\" y1=\"111.73986\" x2=\"141.44795\" y2=\"98.39973\"/>\n",
       "      <line class=\"basepairs\" id=\"24,34\" x1=\"147.92944\" y1=\"118.59850\" x2=\"154.78809\" y2=\"105.25836\"/>\n",
       "      <line class=\"basepairs\" id=\"25,33\" x1=\"161.26958\" y1=\"125.45712\" x2=\"168.12822\" y2=\"112.11700\"/>\n",
       "      <line class=\"basepairs\" id=\"26,32\" x1=\"174.60971\" y1=\"132.31577\" x2=\"181.46834\" y2=\"118.97563\"/>\n",
       "      <line class=\"basepairs\" id=\"27,31\" x1=\"187.94984\" y1=\"139.17439\" x2=\"194.80847\" y2=\"125.83427\"/>\n",
       "    </g>\n",
       "    <g transform=\"translate(-4.6, 4)\" id=\"seq\">\n",
       "      <text class=\"nucleotide\" x=\"82.534\" y=\"53.134\">G</text>\n",
       "      <text class=\"nucleotide\" x=\"82.870\" y=\"68.130\">A</text>\n",
       "      <text class=\"nucleotide\" x=\"91.518\" y=\"80.388\">G</text>\n",
       "      <text class=\"nucleotide\" x=\"76.608\" y=\"82.029\">U</text>\n",
       "      <text class=\"nucleotide\" x=\"61.698\" y=\"83.669\">A</text>\n",
       "      <text class=\"nucleotide\" x=\"46.788\" y=\"85.310\">G</text>\n",
       "      <text class=\"nucleotide\" x=\"31.878\" y=\"86.950\">U</text>\n",
       "      <text class=\"nucleotide\" x=\"21.539\" y=\"75.379\">G</text>\n",
       "      <text class=\"nucleotide\" x=\"6.366\" y=\"72.128\">G</text>\n",
       "      <text class=\"nucleotide\" x=\"-7.806\" y=\"78.447\">A</text>\n",
       "      <text class=\"nucleotide\" x=\"-15.528\" y=\"91.906\">A</text>\n",
       "      <text class=\"nucleotide\" x=\"-13.831\" y=\"107.330\">C</text>\n",
       "      <text class=\"nucleotide\" x=\"-3.367\" y=\"118.788\">C</text>\n",
       "      <text class=\"nucleotide\" x=\"11.840\" y=\"121.875\">A</text>\n",
       "      <text class=\"nucleotide\" x=\"25.943\" y=\"115.402\">G</text>\n",
       "      <text class=\"nucleotide\" x=\"33.519\" y=\"101.860\">G</text>\n",
       "      <text class=\"nucleotide\" x=\"48.429\" y=\"100.220\">C</text>\n",
       "      <text class=\"nucleotide\" x=\"63.339\" y=\"98.579\">U</text>\n",
       "      <text class=\"nucleotide\" x=\"78.249\" y=\"96.939\">A</text>\n",
       "      <text class=\"nucleotide\" x=\"93.159\" y=\"95.298\">U</text>\n",
       "      <text class=\"nucleotide\" x=\"107.909\" y=\"98.023\">G</text>\n",
       "      <text class=\"nucleotide\" x=\"121.249\" y=\"104.881\">U</text>\n",
       "      <text class=\"nucleotide\" x=\"134.589\" y=\"111.740\">U</text>\n",
       "      <text class=\"nucleotide\" x=\"147.929\" y=\"118.598\">U</text>\n",
       "      <text class=\"nucleotide\" x=\"161.270\" y=\"125.457\">G</text>\n",
       "      <text class=\"nucleotide\" x=\"174.610\" y=\"132.316\">U</text>\n",
       "      <text class=\"nucleotide\" x=\"187.950\" y=\"139.174\">G</text>\n",
       "      <text class=\"nucleotide\" x=\"199.272\" y=\"151.794\">A</text>\n",
       "      <text class=\"nucleotide\" x=\"214.532\" y=\"144.408\">C</text>\n",
       "      <text class=\"nucleotide\" x=\"211.660\" y=\"127.699\">U</text>\n",
       "      <text class=\"nucleotide\" x=\"194.808\" y=\"125.834\">C</text>\n",
       "      <text class=\"nucleotide\" x=\"181.468\" y=\"118.976\">G</text>\n",
       "      <text class=\"nucleotide\" x=\"168.128\" y=\"112.117\">C</text>\n",
       "      <text class=\"nucleotide\" x=\"154.788\" y=\"105.258\">A</text>\n",
       "      <text class=\"nucleotide\" x=\"141.448\" y=\"98.400\">G</text>\n",
       "      <text class=\"nucleotide\" x=\"128.108\" y=\"91.541\">A</text>\n",
       "      <text class=\"nucleotide\" x=\"114.768\" y=\"84.682\">C</text>\n",
       "      <text class=\"nucleotide\" x=\"127.223\" y=\"76.324\">U</text>\n",
       "      <text class=\"nucleotide\" x=\"132.895\" y=\"62.438\">A</text>\n",
       "      <text class=\"nucleotide\" x=\"129.854\" y=\"47.749\">A</text>\n",
       "      <text class=\"nucleotide\" x=\"119.134\" y=\"37.257\">C</text>\n",
       "      <text class=\"nucleotide\" x=\"104.383\" y=\"34.533\">A</text>\n",
       "    </g>\n",
       "  </g>\n",
       "<script type=\"text/ecmascript\">\n",
       "<![CDATA[\n",
       "  let sequence = \"GAGUAGUGGAACCAGGCUAUGUUUGUGACUCGCAGACUAACA\";\n",
       "  let structure = \"..(((((........)))))(((((((...))))))).....\";\n",
       "  const basepairs = [\n",
       "    { i: 3, j: 20, type: \"cWW\" },\n",
       "    { i: 4, j: 19, type: \"cWW\" },\n",
       "    { i: 5, j: 18, type: \"cWW\" },\n",
       "    { i: 6, j: 17, type: \"cWW\" },\n",
       "    { i: 7, j: 16, type: \"cWW\" },\n",
       "    { i: 21, j: 37, type: \"cWW\" },\n",
       "    { i: 22, j: 36, type: \"cWW\" },\n",
       "    { i: 23, j: 35, type: \"cWW\" },\n",
       "    { i: 24, j: 34, type: \"cWW\" },\n",
       "    { i: 25, j: 33, type: \"cWW\" },\n",
       "    { i: 26, j: 32, type: \"cWW\" },\n",
       "    { i: 27, j: 31, type: \"cWW\" }];\n",
       "  const coords = [\n",
       "    { x: 82.534, y: 53.134 },\n",
       "    { x: 82.870, y: 68.130 },\n",
       "    { x: 91.518, y: 80.388 },\n",
       "    { x: 76.608, y: 82.029 },\n",
       "    { x: 61.698, y: 83.669 },\n",
       "    { x: 46.788, y: 85.310 },\n",
       "    { x: 31.878, y: 86.950 },\n",
       "    { x: 21.539, y: 75.379 },\n",
       "    { x:  6.366, y: 72.128 },\n",
       "    { x: -7.806, y: 78.447 },\n",
       "    { x: -15.528, y: 91.906 },\n",
       "    { x: -13.831, y: 107.330 },\n",
       "    { x: -3.367, y: 118.788 },\n",
       "    { x: 11.840, y: 121.875 },\n",
       "    { x: 25.943, y: 115.402 },\n",
       "    { x: 33.519, y: 101.860 },\n",
       "    { x: 48.429, y: 100.220 },\n",
       "    { x: 63.339, y: 98.579 },\n",
       "    { x: 78.249, y: 96.939 },\n",
       "    { x: 93.159, y: 95.298 },\n",
       "    { x: 107.909, y: 98.023 },\n",
       "    { x: 121.249, y: 104.881 },\n",
       "    { x: 134.589, y: 111.740 },\n",
       "    { x: 147.929, y: 118.598 },\n",
       "    { x: 161.270, y: 125.457 },\n",
       "    { x: 174.610, y: 132.316 },\n",
       "    { x: 187.950, y: 139.174 },\n",
       "    { x: 199.272, y: 151.794 },\n",
       "    { x: 214.532, y: 144.408 },\n",
       "    { x: 211.660, y: 127.699 },\n",
       "    { x: 194.808, y: 125.834 },\n",
       "    { x: 181.468, y: 118.976 },\n",
       "    { x: 168.128, y: 112.117 },\n",
       "    { x: 154.788, y: 105.258 },\n",
       "    { x: 141.448, y: 98.400 },\n",
       "    { x: 128.108, y: 91.541 },\n",
       "    { x: 114.768, y: 84.682 },\n",
       "    { x: 127.223, y: 76.324 },\n",
       "    { x: 132.895, y: 62.438 },\n",
       "    { x: 129.854, y: 47.749 },\n",
       "    { x: 119.134, y: 37.257 },\n",
       "    { x: 104.383, y: 34.533 }];\n",
       "]]>\n",
       "</script>\n",
       "</svg>"
      ],
      "text/plain": [
       "<IPython.core.display.SVG object>"
      ]
     },
     "execution_count": 76,
     "metadata": {},
     "output_type": "execute_result"
    }
   ],
   "source": [
    "import tempfile\n",
    "from IPython.display import SVG\n",
    "\n",
    "fp = tempfile.NamedTemporaryFile(suffix=\"svg\")\n",
    "RNA.svg_rna_plot(sequence, structure=ss, ssfile=fp.name)\n",
    "SVG(fp.name)"
   ]
  },
  {
   "cell_type": "markdown",
   "metadata": {
    "id": "um6XmLZGQV_v"
   },
   "source": [
    "#### Predicting partition funtions and  base pair probabilities"
   ]
  },
  {
   "cell_type": "code",
   "execution_count": 77,
   "metadata": {
    "id": "CXNjxKF-QcJX",
    "lines_to_next_cell": 2
   },
   "outputs": [
    {
     "data": {
      "text/plain": [
       "['..(((((........)))))(((((((...))))))).....', -9.020990371704102]"
      ]
     },
     "execution_count": 77,
     "metadata": {},
     "output_type": "execute_result"
    }
   ],
   "source": [
    "## Code adapted from the Vienna RNA package API documentation\n",
    "\n",
    "import RNA\n",
    "sequence = \"GAGUAGUGGAACCAGGCUAUGUUUGUGACUCGCAGACUAACA\"\n",
    "# create model details\n",
    "md = RNA.md()\n",
    "# activate unique multibranch loop decomposition\n",
    "md.uniq_ML = 1\n",
    "# create fold compound object\n",
    "fc = RNA.fold_compound(sequence, md)\n",
    "# compute MFE\n",
    "(ss, mfe) = fc.mfe()\n",
    "# rescale Boltzmann factors according to MFE; rescaling avoids numerical problems for long sequences\n",
    "fc.exp_params_rescale(mfe)\n",
    "# compute partition function to fill DP matrices\n",
    "fc.pf()"
   ]
  },
  {
   "cell_type": "code",
   "execution_count": 81,
   "metadata": {},
   "outputs": [
    {
     "data": {
      "image/svg+xml": [
       "<svg xmlns=\"http://www.w3.org/2000/svg\" height=\"452\" width=\"452\">\n",
       "  <script type=\"text/ecmascript\">\n",
       "    <![CDATA[\n",
       "      var shown = 1;\n",
       "      function click() {\n",
       "        var seq = document.getElementById(\"seq\");\n",
       "        if (shown==1) {\n",
       "          seq.setAttribute(\"style\", \"visibility: hidden\");\n",
       "          shown = 0;\n",
       "        } else {\n",
       "          seq.setAttribute(\"style\", \"visibility: visible\");\n",
       "          shown = 1;\n",
       "        }\n",
       "      }\n",
       "    ]]>\n",
       "  </script>\n",
       "  <style type=\"text/css\">\n",
       "    <![CDATA[\n",
       "      .nucleotide {\n",
       "        font-family: SansSerif;\n",
       "      }\n",
       "      .backbone {\n",
       "        stroke: grey;\n",
       "        fill:   none;\n",
       "        stroke-width: 1.5;\n",
       "      }\n",
       "      .basepairs {\n",
       "        stroke: red;\n",
       "        fill:   none;\n",
       "        stroke-width: 2.5;\n",
       "      }\n",
       "    ]]>\n",
       "  </style>\n",
       "\n",
       "  <rect style=\"stroke: white; fill: white\" height=\"452\" x=\"0\" y=\"0\" width=\"452\" onclick=\"click(evt)\"/>\n",
       "  <g transform=\"scale(1.852459,1.852459) translate(22.500000,28.500000)\">\n",
       "    <polyline class=\"backbone\" id=\"outline\" points=\"       82.534,53.134       82.870,68.130       91.518,80.388       76.608,82.029       61.698,83.669       46.788,85.310       31.878,86.950       21.539,75.379       6.366,72.128       -7.806,78.447       -15.528,91.906       -13.831,107.330       -3.367,118.788       11.840,121.875       25.943,115.402       33.519,101.860       48.429,100.220       63.339,98.579       78.249,96.939       93.159,95.298       107.909,98.023       121.249,104.881       134.589,111.740       147.929,118.598       161.270,125.457       174.610,132.316       187.950,139.174       199.272,151.794       214.532,144.408       211.660,127.699       194.808,125.834       181.468,118.976       168.128,112.117       154.788,105.258       141.448,98.400       128.108,91.541       114.768,84.682       127.223,76.324       132.895,62.438       129.854,47.749       119.134,37.257       104.383,34.533     \"/>\n",
       "    <g id=\"pairs\">\n",
       "      <line class=\"basepairs\" id=\"3,20\" x1=\"91.51800\" y1=\"80.38802\" x2=\"93.15856\" y2=\"95.29803\"/>\n",
       "      <line class=\"basepairs\" id=\"4,19\" x1=\"76.60798\" y1=\"82.02859\" x2=\"78.24855\" y2=\"96.93861\"/>\n",
       "      <line class=\"basepairs\" id=\"5,18\" x1=\"61.69797\" y1=\"83.66916\" x2=\"63.33854\" y2=\"98.57917\"/>\n",
       "      <line class=\"basepairs\" id=\"6,17\" x1=\"46.78795\" y1=\"85.30972\" x2=\"48.42852\" y2=\"100.21974\"/>\n",
       "      <line class=\"basepairs\" id=\"7,16\" x1=\"31.87794\" y1=\"86.95029\" x2=\"33.51851\" y2=\"101.86031\"/>\n",
       "      <line class=\"basepairs\" id=\"21,37\" x1=\"107.90905\" y1=\"98.02259\" x2=\"114.76768\" y2=\"84.68246\"/>\n",
       "      <line class=\"basepairs\" id=\"22,36\" x1=\"121.24918\" y1=\"104.88123\" x2=\"128.10782\" y2=\"91.54109\"/>\n",
       "      <line class=\"basepairs\" id=\"23,35\" x1=\"134.58931\" y1=\"111.73986\" x2=\"141.44795\" y2=\"98.39973\"/>\n",
       "      <line class=\"basepairs\" id=\"24,34\" x1=\"147.92944\" y1=\"118.59850\" x2=\"154.78809\" y2=\"105.25836\"/>\n",
       "      <line class=\"basepairs\" id=\"25,33\" x1=\"161.26958\" y1=\"125.45712\" x2=\"168.12822\" y2=\"112.11700\"/>\n",
       "      <line class=\"basepairs\" id=\"26,32\" x1=\"174.60971\" y1=\"132.31577\" x2=\"181.46834\" y2=\"118.97563\"/>\n",
       "      <line class=\"basepairs\" id=\"27,31\" x1=\"187.94984\" y1=\"139.17439\" x2=\"194.80847\" y2=\"125.83427\"/>\n",
       "    </g>\n",
       "    <g transform=\"translate(-4.6, 4)\" id=\"seq\">\n",
       "      <text class=\"nucleotide\" x=\"82.534\" y=\"53.134\">G</text>\n",
       "      <text class=\"nucleotide\" x=\"82.870\" y=\"68.130\">A</text>\n",
       "      <text class=\"nucleotide\" x=\"91.518\" y=\"80.388\">G</text>\n",
       "      <text class=\"nucleotide\" x=\"76.608\" y=\"82.029\">U</text>\n",
       "      <text class=\"nucleotide\" x=\"61.698\" y=\"83.669\">A</text>\n",
       "      <text class=\"nucleotide\" x=\"46.788\" y=\"85.310\">G</text>\n",
       "      <text class=\"nucleotide\" x=\"31.878\" y=\"86.950\">U</text>\n",
       "      <text class=\"nucleotide\" x=\"21.539\" y=\"75.379\">G</text>\n",
       "      <text class=\"nucleotide\" x=\"6.366\" y=\"72.128\">G</text>\n",
       "      <text class=\"nucleotide\" x=\"-7.806\" y=\"78.447\">A</text>\n",
       "      <text class=\"nucleotide\" x=\"-15.528\" y=\"91.906\">A</text>\n",
       "      <text class=\"nucleotide\" x=\"-13.831\" y=\"107.330\">C</text>\n",
       "      <text class=\"nucleotide\" x=\"-3.367\" y=\"118.788\">C</text>\n",
       "      <text class=\"nucleotide\" x=\"11.840\" y=\"121.875\">A</text>\n",
       "      <text class=\"nucleotide\" x=\"25.943\" y=\"115.402\">G</text>\n",
       "      <text class=\"nucleotide\" x=\"33.519\" y=\"101.860\">G</text>\n",
       "      <text class=\"nucleotide\" x=\"48.429\" y=\"100.220\">C</text>\n",
       "      <text class=\"nucleotide\" x=\"63.339\" y=\"98.579\">U</text>\n",
       "      <text class=\"nucleotide\" x=\"78.249\" y=\"96.939\">A</text>\n",
       "      <text class=\"nucleotide\" x=\"93.159\" y=\"95.298\">U</text>\n",
       "      <text class=\"nucleotide\" x=\"107.909\" y=\"98.023\">G</text>\n",
       "      <text class=\"nucleotide\" x=\"121.249\" y=\"104.881\">U</text>\n",
       "      <text class=\"nucleotide\" x=\"134.589\" y=\"111.740\">U</text>\n",
       "      <text class=\"nucleotide\" x=\"147.929\" y=\"118.598\">U</text>\n",
       "      <text class=\"nucleotide\" x=\"161.270\" y=\"125.457\">G</text>\n",
       "      <text class=\"nucleotide\" x=\"174.610\" y=\"132.316\">U</text>\n",
       "      <text class=\"nucleotide\" x=\"187.950\" y=\"139.174\">G</text>\n",
       "      <text class=\"nucleotide\" x=\"199.272\" y=\"151.794\">A</text>\n",
       "      <text class=\"nucleotide\" x=\"214.532\" y=\"144.408\">C</text>\n",
       "      <text class=\"nucleotide\" x=\"211.660\" y=\"127.699\">U</text>\n",
       "      <text class=\"nucleotide\" x=\"194.808\" y=\"125.834\">C</text>\n",
       "      <text class=\"nucleotide\" x=\"181.468\" y=\"118.976\">G</text>\n",
       "      <text class=\"nucleotide\" x=\"168.128\" y=\"112.117\">C</text>\n",
       "      <text class=\"nucleotide\" x=\"154.788\" y=\"105.258\">A</text>\n",
       "      <text class=\"nucleotide\" x=\"141.448\" y=\"98.400\">G</text>\n",
       "      <text class=\"nucleotide\" x=\"128.108\" y=\"91.541\">A</text>\n",
       "      <text class=\"nucleotide\" x=\"114.768\" y=\"84.682\">C</text>\n",
       "      <text class=\"nucleotide\" x=\"127.223\" y=\"76.324\">U</text>\n",
       "      <text class=\"nucleotide\" x=\"132.895\" y=\"62.438\">A</text>\n",
       "      <text class=\"nucleotide\" x=\"129.854\" y=\"47.749\">A</text>\n",
       "      <text class=\"nucleotide\" x=\"119.134\" y=\"37.257\">C</text>\n",
       "      <text class=\"nucleotide\" x=\"104.383\" y=\"34.533\">A</text>\n",
       "    </g>\n",
       "  </g>\n",
       "<script type=\"text/ecmascript\">\n",
       "<![CDATA[\n",
       "  let sequence = \"GAGUAGUGGAACCAGGCUAUGUUUGUGACUCGCAGACUAACA\";\n",
       "  let structure = \"..(((((........)))))(((((((...))))))).....\";\n",
       "  const basepairs = [\n",
       "    { i: 3, j: 20, type: \"cWW\" },\n",
       "    { i: 4, j: 19, type: \"cWW\" },\n",
       "    { i: 5, j: 18, type: \"cWW\" },\n",
       "    { i: 6, j: 17, type: \"cWW\" },\n",
       "    { i: 7, j: 16, type: \"cWW\" },\n",
       "    { i: 21, j: 37, type: \"cWW\" },\n",
       "    { i: 22, j: 36, type: \"cWW\" },\n",
       "    { i: 23, j: 35, type: \"cWW\" },\n",
       "    { i: 24, j: 34, type: \"cWW\" },\n",
       "    { i: 25, j: 33, type: \"cWW\" },\n",
       "    { i: 26, j: 32, type: \"cWW\" },\n",
       "    { i: 27, j: 31, type: \"cWW\" }];\n",
       "  const coords = [\n",
       "    { x: 82.534, y: 53.134 },\n",
       "    { x: 82.870, y: 68.130 },\n",
       "    { x: 91.518, y: 80.388 },\n",
       "    { x: 76.608, y: 82.029 },\n",
       "    { x: 61.698, y: 83.669 },\n",
       "    { x: 46.788, y: 85.310 },\n",
       "    { x: 31.878, y: 86.950 },\n",
       "    { x: 21.539, y: 75.379 },\n",
       "    { x:  6.366, y: 72.128 },\n",
       "    { x: -7.806, y: 78.447 },\n",
       "    { x: -15.528, y: 91.906 },\n",
       "    { x: -13.831, y: 107.330 },\n",
       "    { x: -3.367, y: 118.788 },\n",
       "    { x: 11.840, y: 121.875 },\n",
       "    { x: 25.943, y: 115.402 },\n",
       "    { x: 33.519, y: 101.860 },\n",
       "    { x: 48.429, y: 100.220 },\n",
       "    { x: 63.339, y: 98.579 },\n",
       "    { x: 78.249, y: 96.939 },\n",
       "    { x: 93.159, y: 95.298 },\n",
       "    { x: 107.909, y: 98.023 },\n",
       "    { x: 121.249, y: 104.881 },\n",
       "    { x: 134.589, y: 111.740 },\n",
       "    { x: 147.929, y: 118.598 },\n",
       "    { x: 161.270, y: 125.457 },\n",
       "    { x: 174.610, y: 132.316 },\n",
       "    { x: 187.950, y: 139.174 },\n",
       "    { x: 199.272, y: 151.794 },\n",
       "    { x: 214.532, y: 144.408 },\n",
       "    { x: 211.660, y: 127.699 },\n",
       "    { x: 194.808, y: 125.834 },\n",
       "    { x: 181.468, y: 118.976 },\n",
       "    { x: 168.128, y: 112.117 },\n",
       "    { x: 154.788, y: 105.258 },\n",
       "    { x: 141.448, y: 98.400 },\n",
       "    { x: 128.108, y: 91.541 },\n",
       "    { x: 114.768, y: 84.682 },\n",
       "    { x: 127.223, y: 76.324 },\n",
       "    { x: 132.895, y: 62.438 },\n",
       "    { x: 129.854, y: 47.749 },\n",
       "    { x: 119.134, y: 37.257 },\n",
       "    { x: 104.383, y: 34.533 }];\n",
       "]]>\n",
       "</script>\n",
       "</svg>"
      ],
      "text/plain": [
       "<IPython.core.display.SVG object>"
      ]
     },
     "execution_count": 81,
     "metadata": {},
     "output_type": "execute_result"
    }
   ],
   "source": [
    "fp = tempfile.NamedTemporaryFile(suffix=\"svg\")\n",
    "RNA.svg_rna_plot(sequence, structure=ss, ssfile=fp.name)\n",
    "SVG(fp.name)"
   ]
  },
  {
   "cell_type": "markdown",
   "metadata": {},
   "source": [
    "After calculating the partition function, one can get a matrix of base pair probabilities from the fold compound. Attention: this matrix is 1-based and only entries i<j are meaningful."
   ]
  },
  {
   "cell_type": "code",
   "execution_count": 79,
   "metadata": {
    "id": "CXNjxKF-QcJX",
    "lines_to_next_cell": 2
   },
   "outputs": [
    {
     "name": "stdout",
     "output_type": "stream",
     "text": [
      "((0.0, 0.0, 0.0, 0.0, 0.0, 0.0, 0.0, 0.0, 0.0, 0.0, 0.0, 0.0, 0.0, 0.0, 0.0, 0.0, 0.0, 0.0, 0.0, 0.0, 0.0, 0.0, 0.0, 0.0, 0.0, 0.0, 0.0, 0.0, 0.0, 0.0, 0.0, 0.0, 0.0, 0.0, 0.0, 0.0, 0.0, 0.0, 0.0, 0.0, 0.0, 0.0, 0.0), (0.0, 0.0, 0.0, 0.0, 0.0, 0.0, 0.0, 2.471517529842516e-06, 0.0, 0.0, 0.0, 0.0, 6.791430803472922e-06, 0.0010463644992186186, 0.0, 0.0, 0.0, 7.447410311850145e-05, 2.92913569414249e-05, 0.0, 0.0005026182125581969, 0.0, 3.417231000231424e-05, 1.848688945200157e-05, 5.428577622559219e-06, 0.0, 2.060338991945053e-08, 0.0, 0.0, 3.3297354773749255e-08, 1.2277730722081867e-08, 0.007621723242911448, 0.0, 2.7482845615862142e-05, 0.0, 0.0, 0.0, 3.630494075522003e-05, 8.06813645180743e-05, 0.0, 0.0, 0.0024215220879167947, 0.0), (0.0, 0.0, 0.0, 0.0, 0.0, 0.0, 0.0, 2.4132247404604086e-05, 0.0, 0.0, 0.0, 0.0, 0.0, 0.0, 0.0, 0.0, 0.0, 0.0, 0.02522054561995579, 0.0, 0.003759500839455213, 0.0, 2.829946707802918e-05, 7.251982919229705e-06, 1.0551914003292455e-06, 0.0, 6.341868188769273e-08, 0.0, 0.0, 0.0, 0.0076331813525831686, 0.0, 0.0, 0.0, 0.0, 0.0, 0.0, 0.0, 0.01228451929749862, 0.0, 0.0, 0.0, 0.0), (0.0, 0.0, 0.0, 0.0, 0.0, 0.0, 0.0, 8.008785475010497e-07, 0.0, 0.0, 0.0, 0.0, 0.0017210870405628754, 2.6918999287934286e-05, 0.0, 0.0, 0.0, 0.027118390544365142, 1.827238073830991e-05, 0.0, 0.806997857800251, 0.0, 2.8792067531732243e-06, 9.189248811188164e-07, 2.330048367765904e-08, 0.0, 5.344761320695179e-09, 0.0, 0.0, 0.0076310939476650925, 1.2719400087885743e-08, 3.82726695211251e-05, 0.0, 0.00011242270908933213, 0.0, 0.0, 0.0, 0.01297393592234111, 1.224581435162121e-05, 0.0, 0.0, 0.0008377588120426312, 0.0), (0.0, 0.0, 0.0, 0.0, 0.0, 0.0, 0.0, 0.0, 1.4169811859304604e-06, 6.279322847476924e-06, 1.0571540384303805e-05, 0.001624719755618363, 0.0, 0.0, 3.1509682609820135e-05, 1.9356196473435807e-05, 0.02664536737658954, 0.0, 0.0, 0.90977838473362, 0.0, 2.4070558508803183e-06, 0.0, 0.0, 0.0, 2.1599331062115793e-07, 0.0, 2.3493551599400515e-05, 0.007411993943860133, 0.0, 0.0, 0.0, 0.00010962014090778305, 0.0, 3.227394925624587e-05, 3.116721535670099e-05, 0.01282027884998651, 0.0, 0.0, 0.00011225379007453834, 0.0006099918800578654, 0.0, 1.2419086441248824e-06), (0.0, 0.0, 0.0, 0.0, 0.0, 0.0, 0.0, 0.0, 0.0, 0.0, 0.0, 0.0, 0.0, 0.0, 0.0, 0.0, 0.0, 0.0, 0.9275664547596566, 0.0, 7.610469058738918e-05, 0.0, 7.159782642491383e-07, 5.638035427745225e-07, 7.841020501432848e-07, 0.0, 4.048250792555198e-05, 0.0, 0.0, 0.0, 0.00015384449718869848, 0.0, 0.0, 0.0, 0.0, 0.0, 0.0, 0.0, 0.00015479658048561532, 0.0, 0.0, 0.0, 0.0), (0.0, 0.0, 0.0, 0.0, 0.0, 0.0, 0.0, 0.0, 0.0, 0.0, 0.0, 0.0, 0.001093012330521772, 0.0015865293807492194, 0.0, 0.0, 0.0, 0.930111237431039, 6.871856841270755e-06, 0.0, 0.005349710633413857, 0.0, 1.7312612416763193e-07, 2.838660724329433e-07, 2.812036113682114e-07, 0.0, 0.0002747996132643291, 0.0, 0.0, 0.0001604543759432918, 1.3317478865755167e-06, 2.205322003614306e-05, 0.0, 0.01368235289986571, 0.0, 0.0, 0.0, 0.00013696439203732909, 3.2704928752142053e-06, 0.0, 0.0, 0.00016798083295736639, 0.0), (0.0, 0.0, 0.0, 0.0, 0.0, 0.0, 0.0, 0.0, 0.0, 0.0, 0.0, 0.0009040746505623336, 0.0, 0.0, 0.026097879361169567, 0.0007633414900203916, 0.9219242393310795, 0.0, 0.0, 0.006019051425881852, 0.0, 4.279194390223666e-08, 0.0, 0.0, 0.0, 8.130886336096424e-05, 0.0, 4.260523969710387e-05, 0.00015766926929864448, 0.0, 0.0, 0.0, 0.01368072080043472, 0.0, 0.0001913241001004507, 1.0652590505662046e-06, 0.00010908591585621054, 0.0, 0.0, 5.228537780490503e-06, 0.00016231665301794733, 0.0, 2.245070332654453e-05), (0.0, 0.0, 0.0, 0.0, 0.0, 0.0, 0.0, 0.0, 0.0, 0.0, 0.0, 0.0, 0.0008571250298849575, 0.034247140403342036, 0.0, 0.0, 0.0, 0.0004101137112780576, 0.006182759388341789, 0.0, 1.7177916087011636e-06, 0.0, 4.868174650921953e-07, 1.6896615099344594e-06, 0.00010259794063848611, 0.0, 8.572610993408825e-05, 0.0, 0.0, 7.040300822732987e-05, 3.981920315785778e-05, 0.01357970367968027, 0.0, 0.0002169533507061946, 0.0, 0.0, 0.0, 1.4422551817820383e-07, 7.098593472215313e-06, 0.0, 0.0, 3.614501346068112e-05, 0.0), (0.0, 0.0, 0.0, 0.0, 0.0, 0.0, 0.0, 0.0, 0.0, 0.0, 0.0, 0.0, 0.0, 0.00852290604939894, 0.0, 0.0, 0.0, 0.006182837843292728, 6.593294803825963e-06, 0.0, 4.328252141616388e-07, 0.0, 1.2870552754311343e-06, 8.420376783681066e-05, 0.006987917674441009, 0.0, 9.76235152142961e-05, 0.0, 0.0, 0.0017183374308932767, 0.010107855168920073, 0.00035488502904609137, 0.0, 1.1970287809396923e-05, 0.0, 0.0, 0.0, 4.3514956084162954e-06, 2.9941199360990217e-06, 0.0, 0.0, 2.3779664915276423e-06, 0.0), (0.0, 0.0, 0.0, 0.0, 0.0, 0.0, 0.0, 0.0, 0.0, 0.0, 0.0, 0.0, 0.0, 0.0, 0.0, 0.0, 0.0, 0.0, 3.4328554254209688e-06, 0.0, 1.6676438041775292e-06, 0.0, 6.179118955522784e-05, 0.0071266623098328085, 0.00012200590048471457, 0.0, 6.465879636394587e-06, 0.0, 0.0, 0.0, 0.0003840256025923822, 0.0, 0.0, 0.0, 0.0, 0.0, 0.0, 0.0, 1.656100878566222e-06, 0.0, 0.0, 0.0, 0.0), (0.0, 0.0, 0.0, 0.0, 0.0, 0.0, 0.0, 0.0, 0.0, 0.0, 0.0, 0.0, 0.0, 0.0, 0.0, 0.0, 0.0, 0.0, 4.444412620596271e-06, 0.0, 4.5394000762254e-06, 0.0, 0.007150691561617741, 0.00011197488532087448, 5.927811166904594e-07, 0.0, 0.0007197908109840249, 0.0, 0.0, 0.0, 6.178534107971362e-06, 0.0, 0.0, 0.0, 0.0, 0.0, 0.0, 0.0, 5.475751797991456e-06, 0.0, 0.0, 0.0, 0.0), (0.0, 0.0, 0.0, 0.0, 0.0, 0.0, 0.0, 0.0, 0.0, 0.0, 0.0, 0.0, 0.0, 0.0, 0.0, 0.0, 3.610067837718053e-05, 0.0, 0.0, 0.0, 0.0, 0.006615845766684764, 0.0, 0.0, 0.0, 0.0004046389539108098, 0.0, 0.008501581231544411, 0.0, 0.0, 0.0, 0.0, 4.817784143608876e-06, 0.0, 0.0, 3.142765912038037e-07, 0.0, 0.0, 0.0, 0.0, 0.0, 0.0, 0.0), (0.0, 0.0, 0.0, 0.0, 0.0, 0.0, 0.0, 0.0, 0.0, 0.0, 0.0, 0.0, 0.0, 0.0, 0.0, 0.0, 0.0, 0.0, 0.0, 0.0, 0.0, 0.0007655691289269283, 0.0, 0.0, 0.0, 0.013833813644714865, 0.0, 8.788151681292134e-05, 0.0, 0.0, 0.0, 0.0, 1.4803747874329522e-06, 0.0, 0.0, 1.2063613330037437e-06, 0.0, 0.0, 0.0, 0.0, 0.0, 0.0, 0.0), (0.0, 0.0, 0.0, 0.0, 0.0, 0.0, 0.0, 0.0, 0.0, 0.0, 0.0, 0.0, 0.0, 0.0, 0.0, 0.0, 0.0, 0.0, 8.213064493660327e-06, 0.0, 0.0012825688958819225, 0.0, 7.213951435543085e-07, 4.076470075856627e-05, 0.014170021574486782, 0.0, 8.17092010187293e-05, 0.0, 0.0, 0.0, 1.0979987873252613e-05, 0.0, 0.0, 0.0, 0.0, 0.0, 0.0, 0.0, 1.8591972760884768e-06, 0.0, 0.0, 0.0, 0.0), (0.0, 0.0, 0.0, 0.0, 0.0, 0.0, 0.0, 0.0, 0.0, 0.0, 0.0, 0.0, 0.0, 0.0, 0.0, 0.0, 0.0, 0.0, 0.0, 0.0, 4.1922275937461245e-05, 0.0, 4.0634316849240866e-05, 0.014099350473273403, 7.403376313567276e-06, 0.0, 6.480007918522086e-07, 0.0, 0.0, 1.226555723582129e-05, 3.3750809251035488e-06, 4.1987797101955505e-07, 0.0, 4.833954775906416e-08, 0.0, 0.0, 0.0, 1.2253655900070287e-06, 4.196811405782009e-06, 0.0, 0.0, 0.0010787498797968599, 0.0), (0.0, 0.0, 0.0, 0.0, 0.0, 0.0, 0.0, 0.0, 0.0, 0.0, 0.0, 0.0, 0.0, 0.0, 0.0, 0.0, 0.0, 0.0, 0.0, 0.0, 3.893493002618455e-06, 0.0, 0.014116081440932514, 5.822456857625675e-06, 4.393842300965597e-05, 0.0, 7.065951677916012e-05, 0.0, 0.0, 4.1458348513765905e-06, 1.8484945521699846e-07, 1.6587643148883396e-08, 0.0, 7.442608651242266e-06, 0.0, 0.0, 0.0, 2.381258532657926e-06, 4.569526548974666e-06, 0.0, 0.0, 0.001488760752071429, 0.0), (0.0, 0.0, 0.0, 0.0, 0.0, 0.0, 0.0, 0.0, 0.0, 0.0, 0.0, 0.0, 0.0, 0.0, 0.0, 0.0, 0.0, 0.0, 0.0, 0.0, 0.0, 0.013961790273677737, 0.0, 0.0, 0.0, 7.358939889078983e-05, 0.0, 4.5923915531236935e-06, 0.0, 0.0, 0.0, 0.0, 7.4184745708407734e-06, 0.0, 0.0, 6.520598264715993e-07, 0.0, 0.0, 0.0, 0.0, 0.0, 0.0, 0.0), (0.0, 0.0, 0.0, 0.0, 0.0, 0.0, 0.0, 0.0, 0.0, 0.0, 0.0, 0.0, 0.0, 0.0, 0.0, 0.0, 0.0, 0.0, 0.0, 0.0, 0.0, 0.0, 0.0, 0.0, 0.0, 2.839145082786479e-06, 0.0, 5.296713690196217e-06, 3.277927289937806e-08, 0.0, 0.0, 0.0, 2.4215689070267703e-08, 0.0, 5.689328147681017e-07, 1.7839612068106652e-08, 5.1422852311608124e-08, 0.0, 0.0, 0.003611387165950807, 0.00019433447334126655, 0.0, 4.857104563501571e-06), (0.0, 0.0, 0.0, 0.0, 0.0, 0.0, 0.0, 0.0, 0.0, 0.0, 0.0, 0.0, 0.0, 0.0, 0.0, 0.0, 0.0, 0.0, 0.0, 0.0, 0.0, 0.0, 0.0, 6.068943381037105e-07, 5.038247346003271e-06, 0.0, 6.331653271587533e-06, 0.0, 0.0, 0.0, 1.7576415975812231e-06, 0.0, 0.0, 0.0, 0.0, 0.0, 0.0, 0.0, 0.004287484294118838, 0.0, 0.0, 0.0, 0.0), (0.0, 0.0, 0.0, 0.0, 0.0, 0.0, 0.0, 0.0, 0.0, 0.0, 0.0, 0.0, 0.0, 0.0, 0.0, 0.0, 0.0, 0.0, 0.0, 0.0, 0.0, 0.0, 0.0, 0.0, 0.0, 5.818637851989506e-06, 0.0, 4.4078260000995194e-08, 7.8793866615798e-08, 0.0, 0.0, 0.0, 3.4893223849836116e-07, 0.0, 2.435416789414507e-06, 3.09312302509902e-08, 3.539342798948862e-07, 0.0, 0.0, 0.002347621622467611, 0.00012258784752001712, 0.0, 0.00023528968726601923), (0.0, 0.0, 0.0, 0.0, 0.0, 0.0, 0.0, 0.0, 0.0, 0.0, 0.0, 0.0, 0.0, 0.0, 0.0, 0.0, 0.0, 0.0, 0.0, 0.0, 0.0, 0.0, 0.0, 0.0, 0.0, 0.0, 5.5493463921686505e-08, 0.0, 0.0, 2.0126564060209595e-05, 3.037759184579047e-08, 6.85336329938142e-07, 0.0, 5.313094772578596e-06, 0.0, 0.0, 0.0, 0.9704939428048137, 0.00023556254557526723, 0.0, 0.0, 0.0009316484491748429, 0.0), (0.0, 0.0, 0.0, 0.0, 0.0, 0.0, 0.0, 0.0, 0.0, 0.0, 0.0, 0.0, 0.0, 0.0, 0.0, 0.0, 0.0, 0.0, 0.0, 0.0, 0.0, 0.0, 0.0, 0.0, 0.0, 0.0, 0.0, 3.098314768209327e-07, 1.9903508477628843e-05, 0.0, 0.0, 0.0, 4.968201628671151e-06, 0.0, 1.5576242634728263e-07, 5.22966389277892e-06, 0.9748265325797505, 0.0, 0.0, 1.7908644255365351e-06, 0.0008542095098602561, 0.0, 6.011797292618815e-08), (0.0, 0.0, 0.0, 0.0, 0.0, 0.0, 0.0, 0.0, 0.0, 0.0, 0.0, 0.0, 0.0, 0.0, 0.0, 0.0, 0.0, 0.0, 0.0, 0.0, 0.0, 0.0, 0.0, 0.0, 0.0, 0.0, 0.0, 1.6196194681264377e-05, 5.543498869069359e-08, 0.0, 0.0, 0.0, 5.312704667185168e-08, 0.0, 4.489779738723554e-06, 0.9744397606027999, 7.551187351955347e-06, 0.0, 0.0, 0.0005583680495527546, 1.3360964732632759e-06, 0.0, 5.154462391964729e-08), (0.0, 0.0, 0.0, 0.0, 0.0, 0.0, 0.0, 0.0, 0.0, 0.0, 0.0, 0.0, 0.0, 0.0, 0.0, 0.0, 0.0, 0.0, 0.0, 0.0, 0.0, 0.0, 0.0, 0.0, 0.0, 0.0, 0.0, 0.0, 5.1829072977312216e-08, 0.0, 0.0, 0.0, 5.56382502713731e-06, 0.0, 0.9754839959331608, 4.376563209665426e-06, 3.487764766960283e-05, 0.0, 0.0, 1.8674483900148092e-06, 1.1239895466981582e-07, 0.0, 1.737479029420481e-05), (0.0, 0.0, 0.0, 0.0, 0.0, 0.0, 0.0, 0.0, 0.0, 0.0, 0.0, 0.0, 0.0, 0.0, 0.0, 0.0, 0.0, 0.0, 0.0, 0.0, 0.0, 0.0, 0.0, 0.0, 0.0, 0.0, 0.0, 0.0, 0.0, 1.9105522768905383e-06, 1.296553924766865e-07, 1.044593190771776e-05, 0.0, 0.9773343414225572, 0.0, 0.0, 0.0, 0.0004095262390000499, 1.0139591841977889e-06, 0.0, 0.0, 2.8616208588275062e-05, 0.0), (0.0, 0.0, 0.0, 0.0, 0.0, 0.0, 0.0, 0.0, 0.0, 0.0, 0.0, 0.0, 0.0, 0.0, 0.0, 0.0, 0.0, 0.0, 0.0, 0.0, 0.0, 0.0, 0.0, 0.0, 0.0, 0.0, 0.0, 0.0, 0.0, 0.0, 0.0, 0.0, 0.9731162399670984, 0.0, 7.587998243841797e-05, 2.5728314519807375e-06, 0.00040037647514310854, 0.0, 0.0, 1.9039249276390205e-07, 2.7995446402920914e-05, 0.0, 1.6788917536117125e-07), (0.0, 0.0, 0.0, 0.0, 0.0, 0.0, 0.0, 0.0, 0.0, 0.0, 0.0, 0.0, 0.0, 0.0, 0.0, 0.0, 0.0, 0.0, 0.0, 0.0, 0.0, 0.0, 0.0, 0.0, 0.0, 0.0, 0.0, 0.0, 0.0, 0.0, 0.0, 0.8828244873093045, 0.0, 8.364333391708666e-05, 0.0, 0.0, 0.0, 2.50968531445495e-06, 2.5758208186406634e-07, 0.0, 0.0, 2.6976193373151345e-07, 0.0), (0.0, 0.0, 0.0, 0.0, 0.0, 0.0, 0.0, 0.0, 0.0, 0.0, 0.0, 0.0, 0.0, 0.0, 0.0, 0.0, 0.0, 0.0, 0.0, 0.0, 0.0, 0.0, 0.0, 0.0, 0.0, 0.0, 0.0, 0.0, 0.0, 0.0, 0.0, 0.0, 0.0, 0.0, 0.0, 0.0, 0.0, 0.0, 1.686679141922576e-06, 0.0, 0.0, 0.0, 0.0), (0.0, 0.0, 0.0, 0.0, 0.0, 0.0, 0.0, 0.0, 0.0, 0.0, 0.0, 0.0, 0.0, 0.0, 0.0, 0.0, 0.0, 0.0, 0.0, 0.0, 0.0, 0.0, 0.0, 0.0, 0.0, 0.0, 0.0, 0.0, 0.0, 0.0, 0.0, 0.0, 0.0, 0.0, 0.0, 2.147766282300816e-05, 0.0, 0.0, 0.0, 0.0, 0.0, 0.0, 0.0), (0.0, 0.0, 0.0, 0.0, 0.0, 0.0, 0.0, 0.0, 0.0, 0.0, 0.0, 0.0, 0.0, 0.0, 0.0, 0.0, 0.0, 0.0, 0.0, 0.0, 0.0, 0.0, 0.0, 0.0, 0.0, 0.0, 0.0, 0.0, 0.0, 0.0, 0.0, 0.0, 0.0, 0.0, 1.7667209374740546e-05, 3.2093480906697254e-07, 1.433939828413757e-05, 0.0, 0.0, 7.173374894282395e-08, 7.754897888830854e-09, 0.0, 3.8222663827621516e-09), (0.0, 0.0, 0.0, 0.0, 0.0, 0.0, 0.0, 0.0, 0.0, 0.0, 0.0, 0.0, 0.0, 0.0, 0.0, 0.0, 0.0, 0.0, 0.0, 0.0, 0.0, 0.0, 0.0, 0.0, 0.0, 0.0, 0.0, 0.0, 0.0, 0.0, 0.0, 0.0, 0.0, 0.0, 0.0, 1.510269938661955e-05, 0.0, 0.0, 0.0, 0.0, 0.0, 0.0, 0.0), (0.0, 0.0, 0.0, 0.0, 0.0, 0.0, 0.0, 0.0, 0.0, 0.0, 0.0, 0.0, 0.0, 0.0, 0.0, 0.0, 0.0, 0.0, 0.0, 0.0, 0.0, 0.0, 0.0, 0.0, 0.0, 0.0, 0.0, 0.0, 0.0, 0.0, 0.0, 0.0, 0.0, 0.0, 0.0, 0.0, 0.0, 4.992862591029904e-05, 1.6518037497067424e-06, 0.0, 0.0, 6.881498105817787e-05, 0.0), (0.0, 0.0, 0.0, 0.0, 0.0, 0.0, 0.0, 0.0, 0.0, 0.0, 0.0, 0.0, 0.0, 0.0, 0.0, 0.0, 0.0, 0.0, 0.0, 0.0, 0.0, 0.0, 0.0, 0.0, 0.0, 0.0, 0.0, 0.0, 0.0, 0.0, 0.0, 0.0, 0.0, 0.0, 0.0, 0.0, 0.0, 0.0, 0.0, 0.0, 0.0, 0.0, 0.0), (0.0, 0.0, 0.0, 0.0, 0.0, 0.0, 0.0, 0.0, 0.0, 0.0, 0.0, 0.0, 0.0, 0.0, 0.0, 0.0, 0.0, 0.0, 0.0, 0.0, 0.0, 0.0, 0.0, 0.0, 0.0, 0.0, 0.0, 0.0, 0.0, 0.0, 0.0, 0.0, 0.0, 0.0, 0.0, 0.0, 0.0, 0.0, 1.0495516729306255e-06, 0.0, 0.0, 0.0, 0.0), (0.0, 0.0, 0.0, 0.0, 0.0, 0.0, 0.0, 0.0, 0.0, 0.0, 0.0, 0.0, 0.0, 0.0, 0.0, 0.0, 0.0, 0.0, 0.0, 0.0, 0.0, 0.0, 0.0, 0.0, 0.0, 0.0, 0.0, 0.0, 0.0, 0.0, 0.0, 0.0, 0.0, 0.0, 0.0, 0.0, 0.0, 0.0, 0.0, 0.0, 0.0, 6.058518903673477e-05, 0.0), (0.0, 0.0, 0.0, 0.0, 0.0, 0.0, 0.0, 0.0, 0.0, 0.0, 0.0, 0.0, 0.0, 0.0, 0.0, 0.0, 0.0, 0.0, 0.0, 0.0, 0.0, 0.0, 0.0, 0.0, 0.0, 0.0, 0.0, 0.0, 0.0, 0.0, 0.0, 0.0, 0.0, 0.0, 0.0, 0.0, 0.0, 0.0, 0.0, 0.0, 0.0, 0.0, 0.0), (0.0, 0.0, 0.0, 0.0, 0.0, 0.0, 0.0, 0.0, 0.0, 0.0, 0.0, 0.0, 0.0, 0.0, 0.0, 0.0, 0.0, 0.0, 0.0, 0.0, 0.0, 0.0, 0.0, 0.0, 0.0, 0.0, 0.0, 0.0, 0.0, 0.0, 0.0, 0.0, 0.0, 0.0, 0.0, 0.0, 0.0, 0.0, 0.0, 0.0, 0.0, 0.0, 0.0), (0.0, 0.0, 0.0, 0.0, 0.0, 0.0, 0.0, 0.0, 0.0, 0.0, 0.0, 0.0, 0.0, 0.0, 0.0, 0.0, 0.0, 0.0, 0.0, 0.0, 0.0, 0.0, 0.0, 0.0, 0.0, 0.0, 0.0, 0.0, 0.0, 0.0, 0.0, 0.0, 0.0, 0.0, 0.0, 0.0, 0.0, 0.0, 0.0, 0.0, 0.0, 0.0, 3.545277402791412e-05), (0.0, 0.0, 0.0, 0.0, 0.0, 0.0, 0.0, 0.0, 0.0, 0.0, 0.0, 0.0, 0.0, 0.0, 0.0, 0.0, 0.0, 0.0, 0.0, 0.0, 0.0, 0.0, 0.0, 0.0, 0.0, 0.0, 0.0, 0.0, 0.0, 0.0, 0.0, 0.0, 0.0, 0.0, 0.0, 0.0, 0.0, 0.0, 0.0, 0.0, 0.0, 0.0, 0.0), (0.0, 0.0, 0.0, 0.0, 0.0, 0.0, 0.0, 0.0, 0.0, 0.0, 0.0, 0.0, 0.0, 0.0, 0.0, 0.0, 0.0, 0.0, 0.0, 0.0, 0.0, 0.0, 0.0, 0.0, 0.0, 0.0, 0.0, 0.0, 0.0, 0.0, 0.0, 0.0, 0.0, 0.0, 0.0, 0.0, 0.0, 0.0, 0.0, 0.0, 0.0, 0.0, 0.0), (0.0, 0.0, 0.0, 0.0, 0.0, 0.0, 0.0, 0.0, 0.0, 0.0, 0.0, 0.0, 0.0, 0.0, 0.0, 0.0, 0.0, 0.0, 0.0, 0.0, 0.0, 0.0, 0.0, 0.0, 0.0, 0.0, 0.0, 0.0, 0.0, 0.0, 0.0, 0.0, 0.0, 0.0, 0.0, 0.0, 0.0, 0.0, 0.0, 0.0, 0.0, 0.0, 0.0), (0.0, 0.0, 0.0, 0.0, 0.0, 0.0, 0.0, 0.0, 0.0, 0.0, 0.0, 0.0, 0.0, 0.0, 0.0, 0.0, 0.0, 0.0, 0.0, 0.0, 0.0, 0.0, 0.0, 0.0, 0.0, 0.0, 0.0, 0.0, 0.0, 0.0, 0.0, 0.0, 0.0, 0.0, 0.0, 0.0, 0.0, 0.0, 0.0, 0.0, 0.0, 0.0, 0.0))\n"
     ]
    }
   ],
   "source": [
    "bpp = fc.bpp()\n",
    "print(bpp)"
   ]
  },
  {
   "cell_type": "markdown",
   "metadata": {},
   "source": [
    "The base pair probabilities can be visualized"
   ]
  },
  {
   "cell_type": "code",
   "execution_count": 80,
   "metadata": {
    "id": "CXNjxKF-QcJX",
    "lines_to_next_cell": 2
   },
   "outputs": [
    {
     "data": {
      "text/plain": [
       "<matplotlib.image.AxesImage at 0x12a8227d0>"
      ]
     },
     "execution_count": 80,
     "metadata": {},
     "output_type": "execute_result"
    },
    {
     "data": {
      "image/png": "[encoded data removed]",
      "text/plain": [
       "<Figure size 640x480 with 1 Axes>"
      ]
     },
     "metadata": {},
     "output_type": "display_data"
    }
   ],
   "source": [
    "# produce simple 'dot plot'\n",
    "import matplotlib.pyplot as plt\n",
    "bpp2 = [p**2 for row in bpp[1:] for p in row[1:]]\n",
    "plt.imshow(bpp)"
   ]
  },
  {
   "cell_type": "markdown",
   "metadata": {},
   "source": [
    "We will also need unpaired probabilities for nucleotides i. They can be computed from the base pair probabilities. We obtain an unpaired probability profile of our RNA."
   ]
  },
  {
   "cell_type": "code",
   "execution_count": 82,
   "metadata": {
    "id": "CXNjxKF-QcJX",
    "lines_to_next_cell": 2
   },
   "outputs": [
    {
     "data": {
      "text/plain": [
       "[<matplotlib.lines.Line2D at 0x12c0906d0>]"
      ]
     },
     "execution_count": 82,
     "metadata": {},
     "output_type": "execute_result"
    },
    {
     "data": {
      "image/png": "[encoded data removed]",
      "text/plain": [
       "<Figure size 640x480 with 1 Axes>"
      ]
     },
     "metadata": {},
     "output_type": "display_data"
    }
   ],
   "source": [
    "# compute unpaired probabilities (0-based)\n",
    "# ATTENTION: bpp contains probability values only for i<j\n",
    "unp = [1-sum(bpp[i][j]+bpp[j][i] for j in range(1,len(sequence)+1)) for i in range(1,len(sequence)+1)]\n",
    "#print(unp)\n",
    "plt.plot(unp)"
   ]
  },
  {
   "cell_type": "markdown",
   "metadata": {
    "id": "xNneIY2uRzuv"
   },
   "source": [
    "#### Predicting structures from alignments\n",
    "\n",
    "The Vienna package can predict structures from Alignments by the *Alifold* method. For this purpose, we pass an alignment (instead of a single sequence) to the fold compound. Then, we can ask it to produce an mfe structure (or partion function, ...) as in the single sequence case."
   ]
  },
  {
   "cell_type": "code",
   "execution_count": 88,
   "metadata": {
    "id": "hYTkIXRBSRhv"
   },
   "outputs": [
    {
     "name": "stdout",
     "output_type": "stream",
     "text": [
      "GGAGGAUUAGCUCAGCUGGGAGAGCAUCUGCCUUACAAGCAGAGGG-----------UCGGCGGUUCGAGCCCGUCAUCCUCC\n",
      "GCCUUCCUAGCUCAG-UGGUAGAGCGCACGGCUUUUAACCGUGUGG-----------UCGUGGGUUCGAUCCCCACGGAAGGC\n",
      "GCCUUUAUAGCUUAG-UGGUAAAGCGAUAAACUGAAGAUUUAUUUA-----------CAUGUAGUUCGAUUCUCAUUAAGGGC\n",
      "GCGGAUAUAACUUAGGGGUUAAAGUUGCAGAUUGUGGCUCUGAAAA------------CACGGGUUCGAAUCCCGUUAUUCGC\n",
      "GGAAAAUU-GAUCAUCGGCAAGAUAAGUUAUUUACUAAAUAAUAGGAUUUAAUAACCUGGUGAGUUCGAAUCUCACAUUUUCC\n",
      "(((((((..((((........))))((((((.......))))))...............(((((.......)))))))))))) [ -25.34,   7.80 ]\n",
      "\n"
     ]
    },
    {
     "data": {
      "image/svg+xml": [
       "<svg xmlns=\"http://www.w3.org/2000/svg\" height=\"452\" width=\"452\">\n",
       "  <script type=\"text/ecmascript\">\n",
       "    <![CDATA[\n",
       "      var shown = 1;\n",
       "      function click() {\n",
       "        var seq = document.getElementById(\"seq\");\n",
       "        if (shown==1) {\n",
       "          seq.setAttribute(\"style\", \"visibility: hidden\");\n",
       "          shown = 0;\n",
       "        } else {\n",
       "          seq.setAttribute(\"style\", \"visibility: visible\");\n",
       "          shown = 1;\n",
       "        }\n",
       "      }\n",
       "    ]]>\n",
       "  </script>\n",
       "  <style type=\"text/css\">\n",
       "    <![CDATA[\n",
       "      .nucleotide {\n",
       "        font-family: SansSerif;\n",
       "      }\n",
       "      .backbone {\n",
       "        stroke: grey;\n",
       "        fill:   none;\n",
       "        stroke-width: 1.5;\n",
       "      }\n",
       "      .basepairs {\n",
       "        stroke: red;\n",
       "        fill:   none;\n",
       "        stroke-width: 2.5;\n",
       "      }\n",
       "    ]]>\n",
       "  </style>\n",
       "\n",
       "  <rect style=\"stroke: white; fill: white\" height=\"452\" x=\"0\" y=\"0\" width=\"452\" onclick=\"click(evt)\"/>\n",
       "  <g transform=\"scale(1.860082,1.860082) translate(23.000000,29.500000)\">\n",
       "    <polyline class=\"backbone\" id=\"outline\" points=\"       80.889,-22.387       80.889,-7.387       80.889,7.613       80.889,22.613       80.889,37.613       80.889,52.613       80.889,67.613       81.209,68.030       81.533,68.444       81.860,68.855       67.371,64.973       52.882,61.090       38.393,57.208       32.958,42.674       20.000,34.138       4.500,34.883       -7.580,44.622       -11.596,59.610       -6.004,74.085       7.047,82.479       22.537,81.567       34.511,71.697       48.999,75.579       63.488,79.462       77.977,83.344       83.718,97.202       76.218,110.192       68.718,123.183       61.218,136.173       53.718,149.164       46.218,162.154       30.787,164.691       20.637,176.587       20.559,192.224       30.591,204.220       45.996,206.910       59.499,199.024       64.726,184.286       59.208,169.654       66.708,156.664       74.208,143.673       81.708,130.683       89.208,117.692       96.708,104.702       90.732,118.460       89.967,133.441       94.513,147.735       103.788,159.523       116.613,167.303       131.353,170.084       146.131,167.511       159.064,159.912       168.505,148.256       173.250,134.026       172.697,119.037       166.915,105.196       156.640,94.267       143.182,87.643       128.255,86.167       113.762,90.026       127.725,84.546       141.688,79.065       155.652,73.585       169.615,68.105       183.260,75.742       198.613,72.771       208.423,60.593       208.059,44.960       197.693,33.252       182.219,30.998       168.943,39.262       164.135,54.142       150.171,59.622       136.208,65.102       122.245,70.582       108.282,76.063       95.889,67.613       95.889,52.613       95.889,37.613       95.889,22.613       95.889,7.613       95.889,-7.387       95.889,-22.387     \"/>\n",
       "    <g id=\"pairs\">\n",
       "      <line class=\"basepairs\" id=\"1,83\" x1=\"80.88857\" y1=\"-22.38730\" x2=\"95.88857\" y2=\"-22.38730\"/>\n",
       "      <line class=\"basepairs\" id=\"2,82\" x1=\"80.88857\" y1=\"-7.38730\" x2=\"95.88857\" y2=\"-7.38730\"/>\n",
       "      <line class=\"basepairs\" id=\"3,81\" x1=\"80.88857\" y1=\"7.61270\" x2=\"95.88857\" y2=\"7.61270\"/>\n",
       "      <line class=\"basepairs\" id=\"4,80\" x1=\"80.88857\" y1=\"22.61270\" x2=\"95.88857\" y2=\"22.61270\"/>\n",
       "      <line class=\"basepairs\" id=\"5,79\" x1=\"80.88857\" y1=\"37.61270\" x2=\"95.88857\" y2=\"37.61270\"/>\n",
       "      <line class=\"basepairs\" id=\"6,78\" x1=\"80.88857\" y1=\"52.61270\" x2=\"95.88857\" y2=\"52.61270\"/>\n",
       "      <line class=\"basepairs\" id=\"7,77\" x1=\"80.88857\" y1=\"67.61271\" x2=\"95.88857\" y2=\"67.61271\"/>\n",
       "      <line class=\"basepairs\" id=\"10,25\" x1=\"81.85956\" y1=\"68.85500\" x2=\"77.97727\" y2=\"83.34389\"/>\n",
       "      <line class=\"basepairs\" id=\"11,24\" x1=\"67.37067\" y1=\"64.97272\" x2=\"63.48838\" y2=\"79.46160\"/>\n",
       "      <line class=\"basepairs\" id=\"12,23\" x1=\"52.88178\" y1=\"61.09043\" x2=\"48.99950\" y2=\"75.57932\"/>\n",
       "      <line class=\"basepairs\" id=\"13,22\" x1=\"38.39289\" y1=\"57.20815\" x2=\"34.51061\" y2=\"71.69703\"/>\n",
       "      <line class=\"basepairs\" id=\"26,44\" x1=\"83.71752\" y1=\"97.20208\" x2=\"96.70790\" y2=\"104.70208\"/>\n",
       "      <line class=\"basepairs\" id=\"27,43\" x1=\"76.21752\" y1=\"110.19246\" x2=\"89.20790\" y2=\"117.69246\"/>\n",
       "      <line class=\"basepairs\" id=\"28,42\" x1=\"68.71752\" y1=\"123.18285\" x2=\"81.70790\" y2=\"130.68285\"/>\n",
       "      <line class=\"basepairs\" id=\"29,41\" x1=\"61.21752\" y1=\"136.17322\" x2=\"74.20790\" y2=\"143.67322\"/>\n",
       "      <line class=\"basepairs\" id=\"30,40\" x1=\"53.71752\" y1=\"149.16360\" x2=\"66.70790\" y2=\"156.66360\"/>\n",
       "      <line class=\"basepairs\" id=\"31,39\" x1=\"46.21752\" y1=\"162.15399\" x2=\"59.20790\" y2=\"169.65399\"/>\n",
       "      <line class=\"basepairs\" id=\"60,76\" x1=\"113.76227\" y1=\"90.02561\" x2=\"108.28215\" y2=\"76.06251\"/>\n",
       "      <line class=\"basepairs\" id=\"61,75\" x1=\"127.72537\" y1=\"84.54550\" x2=\"122.24525\" y2=\"70.58239\"/>\n",
       "      <line class=\"basepairs\" id=\"62,74\" x1=\"141.68848\" y1=\"79.06538\" x2=\"136.20836\" y2=\"65.10228\"/>\n",
       "      <line class=\"basepairs\" id=\"63,73\" x1=\"155.65158\" y1=\"73.58527\" x2=\"150.17146\" y2=\"59.62216\"/>\n",
       "      <line class=\"basepairs\" id=\"64,72\" x1=\"169.61469\" y1=\"68.10516\" x2=\"164.13458\" y2=\"54.14204\"/>\n",
       "    </g>\n",
       "    <g transform=\"translate(-4.6, 4)\" id=\"seq\">\n",
       "      <text class=\"nucleotide\" x=\"80.889\" y=\"-22.387\">G</text>\n",
       "      <text class=\"nucleotide\" x=\"80.889\" y=\"-7.387\">G</text>\n",
       "      <text class=\"nucleotide\" x=\"80.889\" y=\"7.613\">A</text>\n",
       "      <text class=\"nucleotide\" x=\"80.889\" y=\"22.613\">A</text>\n",
       "      <text class=\"nucleotide\" x=\"80.889\" y=\"37.613\">A</text>\n",
       "      <text class=\"nucleotide\" x=\"80.889\" y=\"52.613\">A</text>\n",
       "      <text class=\"nucleotide\" x=\"80.889\" y=\"67.613\">U</text>\n",
       "      <text class=\"nucleotide\" x=\"81.209\" y=\"68.030\">U</text>\n",
       "      <text class=\"nucleotide\" x=\"81.533\" y=\"68.444\">-</text>\n",
       "      <text class=\"nucleotide\" x=\"81.860\" y=\"68.855\">G</text>\n",
       "      <text class=\"nucleotide\" x=\"67.371\" y=\"64.973\">A</text>\n",
       "      <text class=\"nucleotide\" x=\"52.882\" y=\"61.090\">U</text>\n",
       "      <text class=\"nucleotide\" x=\"38.393\" y=\"57.208\">C</text>\n",
       "      <text class=\"nucleotide\" x=\"32.958\" y=\"42.674\">A</text>\n",
       "      <text class=\"nucleotide\" x=\"20.000\" y=\"34.138\">U</text>\n",
       "      <text class=\"nucleotide\" x=\"4.500\" y=\"34.883\">C</text>\n",
       "      <text class=\"nucleotide\" x=\"-7.580\" y=\"44.622\">G</text>\n",
       "      <text class=\"nucleotide\" x=\"-11.596\" y=\"59.610\">G</text>\n",
       "      <text class=\"nucleotide\" x=\"-6.004\" y=\"74.085\">C</text>\n",
       "      <text class=\"nucleotide\" x=\"7.047\" y=\"82.479\">A</text>\n",
       "      <text class=\"nucleotide\" x=\"22.537\" y=\"81.567\">A</text>\n",
       "      <text class=\"nucleotide\" x=\"34.511\" y=\"71.697\">G</text>\n",
       "      <text class=\"nucleotide\" x=\"48.999\" y=\"75.579\">A</text>\n",
       "      <text class=\"nucleotide\" x=\"63.488\" y=\"79.462\">U</text>\n",
       "      <text class=\"nucleotide\" x=\"77.977\" y=\"83.344\">A</text>\n",
       "      <text class=\"nucleotide\" x=\"83.718\" y=\"97.202\">A</text>\n",
       "      <text class=\"nucleotide\" x=\"76.218\" y=\"110.192\">G</text>\n",
       "      <text class=\"nucleotide\" x=\"68.718\" y=\"123.183\">U</text>\n",
       "      <text class=\"nucleotide\" x=\"61.218\" y=\"136.173\">U</text>\n",
       "      <text class=\"nucleotide\" x=\"53.718\" y=\"149.164\">A</text>\n",
       "      <text class=\"nucleotide\" x=\"46.218\" y=\"162.154\">U</text>\n",
       "      <text class=\"nucleotide\" x=\"30.787\" y=\"164.691\">U</text>\n",
       "      <text class=\"nucleotide\" x=\"20.637\" y=\"176.587\">U</text>\n",
       "      <text class=\"nucleotide\" x=\"20.559\" y=\"192.224\">A</text>\n",
       "      <text class=\"nucleotide\" x=\"30.591\" y=\"204.220\">C</text>\n",
       "      <text class=\"nucleotide\" x=\"45.996\" y=\"206.910\">U</text>\n",
       "      <text class=\"nucleotide\" x=\"59.499\" y=\"199.024\">A</text>\n",
       "      <text class=\"nucleotide\" x=\"64.726\" y=\"184.286\">A</text>\n",
       "      <text class=\"nucleotide\" x=\"59.208\" y=\"169.654\">A</text>\n",
       "      <text class=\"nucleotide\" x=\"66.708\" y=\"156.664\">U</text>\n",
       "      <text class=\"nucleotide\" x=\"74.208\" y=\"143.673\">A</text>\n",
       "      <text class=\"nucleotide\" x=\"81.708\" y=\"130.683\">A</text>\n",
       "      <text class=\"nucleotide\" x=\"89.208\" y=\"117.692\">U</text>\n",
       "      <text class=\"nucleotide\" x=\"96.708\" y=\"104.702\">A</text>\n",
       "      <text class=\"nucleotide\" x=\"90.732\" y=\"118.460\">G</text>\n",
       "      <text class=\"nucleotide\" x=\"89.967\" y=\"133.441\">G</text>\n",
       "      <text class=\"nucleotide\" x=\"94.513\" y=\"147.735\">A</text>\n",
       "      <text class=\"nucleotide\" x=\"103.788\" y=\"159.523\">U</text>\n",
       "      <text class=\"nucleotide\" x=\"116.613\" y=\"167.303\">U</text>\n",
       "      <text class=\"nucleotide\" x=\"131.353\" y=\"170.084\">U</text>\n",
       "      <text class=\"nucleotide\" x=\"146.131\" y=\"167.511\">A</text>\n",
       "      <text class=\"nucleotide\" x=\"159.064\" y=\"159.912\">A</text>\n",
       "      <text class=\"nucleotide\" x=\"168.505\" y=\"148.256\">U</text>\n",
       "      <text class=\"nucleotide\" x=\"173.250\" y=\"134.026\">A</text>\n",
       "      <text class=\"nucleotide\" x=\"172.697\" y=\"119.037\">A</text>\n",
       "      <text class=\"nucleotide\" x=\"166.915\" y=\"105.196\">C</text>\n",
       "      <text class=\"nucleotide\" x=\"156.640\" y=\"94.267\">C</text>\n",
       "      <text class=\"nucleotide\" x=\"143.182\" y=\"87.643\">U</text>\n",
       "      <text class=\"nucleotide\" x=\"128.255\" y=\"86.167\">G</text>\n",
       "      <text class=\"nucleotide\" x=\"113.762\" y=\"90.026\">G</text>\n",
       "      <text class=\"nucleotide\" x=\"127.725\" y=\"84.546\">U</text>\n",
       "      <text class=\"nucleotide\" x=\"141.688\" y=\"79.065\">G</text>\n",
       "      <text class=\"nucleotide\" x=\"155.652\" y=\"73.585\">A</text>\n",
       "      <text class=\"nucleotide\" x=\"169.615\" y=\"68.105\">G</text>\n",
       "      <text class=\"nucleotide\" x=\"183.260\" y=\"75.742\">U</text>\n",
       "      <text class=\"nucleotide\" x=\"198.613\" y=\"72.771\">U</text>\n",
       "      <text class=\"nucleotide\" x=\"208.423\" y=\"60.593\">C</text>\n",
       "      <text class=\"nucleotide\" x=\"208.059\" y=\"44.960\">G</text>\n",
       "      <text class=\"nucleotide\" x=\"197.693\" y=\"33.252\">A</text>\n",
       "      <text class=\"nucleotide\" x=\"182.219\" y=\"30.998\">A</text>\n",
       "      <text class=\"nucleotide\" x=\"168.943\" y=\"39.262\">U</text>\n",
       "      <text class=\"nucleotide\" x=\"164.135\" y=\"54.142\">C</text>\n",
       "      <text class=\"nucleotide\" x=\"150.171\" y=\"59.622\">U</text>\n",
       "      <text class=\"nucleotide\" x=\"136.208\" y=\"65.102\">C</text>\n",
       "      <text class=\"nucleotide\" x=\"122.245\" y=\"70.582\">A</text>\n",
       "      <text class=\"nucleotide\" x=\"108.282\" y=\"76.063\">C</text>\n",
       "      <text class=\"nucleotide\" x=\"95.889\" y=\"67.613\">A</text>\n",
       "      <text class=\"nucleotide\" x=\"95.889\" y=\"52.613\">U</text>\n",
       "      <text class=\"nucleotide\" x=\"95.889\" y=\"37.613\">U</text>\n",
       "      <text class=\"nucleotide\" x=\"95.889\" y=\"22.613\">U</text>\n",
       "      <text class=\"nucleotide\" x=\"95.889\" y=\"7.613\">U</text>\n",
       "      <text class=\"nucleotide\" x=\"95.889\" y=\"-7.387\">C</text>\n",
       "      <text class=\"nucleotide\" x=\"95.889\" y=\"-22.387\">C</text>\n",
       "    </g>\n",
       "  </g>\n",
       "<script type=\"text/ecmascript\">\n",
       "<![CDATA[\n",
       "  let sequence = \"GGAAAAUU-GAUCAUCGGCAAGAUAAGUUAUUUACUAAAUAAUAGGAUUUAAUAACCUGGUGAGUUCGAAUCUCACAUUUUCC\";\n",
       "  let structure = \"(((((((..((((........))))((((((.......))))))...............(((((.......))))))))))))\";\n",
       "  const basepairs = [\n",
       "    { i: 1, j: 83, type: \"cWW\" },\n",
       "    { i: 2, j: 82, type: \"cWW\" },\n",
       "    { i: 3, j: 81, type: \"cWW\" },\n",
       "    { i: 4, j: 80, type: \"cWW\" },\n",
       "    { i: 5, j: 79, type: \"cWW\" },\n",
       "    { i: 6, j: 78, type: \"cWW\" },\n",
       "    { i: 7, j: 77, type: \"cWW\" },\n",
       "    { i: 10, j: 25, type: \"cWW\" },\n",
       "    { i: 11, j: 24, type: \"cWW\" },\n",
       "    { i: 12, j: 23, type: \"cWW\" },\n",
       "    { i: 13, j: 22, type: \"cWW\" },\n",
       "    { i: 26, j: 44, type: \"cWW\" },\n",
       "    { i: 27, j: 43, type: \"cWW\" },\n",
       "    { i: 28, j: 42, type: \"cWW\" },\n",
       "    { i: 29, j: 41, type: \"cWW\" },\n",
       "    { i: 30, j: 40, type: \"cWW\" },\n",
       "    { i: 31, j: 39, type: \"cWW\" },\n",
       "    { i: 60, j: 76, type: \"cWW\" },\n",
       "    { i: 61, j: 75, type: \"cWW\" },\n",
       "    { i: 62, j: 74, type: \"cWW\" },\n",
       "    { i: 63, j: 73, type: \"cWW\" },\n",
       "    { i: 64, j: 72, type: \"cWW\" }];\n",
       "  const coords = [\n",
       "    { x: 80.889, y: -22.387 },\n",
       "    { x: 80.889, y: -7.387 },\n",
       "    { x: 80.889, y:  7.613 },\n",
       "    { x: 80.889, y: 22.613 },\n",
       "    { x: 80.889, y: 37.613 },\n",
       "    { x: 80.889, y: 52.613 },\n",
       "    { x: 80.889, y: 67.613 },\n",
       "    { x: 81.209, y: 68.030 },\n",
       "    { x: 81.533, y: 68.444 },\n",
       "    { x: 81.860, y: 68.855 },\n",
       "    { x: 67.371, y: 64.973 },\n",
       "    { x: 52.882, y: 61.090 },\n",
       "    { x: 38.393, y: 57.208 },\n",
       "    { x: 32.958, y: 42.674 },\n",
       "    { x: 20.000, y: 34.138 },\n",
       "    { x:  4.500, y: 34.883 },\n",
       "    { x: -7.580, y: 44.622 },\n",
       "    { x: -11.596, y: 59.610 },\n",
       "    { x: -6.004, y: 74.085 },\n",
       "    { x:  7.047, y: 82.479 },\n",
       "    { x: 22.537, y: 81.567 },\n",
       "    { x: 34.511, y: 71.697 },\n",
       "    { x: 48.999, y: 75.579 },\n",
       "    { x: 63.488, y: 79.462 },\n",
       "    { x: 77.977, y: 83.344 },\n",
       "    { x: 83.718, y: 97.202 },\n",
       "    { x: 76.218, y: 110.192 },\n",
       "    { x: 68.718, y: 123.183 },\n",
       "    { x: 61.218, y: 136.173 },\n",
       "    { x: 53.718, y: 149.164 },\n",
       "    { x: 46.218, y: 162.154 },\n",
       "    { x: 30.787, y: 164.691 },\n",
       "    { x: 20.637, y: 176.587 },\n",
       "    { x: 20.559, y: 192.224 },\n",
       "    { x: 30.591, y: 204.220 },\n",
       "    { x: 45.996, y: 206.910 },\n",
       "    { x: 59.499, y: 199.024 },\n",
       "    { x: 64.726, y: 184.286 },\n",
       "    { x: 59.208, y: 169.654 },\n",
       "    { x: 66.708, y: 156.664 },\n",
       "    { x: 74.208, y: 143.673 },\n",
       "    { x: 81.708, y: 130.683 },\n",
       "    { x: 89.208, y: 117.692 },\n",
       "    { x: 96.708, y: 104.702 },\n",
       "    { x: 90.732, y: 118.460 },\n",
       "    { x: 89.967, y: 133.441 },\n",
       "    { x: 94.513, y: 147.735 },\n",
       "    { x: 103.788, y: 159.523 },\n",
       "    { x: 116.613, y: 167.303 },\n",
       "    { x: 131.353, y: 170.084 },\n",
       "    { x: 146.131, y: 167.511 },\n",
       "    { x: 159.064, y: 159.912 },\n",
       "    { x: 168.505, y: 148.256 },\n",
       "    { x: 173.250, y: 134.026 },\n",
       "    { x: 172.697, y: 119.037 },\n",
       "    { x: 166.915, y: 105.196 },\n",
       "    { x: 156.640, y: 94.267 },\n",
       "    { x: 143.182, y: 87.643 },\n",
       "    { x: 128.255, y: 86.167 },\n",
       "    { x: 113.762, y: 90.026 },\n",
       "    { x: 127.725, y: 84.546 },\n",
       "    { x: 141.688, y: 79.065 },\n",
       "    { x: 155.652, y: 73.585 },\n",
       "    { x: 169.615, y: 68.105 },\n",
       "    { x: 183.260, y: 75.742 },\n",
       "    { x: 198.613, y: 72.771 },\n",
       "    { x: 208.423, y: 60.593 },\n",
       "    { x: 208.059, y: 44.960 },\n",
       "    { x: 197.693, y: 33.252 },\n",
       "    { x: 182.219, y: 30.998 },\n",
       "    { x: 168.943, y: 39.262 },\n",
       "    { x: 164.135, y: 54.142 },\n",
       "    { x: 150.171, y: 59.622 },\n",
       "    { x: 136.208, y: 65.102 },\n",
       "    { x: 122.245, y: 70.582 },\n",
       "    { x: 108.282, y: 76.063 },\n",
       "    { x: 95.889, y: 67.613 },\n",
       "    { x: 95.889, y: 52.613 },\n",
       "    { x: 95.889, y: 37.613 },\n",
       "    { x: 95.889, y: 22.613 },\n",
       "    { x: 95.889, y:  7.613 },\n",
       "    { x: 95.889, y: -7.387 },\n",
       "    { x: 95.889, y: -22.387 }];\n",
       "]]>\n",
       "</script>\n",
       "</svg>"
      ],
      "text/plain": [
       "<IPython.core.display.SVG object>"
      ]
     },
     "execution_count": 88,
     "metadata": {},
     "output_type": "execute_result"
    }
   ],
   "source": [
    "import RNA\n",
    "# The RNA sequence\n",
    "\n",
    "alignment = [\"GGAGGAUUAGCUCAGCUGGGAGAGCAUCUGCCUUACAAGCAGAGGG-----------UCGGCGGUUCGAGCCCGUCAUCCUCC\",\n",
    "\"GCCUUCCUAGCUCAG-UGGUAGAGCGCACGGCUUUUAACCGUGUGG-----------UCGUGGGUUCGAUCCCCACGGAAGGC\",\n",
    "\"GCCUUUAUAGCUUAG-UGGUAAAGCGAUAAACUGAAGAUUUAUUUA-----------CAUGUAGUUCGAUUCUCAUUAAGGGC\",\n",
    "\"GCGGAUAUAACUUAGGGGUUAAAGUUGCAGAUUGUGGCUCUGAAAA------------CACGGGUUCGAAUCCCGUUAUUCGC\",\n",
    "\"GGAAAAUU-GAUCAUCGGCAAGAUAAGUUAUUUACUAAAUAAUAGGAUUUAAUAACCUGGUGAGUUCGAAUCUCACAUUUUCC\"\n",
    "]\n",
    "\n",
    "# create a new model details structure\n",
    "md = RNA.md()\n",
    "# optionally one could change some parameters\n",
    "# md.temperature = 25.0 # 25 Deg Celcius\n",
    "# md.dangles = 1 # keep default 2 for compatibility with partition folding\n",
    "# create a fold compound\n",
    "fc = RNA.fold_compound(alignment, md)\n",
    "# predict the  \"Alifold\" Minmum Free Energy and the corresponding secondary structure\n",
    "(ss, mfe) = fc.mfe()\n",
    "conservation_score = fc.eval_covar_structure(ss)\n",
    "print(\"%s\\n%s [ %6.2f, %6.2f ]\\n\" % ('\\n'.join(alignment), ss, mfe, conservation_score))\n",
    "\n",
    "fp = tempfile.NamedTemporaryFile(suffix=\"svg\")\n",
    "RNA.svg_rna_plot(alignment[0], structure=ss, ssfile=fp.name)  \n",
    "SVG(fp.name)\n",
    "\n",
    "fp = tempfile.NamedTemporaryFile(suffix=\"svg\")\n",
    "RNA.svg_rna_plot(alignment[4], structure=ss, ssfile=fp.name)  \n",
    "SVG(fp.name)"
   ]
  },
  {
   "cell_type": "markdown",
   "metadata": {},
   "source": [
    "## Assignment 5: Use the Vienna RNA package\n",
    "\n",
    "a) Write a function that takes an alignment (as above) and computes the mfe structures of the single sequences (without gaps).\n",
    "\n",
    "b) Compare the single sequence mfe structures to the alifold mfe structure of the alignment (compare dot bracket strings and/or visualize as secondary structure plots).\n",
    "\n",
    "c) Write a function that takes an alignment (as above) and computes the average positional unpaired probabilities from folding\n",
    "the single sequences. Take care, where this requires to map sequence positions to alignment columns or vice versa.\n",
    "\n",
    "d) Visually compare this profile to the Alifold mfe structure and the corresponding Alifold unpaired probability profile. \n",
    "\n",
    "e) Quantify the difference between the profiles (e.g. sum over the log of the positional ratios...)."
   ]
  },
  {
   "cell_type": "markdown",
   "metadata": {
    "id": "B2RwBCorel1r"
   },
   "source": [
    "## Test data\n",
    "\n",
    "Find test data here\n",
    "https://www.lix.polytechnique.fr/~will/Teaching/INF588/Testdata\n",
    "\n",
    "Can your program handle all of the diverse examples (in different file formats)?\n",
    "\n",
    "Here is one way to download the data to Colab by downloading an archive of all files and unpacking it. The files will be written to subdirectory Testdata"
   ]
  },
  {
   "cell_type": "code",
   "execution_count": 31,
   "metadata": {},
   "outputs": [
    {
     "name": "stdout",
     "output_type": "stream",
     "text": [
      "5S_rRNA.apsi-54.sci-95.no-1.ref.fa\n",
      "Intron_gpII.apsi-54.sci-66.no-1.ref.fa\n",
      "RF00100.stockholm.txt\n",
      "RF00568.stockholm.txt\n",
      "SRP_euk_arch.apsi-34.sci-67.no-1.ref.fa\n",
      "SRP_euk_arch.apsi-68.sci-83.no-1.ref.fa\n",
      "tRNA_15.stk\n",
      "tRNA_5.aln\n",
      "tRNA_7-clustalw.aln\n",
      "tRNA_7.stk\n"
     ]
    }
   ],
   "source": [
    "from urllib.request import urlretrieve\n",
    "arcfile = \"testdata.zip\"\n",
    "url = f\"https://www.lix.polytechnique.fr/~will/Teaching/INF588/{arcfile}\"\n",
    "urlretrieve(url, arcfile)\n",
    "\n",
    "import zipfile\n",
    "with zipfile.ZipFile(arcfile, 'r') as zip_ref:\n",
    "    zip_ref.extractall(\".\")\n",
    "\n",
    "!ls Testdata"
   ]
  },
  {
   "cell_type": "markdown",
   "metadata": {},
   "source": [
    "## Assignment 6\n",
    "\n",
    "a) Write a function to read an alignment from either an aln or stk file. Use Biopython (https://biopython.org/docs/1.75/api/Bio.AlignIO.html) and find out about stk / Stockholm files!\n",
    "\n",
    "b) Apply the functions from the previous assignment to the test alignments. How could we interpret the results?"
   ]
  },
  {
   "cell_type": "markdown",
   "metadata": {
    "id": "R9ZOD0QBekpj"
   },
   "source": [
    "## How to work on the project\n",
    "In principle, you could start your work using Colab and simply extend this notebook. However at least in the longer run, it will have advantages to run everything 'locally' on your own computer; without Colab.  Note that for example, running larger computations in Colab can be inconvenient; also, Colab will require you to reinstall Conda, Biopython and Vienna RNA in each new Colab session.\n",
    "\n",
    "See above for how pip can be used to install the required software. This works in Colab as well as locally. *Optionally*: For local installation, one should consider installation in a Conda environment or Python virtual environment (which helps to keep things nicely structured, if one works on several projects with different software dendencies etc). "
   ]
  }
 ],
 "metadata": {
  "colab": {
   "collapsed_sections": [
    "PpyYNiDApIOB",
    "OOnY9HZip-39",
    "d9H4MqtYqKeh",
    "KGP2oqZ6q0bs",
    "7ZKaqesgq-Ee",
    "VT4gDTWIrCqg",
    "Q6PBkZk6rIN_",
    "b0WA4QB0rLro",
    "XdCfVJLtriRs",
    "OrluaorLr9Xv",
    "c1BvG_Vnr-wV",
    "n8OaOhw2sAjp",
    "BMgXefKmsVss",
    "ymhx-2awse8L",
    "bDJ9TSpUvOfB",
    "Y5nXn9KzvfU_"
   ],
   "private_outputs": true,
   "provenance": []
  },
  "jupytext": {
   "formats": "ipynb,py:light"
  },
  "kernelspec": {
   "display_name": "Python 3",
   "language": "python",
   "name": "python3"
  },
  "language_info": {
   "codemirror_mode": {
    "name": "ipython",
    "version": 3
   },
   "file_extension": ".py",
   "mimetype": "text/x-python",
   "name": "python",
   "nbconvert_exporter": "python",
   "pygments_lexer": "ipython3",
   "version": "3.11.1"
  }
 },
 "nbformat": 4,
 "nbformat_minor": 4
}
