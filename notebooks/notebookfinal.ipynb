{
 "cells": [
  {
   "cell_type": "code",
   "execution_count": null,
   "metadata": {},
   "outputs": [],
   "source": [
    "import sys\n",
    "import os\n",
    "\n",
    "# Récupérer le chemin absolu du dossier parent\n",
    "parent_dir = os.path.abspath(os.path.join(os.getcwd(), \"..\"))\n",
    "\n",
    "# Ajouter ce chemin aux modules Python\n",
    "sys.path.append(parent_dir)\n",
    "print(parent_dir)"
   ]
  },
  {
   "cell_type": "markdown",
   "metadata": {},
   "source": [
    "### MODULE RNA SEQUENCE ###"
   ]
  },
  {
   "cell_type": "code",
   "execution_count": null,
   "metadata": {},
   "outputs": [],
   "source": [
    "from modules.rna_sequence2 import *"
   ]
  },
  {
   "cell_type": "code",
   "execution_count": null,
   "metadata": {},
   "outputs": [],
   "source": [
    "##Test functions\n",
    "\n",
    "xp=\"ACGt--CGACUAGC-\"\n",
    "yp=\"-cGuCGU-ACTCGCG\"\n",
    "print(sequence_identity(xp,yp))\n",
    "print(xp,yp)\n",
    "print(edges_alignement(xp,yp))\n",
    "print(core_sequence(xp))"
   ]
  },
  {
   "cell_type": "markdown",
   "metadata": {},
   "source": [
    "### MODULE RNA STRUCTURE"
   ]
  },
  {
   "cell_type": "code",
   "execution_count": null,
   "metadata": {},
   "outputs": [],
   "source": [
    "from modules.rna_structure2 import *"
   ]
  },
  {
   "cell_type": "code",
   "execution_count": null,
   "metadata": {},
   "outputs": [],
   "source": [
    "base_pairs={(2,8),(3,7),(9,13)}\n",
    "print(dot_bracket_string(13, base_pairs))\n",
    "parse_RNA_structure(\".((...))(...)\")"
   ]
  },
  {
   "cell_type": "markdown",
   "metadata": {},
   "source": [
    "### MODULE MAP STRUCTURE SEQUENCE"
   ]
  },
  {
   "cell_type": "code",
   "execution_count": null,
   "metadata": {},
   "outputs": [],
   "source": [
    "from modules.map_structure_sequence import *"
   ]
  },
  {
   "cell_type": "code",
   "execution_count": null,
   "metadata": {},
   "outputs": [],
   "source": [
    "list_of_car=[\"(\",\"(\",\".\",\")\",\")\",\".\"]\n",
    "get_rid_brackets_cl(list_of_car, 4)\n",
    "print(list_of_car)\n",
    "\n",
    "alg_str=\"GCC-CUUAG-U-GAAUCCAGC\"\n",
    "dbs=\"((.((...))(((...)))))\"\n",
    "print(projection(alg_str,dbs))\n",
    "\n",
    "reverse_projection(\"C-AG\", \"(.)\")"
   ]
  },
  {
   "cell_type": "markdown",
   "metadata": {},
   "source": [
    "### Single RNA structure"
   ]
  },
  {
   "cell_type": "code",
   "execution_count": null,
   "metadata": {},
   "outputs": [],
   "source": [
    "from modules.single_RNA_structure import *\n",
    "from modules.simplecount import *"
   ]
  },
  {
   "cell_type": "code",
   "execution_count": null,
   "metadata": {},
   "outputs": [],
   "source": [
    "str_example=\"GCACGACG\"\n",
    "m=0\n",
    "nuss_example=nussinov_matrix(str_example, simple_count_cost,m)\n",
    "for lign in nuss_example:\n",
    "    print(lign)\n",
    "bp1=nussinov_TB(str_example, nuss_example, simple_count_cost, m)\n",
    "print(bp1)\n",
    "dot_bracket_string(len(str_example), bp1, 0)\n",
    "sequence_test=\"GGGAAAUCC\"\n",
    "pb2=RNA_consensus_structure(sequence_test, simple_count_cost, 0)\n",
    "dot_bracket_string(len(sequence_test),pb2,0)"
   ]
  },
  {
   "cell_type": "markdown",
   "metadata": {},
   "source": [
    "### MAXIMUM TOTAL ACCURACY"
   ]
  },
  {
   "cell_type": "code",
   "execution_count": null,
   "metadata": {},
   "outputs": [],
   "source": [
    "from modules.MTA import *"
   ]
  },
  {
   "cell_type": "code",
   "execution_count": null,
   "metadata": {},
   "outputs": [],
   "source": [
    "MTA ([\"-GCC-AAA-GGC\",\"GGGC-AUU-GCC\", \"-ACGGAAUCCGU\"],1)"
   ]
  },
  {
   "cell_type": "markdown",
   "metadata": {},
   "source": [
    "### MAXIMUM EXPECTED ACCURACY"
   ]
  },
  {
   "cell_type": "code",
   "execution_count": null,
   "metadata": {},
   "outputs": [],
   "source": [
    "from modules.MEA import *"
   ]
  },
  {
   "cell_type": "code",
   "execution_count": null,
   "metadata": {},
   "outputs": [],
   "source": [
    "constante=1"
   ]
  },
  {
   "cell_type": "code",
   "execution_count": null,
   "metadata": {},
   "outputs": [],
   "source": [
    "MEA ([\"-GCC-AAA-GGC\",\"GGGC-AUU-GCC\", \"-ACGGAAUCCGU\"], constante)"
   ]
  },
  {
   "cell_type": "markdown",
   "metadata": {},
   "source": [
    "### MEA with conservation score"
   ]
  },
  {
   "cell_type": "code",
   "execution_count": null,
   "metadata": {},
   "outputs": [],
   "source": [
    "from modules.MEA_conservation import *"
   ]
  },
  {
   "cell_type": "code",
   "execution_count": null,
   "metadata": {},
   "outputs": [],
   "source": [
    "MEA_conservation ([\"-GCC-AAA-GGC\",\"GGGC-AUU-GCC\", \"-ACGGAAUCCGU\"], 1, 1/2)"
   ]
  },
  {
   "cell_type": "markdown",
   "metadata": {},
   "source": [
    "### TESTS"
   ]
  },
  {
   "cell_type": "code",
   "execution_count": null,
   "metadata": {},
   "outputs": [],
   "source": [
    "def consensus_structure(aligned_seq, algo, constante, gamma, print=True,m=2):\n",
    "    if algo==\"MEA\":\n",
    "        return MEA(aligned_seq, constante, m)\n",
    "    elif algo==\"MTA\":\n",
    "        return MTA(aligned_seq, constante, m)\n",
    "    else :\n",
    "        return MEA_conservation(aligned_seq, constante, gamma, m)"
   ]
  },
  {
   "cell_type": "code",
   "execution_count": null,
   "metadata": {},
   "outputs": [],
   "source": [
    "from tests.test_nussinov import *"
   ]
  },
  {
   "cell_type": "code",
   "execution_count": null,
   "metadata": {},
   "outputs": [],
   "source": [
    "\"\"\"This imports the test files in a list. \n",
    "Each element there is a list of aligned structures corresponding to the imported file\"\"\"\n",
    "test_sequences=import_test_files()"
   ]
  },
  {
   "cell_type": "code",
   "execution_count": null,
   "metadata": {},
   "outputs": [],
   "source": [
    "print(test_sequences[\"5S_rRNA.apsi-54.sci-95.no-1.ref.fa\"])"
   ]
  },
  {
   "cell_type": "code",
   "execution_count": null,
   "metadata": {},
   "outputs": [],
   "source": [
    "#Uncomment the algorithm you want to test\n",
    "\n",
    "#algo=\"MTA\"\n",
    "algo=\"MEA\"\n",
    "#algo=\"MEA_cons\"\n",
    "\n",
    "constante=2\n",
    "gamma=1/2\n",
    "m=2\n",
    "\n",
    "aligned_seq = test_sequences[\"RF00568.stockholm.txt\"]  #HERE : put the name of the data you would like to test\n",
    "#print(aligned_seq)\n",
    "ss=consensus_structure(aligned_seq, algo, constante, gamma)\n",
    "print(ss)"
   ]
  },
  {
   "cell_type": "markdown",
   "metadata": {},
   "source": [
    "### VISUALISATION"
   ]
  },
  {
   "cell_type": "code",
   "execution_count": null,
   "metadata": {},
   "outputs": [],
   "source": [
    "import tempfile\n",
    "from IPython.display import SVG\n",
    "\n",
    "sequence=\"\".join([\".\" for i in range(len(ss))])\n",
    "\n",
    "fp = tempfile.NamedTemporaryFile(suffix=\".svg\", delete=False)\n",
    "RNA.svg_rna_plot(sequence, structure=ss, ssfile=fp.name)\n",
    "SVG(fp.name)"
   ]
  },
  {
   "cell_type": "markdown",
   "metadata": {},
   "source": [
    "### Compare the various methods of finding the consensus structure"
   ]
  },
  {
   "cell_type": "code",
   "execution_count": null,
   "metadata": {},
   "outputs": [],
   "source": [
    "from tests.compare import *"
   ]
  },
  {
   "cell_type": "code",
   "execution_count": null,
   "metadata": {},
   "outputs": [],
   "source": [
    "aligned_sequences=test_sequences[\"tRNA_7.stk\"]\n",
    "sim_matrix = similarity_matrix(aligned_sequences)\n",
    "plot_similarity_matrix(sim_matrix, method_names)"
   ]
  }
 ],
 "metadata": {
  "kernelspec": {
   "display_name": "vienna",
   "language": "python",
   "name": "python3"
  },
  "language_info": {
   "codemirror_mode": {
    "name": "ipython",
    "version": 3
   },
   "file_extension": ".py",
   "mimetype": "text/x-python",
   "name": "python",
   "nbconvert_exporter": "python",
   "pygments_lexer": "ipython3",
   "version": "3.9.19"
  }
 },
 "nbformat": 4,
 "nbformat_minor": 2
}
