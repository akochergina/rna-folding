{
 "cells": [
  {
   "cell_type": "markdown",
   "metadata": {
    "id": "a370sZeQdAMc"
   },
   "source": [
    "# Notebook for INF588 - 2024"
   ]
  },
  {
   "cell_type": "markdown",
   "metadata": {
    "id": "abBArbrWRzR8"
   },
   "source": [
    "## First class - Python warm up and the Vienna RNA package\n",
    "\n",
    "In the class INF588, you are going to work on two different Bioinformatics projects:   \n",
    "- Computing alignments of proteins using structural information  \n",
    "- Predicting the structure of RNAs from an RNA alignment\n",
    "\n",
    "Both projects require you to write Python code to implement the required algorithms and tools and then apply them to biological data.\n",
    "\n",
    "Thus, before jumping into these projects it makes sense to\n",
    "\n",
    "1. re-activate or strengthen your Python skills by solving some warm-up assignments, which mostly prepare code required in the projects;\n",
    "1. learn about simple use of Biopython to read/write bio-data. *Note*: find details online on-the-go, e.g. when you want to read sequences from fasta format and alignments in clustal or stockholm format;\n",
    "1. learn how to use the Vienna RNA package, which we need for the RNA-related project.\n"
   ]
  },
  {
   "cell_type": "markdown",
   "metadata": {
    "id": "21awqVPFIqf2"
   },
   "source": [
    "\n",
    "## About this document\n",
    "\n",
    "This Jupyter notebook serves several purposes:\n",
    "\n",
    "* It contains warm-up Python programming tasks for the first class.\n",
    "\n",
    "* It introduces the Vienna RNA package for use in the RNA folding project.\n",
    "\n",
    "* It shows how to install required software including Python, Biopython and the Vienna RNA package, locally or in Google Colab.\n",
    "\n",
    "* It provides examples for the use of the Vienna package from Python - providing a mini-tutorial tailored to our needs.\n",
    "\n",
    "* Finally, it provides a pointer to test data (and shows how to upload it on Colab, if you have to).\n",
    "\n",
    "For today, it is possible to work in this notebook on Colab, i.e. write and run your code in the browser. You could continue using Colab for the rest of this class, but it is likely more convenient to continue without Colab after install Python and the required packages locally.\n"
   ]
  },
  {
   "cell_type": "markdown",
   "metadata": {
    "id": "aqtE589yLexc"
   },
   "source": [
    "## Installation of Biopython and the Vienna RNA package\n",
    "\n",
    "We install the special Python modules Biopython and the Vienna RNA package using pip. On Google Colab, this requires no further preparation, but the\n",
    "installation has to be repeated once per session. If you work locally (as recommended), then the installation needs to be done only once. However, you need to install Python 3.x, pip, and VS Code or Jupyter(*) in advance. \n",
    "\n",
    "(*) We recommend VS Code to edit and run this Jupyter notebook (.ipynb file); or use Jupyter to do the same in your browser. \n",
    "\n",
    "Our two special Python modules can be installed by pip by running the next cell. In the same way, we can install additional packages as required, e.g. matplotlib and seaborn. Many standard packages are typically alread installed in Google Colab."
   ]
  },
  {
   "cell_type": "code",
   "execution_count": 1,
   "metadata": {},
   "outputs": [
    {
     "name": "stdout",
     "output_type": "stream",
     "text": [
      "Requirement already satisfied: viennarna in c:\\users\\manon\\anaconda3\\envs\\vienna\\lib\\site-packages (2.7.0)\n",
      "Requirement already satisfied: biopython in c:\\users\\manon\\anaconda3\\envs\\vienna\\lib\\site-packages (1.85)\n",
      "Requirement already satisfied: numpy in c:\\users\\manon\\anaconda3\\envs\\vienna\\lib\\site-packages (from biopython) (2.0.2)\n",
      "Note: you may need to restart the kernel to use updated packages.\n"
     ]
    }
   ],
   "source": [
    "pip install viennarna biopython"
   ]
  },
  {
   "cell_type": "code",
   "execution_count": 2,
   "metadata": {},
   "outputs": [],
   "source": [
    "import RNA"
   ]
  },
  {
   "cell_type": "markdown",
   "metadata": {
    "id": "1TDTN6k4vpKE"
   },
   "source": [
    "## Python warm-up assignments\n",
    "\n"
   ]
  },
  {
   "cell_type": "markdown",
   "metadata": {
    "id": "msiHrdHHw2tf"
   },
   "source": [
    "### Assignment 1: Sequence identity of an alignment\n",
    "\n",
    "An RNA sequence is a string containing only the characters A, C, G, and U, which denote the four nucleotides Adenin, Cytosin, Guanin, and Uracil.\n",
    "\n",
    "An alignment of two RNA sequences x and y is typically represented by a pair of alignment strings x' and y' that additionally contain gap symbols $-$.\n",
    "\n",
    "The pair $x', y'$ represents an alignment of RNA sequences $x$ and $y$ iff\n",
    "1. removing gap symbols in $x'$ [$y'$] yields the sequences $x$ [$y$], resp.\n",
    "2. there is no $i$ such that $x_i=-$ and $y_i=-$.\n",
    "\n",
    "For example,\n",
    "```\n",
    "x' = ACGU--CGACUAGC-\n",
    "y' = -CGUCGU-ACUCGCG\n",
    "```\n",
    "represents an alignment of ```ACGUCGACUAGC``` and ```CGUCGUACUCGCG```.\n",
    "A column $(x'_i,y'_i)$ is called a match if $x'_i=y'_i$.\n",
    "\n",
    "1. Write a function that takes the two alignment strings and returns the percentage of match colunmns, i.e. the sequence identity of the alignment.\n",
    "\n",
    "1. In publicly available RNA sequence data, one will often find small letter symbols and even T instead of U. Extend the function such that it can converts small letters to capital ones and T to U. Write another function to perform this transformation and make the transformation optional in the sequence identity function, e.g. by adding another argument with default ```True```.\n",
    "\n",
    "1. Write a function that returns a list of the *edges* in an alignment. An edge is a pair of respective positions $i$ and $j$ in $x$ and $y$ that are in the same alignment column (regardless whether matched or mismatched). The alignment should be givn as a pair of alignment strings. Indexing sequence positions from 1 to the sequence length [*1-based indexing*], edges of our example alignment are (2,1), (3,2), (4,3), (5,6), ..., (12,12). For example, (5,6) is an *edge* of the alignment given by $x',y'$, because the `C` at position 5 of sequence $x$ is in the same column as the `G` at position 6 of $y$.\n",
    "\n",
    "1. Add meaningful doc strings to your functions. Generally, one should get into the habit of writing at least a brief description for every function / method / class. It is good practice, to describe arguments and return value (see function sequence_identity below). Using type hints, as in sequence_identity (even sporadically), can be a good idea as well.\n",
    "\n",
    "1. Write unit tests for your functions; design simple examples that include edge cases like gaps at the beginning and end of sequences, consecutive insertion and deletion, empty alignment, identical alignment strings, no identity..."
   ]
  },
  {
   "cell_type": "code",
   "execution_count": 3,
   "metadata": {
    "id": "UPH4cH6dysyo"
   },
   "outputs": [],
   "source": [
    "def sequence_identity(xp:str, yp:str) -> str:\n",
    "    \"\"\"\n",
    "    Sequence identity of two aligned sequences\n",
    "\n",
    "    Args:\n",
    "      xp: alignment string of sequence x\n",
    "      yp: alignment string of sequence y\n",
    "    \n",
    "    Returns:\n",
    "      Percentage of identical alignment columns\n",
    "    \"\"\"\n",
    "    identical_count=0\n",
    "    #transform str to lists so we can modify them\n",
    "    xp=list(xp.upper())\n",
    "    yp=list(yp.upper())\n",
    "    for i in range (len(xp)):\n",
    "        if xp[i]=='T':\n",
    "            xp[i]='U'\n",
    "        if yp[i]=='T':\n",
    "            yp[i]='U'\n",
    "        if xp[i]==yp[i]:\n",
    "            identical_count+=1\n",
    "    #transform lists back to str\n",
    "    xp= ''.join(xp)\n",
    "    yp = ''.join(yp)\n",
    "    #print(xp)\n",
    "    return identical_count/len(xp)"
   ]
  },
  {
   "cell_type": "code",
   "execution_count": 4,
   "metadata": {},
   "outputs": [],
   "source": [
    "def edges_alignement(xp:str, yp:str) -> list:\n",
    "    \"\"\"\n",
    "    returns the list of the edges in an alignment\n",
    "\n",
    "    Args:\n",
    "      xp: alignment string of sequence x\n",
    "      yp: alignment string of sequence y\n",
    "    \n",
    "    Returns:\n",
    "      List of edges, an edge being a tuple of the indexes of the aligned bases\n",
    "    \"\"\"\n",
    "\n",
    "    indexx=1\n",
    "    indexy=1\n",
    "    edges=[]\n",
    "    for i in range(len(xp)):\n",
    "        if xp[i]!=\"-\":\n",
    "            if yp[i]!=\"-\":\n",
    "                edges.append((indexx, indexy))\n",
    "                indexx+=1\n",
    "                indexy+=1\n",
    "            else :\n",
    "                indexx+=1\n",
    "        else :\n",
    "            if yp[i]!=\"-\":\n",
    "                indexy+=1\n",
    "    return edges\n"
   ]
  },
  {
   "cell_type": "code",
   "execution_count": 5,
   "metadata": {},
   "outputs": [
    {
     "name": "stdout",
     "output_type": "stream",
     "text": [
      "0.5333333333333333\n",
      "ACGt--CGACUAGC- -cGuCGU-ACTCGCG\n",
      "[(2, 1), (3, 2), (4, 3), (5, 6), (7, 7), (8, 8), (9, 9), (10, 10), (11, 11), (12, 12)]\n"
     ]
    }
   ],
   "source": [
    "##Test functions\n",
    "\n",
    "xp=\"ACGt--CGACUAGC-\"\n",
    "yp=\"-cGuCGU-ACTCGCG\"\n",
    "print(sequence_identity(xp,yp))\n",
    "print(xp,yp)\n",
    "print(edges_alignement(xp,yp))"
   ]
  },
  {
   "cell_type": "markdown",
   "metadata": {
    "id": "-oxvRBjOxOkT"
   },
   "source": [
    "### Assignment 2: RNA structure dot-bracket representation\n",
    "\n",
    "\n",
    "An *RNA structure* for an RNA of sequence length $n$ is a set of *base pairs* $(i,j)$, $1 \\leq i < j \\leq n$. Typically, we restrict ourselves to structures that can be represented by *dot-bracket strings*. These strings contain only dots ```.``` and opening and closing brackets ```(``` and ```)```. They contain one symbol for each sequence position. The dot marks an unpaired position, while an opening bracket tells that the base is paired to the base of the corresponding closing bracket.\n",
    "\n",
    "For example, let the sequence and structure of an RNA described by\n",
    "```\n",
    "sequence = \"CGCUUAGCGAAUC\"\n",
    "dbstring = \".((...))(...)\"\n",
    "```\n",
    "Then, the dot-bracket string ```dbstring``` describes the structure (aka the set of base pairs) ```{(2,8),(3,7),(9,13)}```.\n",
    "\n",
    "A structure is *canonical* for a sequence $x$, if for all base pairs $(i,j)$ of the structure $(x_i,x_j)$ is one of the *canonical base pairs* (A,U),(C,G),(G,C),(G,U),(U,A), or (U,G).\n",
    "\n",
    "1. Write a function that takes a sequence length and a set or list of base pairs and returns the corresponding dot-bracket string.\n",
    "\n",
    "1. Write a function ```parse_RNA_structure``` that takes a dot-bracket string and returns the corresponding base pair set as a list. How should it handle invalid dot-bracket strings? Use exceptions (https://docs.python.org/3/tutorial/errors.html).\n",
    "\n",
    "1. Write a function ```is_canonical``` that checks whether a structure, given as dot-bracket string, is canonical for a sequence. (Write helper functions like ```is_canonical_basepair(x,y)```, where reasonable.)\n",
    "\n",
    "1. Based on your previous code, implement a Python class ```RnaMolecule``` that represents an RNA sequence and a corresponding structure. Objects of this class should be initialized with a sequence and optionally a structure, printing an object should show the sequence and dot bracket string, it should be possible to get the base pair list representation of an object... (https://docs.python.org/3/tutorial/classes.html)\n",
    "\n",
    "**Note:** pay attention that we use one-based positions to describe the base pairs, while strings in Python use zero-based indices. One and zero-based indexing is a recurring issue when working with RNAs and specifically the Vienna RNA package. Beware since this is a potential source of errors."
   ]
  },
  {
   "cell_type": "code",
   "execution_count": 87,
   "metadata": {},
   "outputs": [],
   "source": [
    "def dot_bracket_string(seq_length, base_pairs, decalage=-1):\n",
    "    \"\"\"\n",
    "    returns the dot bracket string of the structure defined by the list of base pairs\n",
    "\n",
    "    Args:\n",
    "      seq_length : length of the sequence\n",
    "      base_pairs : set or list of base pairs\n",
    "    \n",
    "    Returns:\n",
    "      String that represents the dot bracket of the structure\n",
    "    \"\"\"\n",
    "    db=[\".\" for i in range (seq_length)]\n",
    "    for pair in base_pairs:\n",
    "        ind0, ind1=pair\n",
    "        db[ind0+decalage]=\"(\"\n",
    "        db[ind1+decalage]=\")\"\n",
    "    db=''.join(db)\n",
    "    return db\n"
   ]
  },
  {
   "cell_type": "code",
   "execution_count": 92,
   "metadata": {},
   "outputs": [
    {
     "name": "stdout",
     "output_type": "stream",
     "text": [
      ".((...))(...)\n"
     ]
    }
   ],
   "source": [
    "base_pairs={(2,8),(3,7),(9,13)}\n",
    "print (dot_bracket_string(13, base_pairs))"
   ]
  },
  {
   "cell_type": "code",
   "execution_count": 59,
   "metadata": {},
   "outputs": [],
   "source": [
    "def parse_RNA_structure(dbstring):\n",
    "    base_pairs=[]\n",
    "    list_db=list(dbstring)\n",
    "    n=len(list_db)\n",
    "    for i in range(len(list_db)):\n",
    "        if dbstring[i] == \"(\":\n",
    "            #find associated closing parenthesis\n",
    "            index=0\n",
    "            j=i+1\n",
    "            found=False\n",
    "            while j<n and not found:\n",
    "                if list_db[j]==\"(\":\n",
    "                    index+=1\n",
    "                elif list_db[j] == \")\":\n",
    "                    if index==0:\n",
    "                        found=True\n",
    "                        base_pairs.append((i,j))  \n",
    "                    else :\n",
    "                        index-=1\n",
    "                j+=1\n",
    "            if not found :\n",
    "                raise NameError('Invalid dbstring')\n",
    "    return base_pairs"
   ]
  },
  {
   "cell_type": "code",
   "execution_count": 60,
   "metadata": {},
   "outputs": [
    {
     "data": {
      "text/plain": [
       "[(1, 7), (2, 6), (8, 12)]"
      ]
     },
     "execution_count": 60,
     "metadata": {},
     "output_type": "execute_result"
    }
   ],
   "source": [
    "parse_RNA_structure(\".((...))(...)\")"
   ]
  },
  {
   "cell_type": "markdown",
   "metadata": {
    "id": "4fxr0yBB-Lsn"
   },
   "source": [
    "### Assignment 3: Map an RNA structure to a sequence based on an alignment string\n",
    "\n",
    "Another sub-problem that you will likely encounter in the RNA-project is the following: given an alignment string $x'$ and a dot bracket string $y'$ of the length of the alignment, obtain $x$ and the corresponding dot-bracket string $y$ that describes the 'projected' structure for $x$.\n",
    "\n",
    "This situation occurs when $y'$ describes a consensus structure of the sequences in an alignment. \n",
    "\n",
    "As an example, consider the following alignment\n",
    "with a dot-bracket string that describes the consensus base pairs.\n",
    "\n",
    "```\n",
    "GCCGCUUA-CAGGAAUCCUGC\n",
    "CGCGCUUAGCAGGAAUCCUCG\n",
    "GCC-CUUAG-U-GAAUCCAGC\n",
    "((.((...))(((...)))))\n",
    "```\n",
    "\n",
    "For the third alignment row and the dot bracket structure, we want to obtain the following sequence and projected structure\n",
    "```\n",
    "GCCCUUAGUGAAUCCAGC  GCCCUUAGUGAAUCCAGC\n",
    "((.(...)((...).)))  ((.(...)((...).)))\n",
    "```\n",
    "Compared to the consensus structure, the projected structure does not contain any base pair that involved gaps in the alignment string.\n",
    "\n",
    "1. Write a function that performs the 'projection'. It should return the sequence and projected structure. Make use of previously implemented functions from the previous assignments, where appropriate.\n",
    "\n",
    "1. Test [and document] your function.\n",
    "\n",
    "1. Can you reasonably use [or even extend?] the class ```RnaMolecule``` from the previous assignment?"
   ]
  },
  {
   "cell_type": "code",
   "execution_count": 47,
   "metadata": {},
   "outputs": [],
   "source": [
    "def get_rid_brackets_op(list_of_car, index_opening):\n",
    "    \"\"\"deletes in the list_of_car the opening bracket at index index_opening and replace associated closing bracket by \".\"\n",
    "    returns the new list and the indix of the closing bracket\n",
    "    \"\"\"\n",
    "    list_of_car.pop(index_opening)#erases opening bracket\n",
    "    index=0\n",
    "    for i in range(index_opening,len(list_of_car)):\n",
    "        if list_of_car[i]==\"(\":\n",
    "            index+=1\n",
    "        elif list_of_car[i] == \")\":\n",
    "            if index==0:\n",
    "                list_of_car[i]=\".\"\n",
    "                return list_of_car\n",
    "            else :\n",
    "                index-=1\n",
    "    raise NameError('No associated closing bracket. Invalid dbstring')\n",
    "\n",
    "def get_rid_brackets_cl(list_of_car, index_closing):\n",
    "    \"\"\"deletes in the list_of_car the closing bracket at index index_closing and replace associated opening bracket by \".\"\n",
    "    returns the new list and the indix of the opening bracket\n",
    "    \"\"\"\n",
    "    list_of_car.pop(index_closing)#erases opening bracket\n",
    "    index=0\n",
    "    for i in range(index_closing,-1,-1): #go back in the list to find the opening bracket\n",
    "        if list_of_car[i]==\")\":\n",
    "            index+=1\n",
    "        elif list_of_car[i] == \"(\":\n",
    "            if index==0:\n",
    "                list_of_car[i]=\".\"\n",
    "                return list_of_car\n",
    "            else :\n",
    "                index-=1\n",
    "    raise NameError('No associated opening bracket. Invalid dbstring')"
   ]
  },
  {
   "cell_type": "code",
   "execution_count": 48,
   "metadata": {},
   "outputs": [],
   "source": [
    "\n",
    "def projection(alignmentstr,dbstring):\n",
    "    \"\"\"\n",
    "    returns the projected sequence and the projected dot bracket string of the alignement alignmentstr\n",
    "\n",
    "    Args:\n",
    "      alignmentstr : string representing the aligned sequence\n",
    "      dbstring : dbstring of the consensus sequence\n",
    "    \n",
    "    Returns:\n",
    "      proj_seq : string of the projected sequence\n",
    "      proj_db: Sstring of the projected dot bracket string\n",
    "    \"\"\"\n",
    "    proj_seq=[]\n",
    "    proj_db=list(dbstring)\n",
    "    indexdbstring=0 #we need to index how we move in the dbstring because removing prenthesis will change the index\n",
    "    for i in range (len(alignmentstr)):\n",
    "        if alignmentstr[i]==\"-\":\n",
    "            if proj_db[indexdbstring]==\"(\":\n",
    "                proj_db=get_rid_brackets_op(proj_db,indexdbstring)\n",
    "            elif proj_db[indexdbstring]==\")\":\n",
    "                proj_db=get_rid_brackets_cl(proj_db,indexdbstring)\n",
    "            else :\n",
    "                proj_db.pop(indexdbstring)\n",
    "        else :\n",
    "            proj_seq.append(alignmentstr[i])\n",
    "            indexdbstring+=1\n",
    "    return ''.join(proj_seq), ''.join(proj_db)\n"
   ]
  },
  {
   "cell_type": "code",
   "execution_count": 49,
   "metadata": {},
   "outputs": [
    {
     "name": "stdout",
     "output_type": "stream",
     "text": [
      "['.', '(', '.', ')', '.']\n",
      "('GCCCUUAGUGAAUCCAGC', '((.(...)((...).)))')\n"
     ]
    }
   ],
   "source": [
    "list_of_car=[\"(\",\"(\",\".\",\")\",\")\",\".\"]\n",
    "get_rid_brackets_cl(list_of_car, 4)\n",
    "print(list_of_car)\n",
    "\n",
    "alg_str=\"GCC-CUUAG-U-GAAUCCAGC\"\n",
    "dbs=\"((.((...))(((...)))))\"\n",
    "print(projection(alg_str,dbs))"
   ]
  },
  {
   "cell_type": "markdown",
   "metadata": {
    "id": "RBsrSAhM-UOl"
   },
   "source": [
    "### Assignment 4: Count paths in an $n\\times m$ grid\n",
    "\n",
    "In both projects of the class, you will be asked to implement dynamic programming algorithms. As warm-up solve the following problem. An efficient solution uses dynamic programming.\n",
    "\n",
    "Given is a $n \\times m$ grid.\n",
    "\n",
    "For example, here is a grid of $3 \\times 4$ cells:\n",
    "```\n",
    ".     + - + - + - + - +\n",
    ".     |   |   |   |   |\n",
    ".     + - + - + - + - +\n",
    ".     |   |   |   |   |\n",
    ".     + - + - + - + - +\n",
    ".     |   |   |   |   |\n",
    ".     + - + - + - + - +\n",
    "```\n",
    "We want to count the number of paths from the upper-left to the lower-right cell, where paths can only move right or down in each step.\n",
    "Here, is the example grid with one possible path:\n",
    "```\n",
    ".     + - + - + - + - +\n",
    ".     | #---# |   |   |\n",
    ".     + - + | + - + - +\n",
    ".     |   | #---#---# |\n",
    ".     + - + - + - + | +\n",
    ".     |   |   |   | # |\n",
    ".     + - + - + - + - +\n",
    "```\n",
    "\n",
    "1. Write a recursive function that counts paths for $n\\times m$ based on the numbers of paths for $n-1\\times m$ and $n\\times m-1$. Test your function for some [small] instances. Why is this function inefficient?\n",
    "\n",
    "1. Based on the recursive function, develop an efficient function that avoids redundant computation of sub-problems due to dynamic programming.\n",
    "\n",
    "1. Consider the problem variant, where paths can as well move diagonally down-right. How is this problem related to a typical pairwise sequence alignment algorithm (like Needleman-Wunsch)?"
   ]
  },
  {
   "cell_type": "markdown",
   "metadata": {
    "id": "M-VH6R83LgSI"
   },
   "source": [
    "## The Vienna RNA package\n",
    "\n",
    "Before working on the RNA project, you should briefly familiarize yourself with the elementary functionality of the Vienna package. You will get example code that is almost ready to use. The most essential theory is/will be also presented in class and on lecture slides.\n",
    "\n",
    "We use the Vienna RNA package in the RNA project (mainly) to predict Minimum Free Energy structures of RNAs as well as to predict base pair probabilities; moreover, to call RNAalifold for comparison and benchmarks. These uses will be demonstrated in this document.\n",
    "\n",
    "The home of the Vienna package is\n",
    "\n",
    "https://www.tbi.univie.ac.at/RNA/\n",
    "\n",
    "Among other things, you will find **documentation of the Python API** (https://www.tbi.univie.ac.at/RNA/ViennaRNA/refman/index.html).\n",
    "\n",
    "Recall, that one can install the Vienna RNA package using pip: ```pip install viennarna```"
   ]
  },
  {
   "cell_type": "markdown",
   "metadata": {
    "id": "Addb5J6LLQbV"
   },
   "source": [
    "## Usage of the Vienna RNA package in Python"
   ]
  },
  {
   "cell_type": "markdown",
   "metadata": {
    "id": "-UuIlruCOuon",
    "lines_to_next_cell": 0
   },
   "source": [
    "One finds more details in the API documentation:\n",
    "\n",
    "https://www.tbi.univie.ac.at/RNA/ViennaRNA/refman/index.html"
   ]
  },
  {
   "cell_type": "markdown",
   "metadata": {
    "id": "qzu13xCRO0Tp"
   },
   "source": [
    "#### Predicting the Minimum free energy structure"
   ]
  },
  {
   "cell_type": "code",
   "execution_count": 10,
   "metadata": {
    "id": "yYGquGHgJ8ve"
   },
   "outputs": [
    {
     "name": "stdout",
     "output_type": "stream",
     "text": [
      "GAGUAGUGGAACCAGGCUAUGUUUGUGACUCGCAGACUAACA\n",
      "..(((((........)))))(((((((...)))))))..... [  -8.80 ]\n",
      "\n"
     ]
    }
   ],
   "source": [
    "import RNA\n",
    "# The RNA sequence\n",
    "sequence = \"GAGUAGUGGAACCAGGCUAUGUUUGUGACUCGCAGACUAACA\"\n",
    "\n",
    "# create a new model details structure\n",
    "md = RNA.md()\n",
    "\n",
    "# optionally one could change all kinds of parameters\n",
    "# md.temperature = 25.0 # 25 Deg Celcius\n",
    "# md.dangles = 1 # keep default dangles=2 for compatibility with partition folding\n",
    "\n",
    "# create a fold compound\n",
    "fc = RNA.fold_compound(sequence, md)\n",
    "\n",
    "# predict Minmum Free Energy and corresponding secondary structure\n",
    "(ss, mfe) = fc.mfe()\n",
    "\n",
    "# print sequence, structure and MFE\n",
    "print(\"%s\\n%s [ %6.2f ]\\n\" % (sequence, ss, mfe))"
   ]
  },
  {
   "cell_type": "markdown",
   "metadata": {},
   "source": [
    "For interpretation the dot bracket string in a program, the RNA lib supports conversion to a 'pair table'.\n",
    "This can be used as alternative to a base pair list (as you were asked to produce before in parse_RNA_structure) or allows to more easily generate one."
   ]
  },
  {
   "cell_type": "code",
   "execution_count": 11,
   "metadata": {
    "id": "yYGquGHgJ8ve"
   },
   "outputs": [
    {
     "name": "stdout",
     "output_type": "stream",
     "text": [
      "{ data: [42,0,0,20,19,18,17,16,0,0,0,0,0,0,0,0,7,6,5,4,3,37,36,35,34,33,32,31,0,0,0,27,26,25,24,23,22,21,0,0,0,0,0], type: RNA.VAR_ARRAY_LINEAR | RNA.VAR_ARRAY_ONE_BASED}\n"
     ]
    }
   ],
   "source": [
    "# parse the dot-bracket structure:\n",
    "# RNA.ptable returns a table, such that table[i]=j if (i.j) pair or 0 if i is unpaired.\n",
    "# note: positions are 1-based; table[0] contains the length of the structure.\n",
    "pt = RNA.ptable(ss)\n",
    "print(pt)"
   ]
  },
  {
   "cell_type": "markdown",
   "metadata": {},
   "source": [
    "The RNA library implements functionality to draw structures. Here is code to draw the predicted structure."
   ]
  },
  {
   "cell_type": "code",
   "execution_count": 12,
   "metadata": {},
   "outputs": [
    {
     "data": {
      "image/svg+xml": [
       "<svg xmlns=\"http://www.w3.org/2000/svg\" height=\"452\" width=\"452\">\n",
       "  <script type=\"text/ecmascript\">\n",
       "    <![CDATA[\n",
       "      var shown = 1;\n",
       "      function click() {\n",
       "        var seq = document.getElementById(\"seq\");\n",
       "        if (shown==1) {\n",
       "          seq.setAttribute(\"style\", \"visibility: hidden\");\n",
       "          shown = 0;\n",
       "        } else {\n",
       "          seq.setAttribute(\"style\", \"visibility: visible\");\n",
       "          shown = 1;\n",
       "        }\n",
       "      }\n",
       "    ]]>\n",
       "  </script>\n",
       "  <style type=\"text/css\">\n",
       "    <![CDATA[\n",
       "      .nucleotide {\n",
       "        font-family: SansSerif;\n",
       "      }\n",
       "      .backbone {\n",
       "        stroke: grey;\n",
       "        fill:   none;\n",
       "        stroke-width: 1.5;\n",
       "      }\n",
       "      .basepairs {\n",
       "        stroke: red;\n",
       "        fill:   none;\n",
       "        stroke-width: 2.5;\n",
       "      }\n",
       "    ]]>\n",
       "  </style>\n",
       "\n",
       "  <rect style=\"stroke: white; fill: white\" height=\"452\" x=\"0\" y=\"0\" width=\"452\" onclick=\"click(evt)\"/>\n",
       "  <g transform=\"scale(1.852459,1.852459) translate(22.500000,28.500000)\">\n",
       "    <polyline class=\"backbone\" id=\"outline\" points=\"       82.534,53.134       82.870,68.130       91.518,80.388       76.608,82.029       61.698,83.669       46.788,85.310       31.878,86.950       21.539,75.379       6.366,72.128       -7.806,78.447       -15.528,91.906       -13.831,107.330       -3.367,118.788       11.840,121.875       25.943,115.402       33.519,101.860       48.429,100.220       63.339,98.579       78.249,96.939       93.159,95.298       107.909,98.023       121.249,104.881       134.589,111.740       147.929,118.598       161.270,125.457       174.610,132.316       187.950,139.174       199.272,151.794       214.532,144.408       211.660,127.699       194.808,125.834       181.468,118.976       168.128,112.117       154.788,105.258       141.448,98.400       128.108,91.541       114.768,84.682       127.223,76.324       132.895,62.438       129.854,47.749       119.134,37.257       104.383,34.533     \"/>\n",
       "    <g id=\"pairs\">\n",
       "      <line class=\"basepairs\" id=\"3,20\" x1=\"91.51800\" y1=\"80.38802\" x2=\"93.15856\" y2=\"95.29803\"/>\n",
       "      <line class=\"basepairs\" id=\"4,19\" x1=\"76.60798\" y1=\"82.02859\" x2=\"78.24855\" y2=\"96.93861\"/>\n",
       "      <line class=\"basepairs\" id=\"5,18\" x1=\"61.69797\" y1=\"83.66916\" x2=\"63.33854\" y2=\"98.57917\"/>\n",
       "      <line class=\"basepairs\" id=\"6,17\" x1=\"46.78795\" y1=\"85.30972\" x2=\"48.42852\" y2=\"100.21974\"/>\n",
       "      <line class=\"basepairs\" id=\"7,16\" x1=\"31.87794\" y1=\"86.95029\" x2=\"33.51851\" y2=\"101.86031\"/>\n",
       "      <line class=\"basepairs\" id=\"21,37\" x1=\"107.90905\" y1=\"98.02259\" x2=\"114.76768\" y2=\"84.68246\"/>\n",
       "      <line class=\"basepairs\" id=\"22,36\" x1=\"121.24918\" y1=\"104.88123\" x2=\"128.10782\" y2=\"91.54109\"/>\n",
       "      <line class=\"basepairs\" id=\"23,35\" x1=\"134.58931\" y1=\"111.73986\" x2=\"141.44795\" y2=\"98.39973\"/>\n",
       "      <line class=\"basepairs\" id=\"24,34\" x1=\"147.92944\" y1=\"118.59850\" x2=\"154.78809\" y2=\"105.25836\"/>\n",
       "      <line class=\"basepairs\" id=\"25,33\" x1=\"161.26958\" y1=\"125.45712\" x2=\"168.12822\" y2=\"112.11700\"/>\n",
       "      <line class=\"basepairs\" id=\"26,32\" x1=\"174.60971\" y1=\"132.31577\" x2=\"181.46834\" y2=\"118.97563\"/>\n",
       "      <line class=\"basepairs\" id=\"27,31\" x1=\"187.94984\" y1=\"139.17439\" x2=\"194.80847\" y2=\"125.83427\"/>\n",
       "    </g>\n",
       "    <g transform=\"translate(-4.6, 4)\" id=\"seq\">\n",
       "      <text class=\"nucleotide\" x=\"82.534\" y=\"53.134\">G</text>\n",
       "      <text class=\"nucleotide\" x=\"82.870\" y=\"68.130\">A</text>\n",
       "      <text class=\"nucleotide\" x=\"91.518\" y=\"80.388\">G</text>\n",
       "      <text class=\"nucleotide\" x=\"76.608\" y=\"82.029\">U</text>\n",
       "      <text class=\"nucleotide\" x=\"61.698\" y=\"83.669\">A</text>\n",
       "      <text class=\"nucleotide\" x=\"46.788\" y=\"85.310\">G</text>\n",
       "      <text class=\"nucleotide\" x=\"31.878\" y=\"86.950\">U</text>\n",
       "      <text class=\"nucleotide\" x=\"21.539\" y=\"75.379\">G</text>\n",
       "      <text class=\"nucleotide\" x=\"6.366\" y=\"72.128\">G</text>\n",
       "      <text class=\"nucleotide\" x=\"-7.806\" y=\"78.447\">A</text>\n",
       "      <text class=\"nucleotide\" x=\"-15.528\" y=\"91.906\">A</text>\n",
       "      <text class=\"nucleotide\" x=\"-13.831\" y=\"107.330\">C</text>\n",
       "      <text class=\"nucleotide\" x=\"-3.367\" y=\"118.788\">C</text>\n",
       "      <text class=\"nucleotide\" x=\"11.840\" y=\"121.875\">A</text>\n",
       "      <text class=\"nucleotide\" x=\"25.943\" y=\"115.402\">G</text>\n",
       "      <text class=\"nucleotide\" x=\"33.519\" y=\"101.860\">G</text>\n",
       "      <text class=\"nucleotide\" x=\"48.429\" y=\"100.220\">C</text>\n",
       "      <text class=\"nucleotide\" x=\"63.339\" y=\"98.579\">U</text>\n",
       "      <text class=\"nucleotide\" x=\"78.249\" y=\"96.939\">A</text>\n",
       "      <text class=\"nucleotide\" x=\"93.159\" y=\"95.298\">U</text>\n",
       "      <text class=\"nucleotide\" x=\"107.909\" y=\"98.023\">G</text>\n",
       "      <text class=\"nucleotide\" x=\"121.249\" y=\"104.881\">U</text>\n",
       "      <text class=\"nucleotide\" x=\"134.589\" y=\"111.740\">U</text>\n",
       "      <text class=\"nucleotide\" x=\"147.929\" y=\"118.598\">U</text>\n",
       "      <text class=\"nucleotide\" x=\"161.270\" y=\"125.457\">G</text>\n",
       "      <text class=\"nucleotide\" x=\"174.610\" y=\"132.316\">U</text>\n",
       "      <text class=\"nucleotide\" x=\"187.950\" y=\"139.174\">G</text>\n",
       "      <text class=\"nucleotide\" x=\"199.272\" y=\"151.794\">A</text>\n",
       "      <text class=\"nucleotide\" x=\"214.532\" y=\"144.408\">C</text>\n",
       "      <text class=\"nucleotide\" x=\"211.660\" y=\"127.699\">U</text>\n",
       "      <text class=\"nucleotide\" x=\"194.808\" y=\"125.834\">C</text>\n",
       "      <text class=\"nucleotide\" x=\"181.468\" y=\"118.976\">G</text>\n",
       "      <text class=\"nucleotide\" x=\"168.128\" y=\"112.117\">C</text>\n",
       "      <text class=\"nucleotide\" x=\"154.788\" y=\"105.258\">A</text>\n",
       "      <text class=\"nucleotide\" x=\"141.448\" y=\"98.400\">G</text>\n",
       "      <text class=\"nucleotide\" x=\"128.108\" y=\"91.541\">A</text>\n",
       "      <text class=\"nucleotide\" x=\"114.768\" y=\"84.682\">C</text>\n",
       "      <text class=\"nucleotide\" x=\"127.223\" y=\"76.324\">U</text>\n",
       "      <text class=\"nucleotide\" x=\"132.895\" y=\"62.438\">A</text>\n",
       "      <text class=\"nucleotide\" x=\"129.854\" y=\"47.749\">A</text>\n",
       "      <text class=\"nucleotide\" x=\"119.134\" y=\"37.257\">C</text>\n",
       "      <text class=\"nucleotide\" x=\"104.383\" y=\"34.533\">A</text>\n",
       "    </g>\n",
       "  </g>\n",
       "<script type=\"text/ecmascript\">\n",
       "<![CDATA[\n",
       "  let sequence = \"GAGUAGUGGAACCAGGCUAUGUUUGUGACUCGCAGACUAACA\";\n",
       "  let structure = \"..(((((........)))))(((((((...))))))).....\";\n",
       "  const basepairs = [\n",
       "    { i: 3, j: 20, type: \"cWW\" },\n",
       "    { i: 4, j: 19, type: \"cWW\" },\n",
       "    { i: 5, j: 18, type: \"cWW\" },\n",
       "    { i: 6, j: 17, type: \"cWW\" },\n",
       "    { i: 7, j: 16, type: \"cWW\" },\n",
       "    { i: 21, j: 37, type: \"cWW\" },\n",
       "    { i: 22, j: 36, type: \"cWW\" },\n",
       "    { i: 23, j: 35, type: \"cWW\" },\n",
       "    { i: 24, j: 34, type: \"cWW\" },\n",
       "    { i: 25, j: 33, type: \"cWW\" },\n",
       "    { i: 26, j: 32, type: \"cWW\" },\n",
       "    { i: 27, j: 31, type: \"cWW\" }];\n",
       "  const coords = [\n",
       "    { x: 82.534, y: 53.134 },\n",
       "    { x: 82.870, y: 68.130 },\n",
       "    { x: 91.518, y: 80.388 },\n",
       "    { x: 76.608, y: 82.029 },\n",
       "    { x: 61.698, y: 83.669 },\n",
       "    { x: 46.788, y: 85.310 },\n",
       "    { x: 31.878, y: 86.950 },\n",
       "    { x: 21.539, y: 75.379 },\n",
       "    { x:  6.366, y: 72.128 },\n",
       "    { x: -7.806, y: 78.447 },\n",
       "    { x: -15.528, y: 91.906 },\n",
       "    { x: -13.831, y: 107.330 },\n",
       "    { x: -3.367, y: 118.788 },\n",
       "    { x: 11.840, y: 121.875 },\n",
       "    { x: 25.943, y: 115.402 },\n",
       "    { x: 33.519, y: 101.860 },\n",
       "    { x: 48.429, y: 100.220 },\n",
       "    { x: 63.339, y: 98.579 },\n",
       "    { x: 78.249, y: 96.939 },\n",
       "    { x: 93.159, y: 95.298 },\n",
       "    { x: 107.909, y: 98.023 },\n",
       "    { x: 121.249, y: 104.881 },\n",
       "    { x: 134.589, y: 111.740 },\n",
       "    { x: 147.929, y: 118.598 },\n",
       "    { x: 161.270, y: 125.457 },\n",
       "    { x: 174.610, y: 132.316 },\n",
       "    { x: 187.950, y: 139.174 },\n",
       "    { x: 199.272, y: 151.794 },\n",
       "    { x: 214.532, y: 144.408 },\n",
       "    { x: 211.660, y: 127.699 },\n",
       "    { x: 194.808, y: 125.834 },\n",
       "    { x: 181.468, y: 118.976 },\n",
       "    { x: 168.128, y: 112.117 },\n",
       "    { x: 154.788, y: 105.258 },\n",
       "    { x: 141.448, y: 98.400 },\n",
       "    { x: 128.108, y: 91.541 },\n",
       "    { x: 114.768, y: 84.682 },\n",
       "    { x: 127.223, y: 76.324 },\n",
       "    { x: 132.895, y: 62.438 },\n",
       "    { x: 129.854, y: 47.749 },\n",
       "    { x: 119.134, y: 37.257 },\n",
       "    { x: 104.383, y: 34.533 }];\n",
       "]]>\n",
       "</script>\n",
       "</svg>"
      ],
      "text/plain": [
       "<IPython.core.display.SVG object>"
      ]
     },
     "execution_count": 12,
     "metadata": {},
     "output_type": "execute_result"
    }
   ],
   "source": [
    "import tempfile\n",
    "from IPython.display import SVG\n",
    "\n",
    "fp = tempfile.NamedTemporaryFile(suffix=\".svg\", delete=False)\n",
    "RNA.svg_rna_plot(sequence, structure=ss, ssfile=fp.name)\n",
    "SVG(fp.name)"
   ]
  },
  {
   "cell_type": "markdown",
   "metadata": {
    "id": "um6XmLZGQV_v"
   },
   "source": [
    "#### Predicting partition funtions and  base pair probabilities"
   ]
  },
  {
   "cell_type": "code",
   "execution_count": 13,
   "metadata": {
    "id": "CXNjxKF-QcJX",
    "lines_to_next_cell": 2
   },
   "outputs": [
    {
     "data": {
      "text/plain": [
       "['..(((((........)))))(((((((...))))))).....', -9.020990371704102]"
      ]
     },
     "execution_count": 13,
     "metadata": {},
     "output_type": "execute_result"
    }
   ],
   "source": [
    "## Code adapted from the Vienna RNA package API documentation\n",
    "\n",
    "import RNA\n",
    "sequence = \"GAGUAGUGGAACCAGGCUAUGUUUGUGACUCGCAGACUAACA\"\n",
    "# create model details\n",
    "md = RNA.md()\n",
    "# activate unique multibranch loop decomposition\n",
    "md.uniq_ML = 1\n",
    "# create fold compound object\n",
    "fc = RNA.fold_compound(sequence, md)\n",
    "# compute MFE\n",
    "(ss, mfe) = fc.mfe()\n",
    "# rescale Boltzmann factors according to MFE; rescaling avoids numerical problems for long sequences\n",
    "fc.exp_params_rescale(mfe)\n",
    "# compute partition function to fill DP matrices\n",
    "fc.pf()"
   ]
  },
  {
   "cell_type": "markdown",
   "metadata": {},
   "source": [
    "After calculating the partition function, one can get a matrix of base pair probabilities from the fold compound. Attention: this matrix is 1-based and only entries i<j are meaningful."
   ]
  },
  {
   "cell_type": "code",
   "execution_count": 14,
   "metadata": {
    "id": "CXNjxKF-QcJX",
    "lines_to_next_cell": 2
   },
   "outputs": [
    {
     "name": "stdout",
     "output_type": "stream",
     "text": [
      "((0.0, 0.0, 0.0, 0.0, 0.0, 0.0, 0.0, 0.0, 0.0, 0.0, 0.0, 0.0, 0.0, 0.0, 0.0, 0.0, 0.0, 0.0, 0.0, 0.0, 0.0, 0.0, 0.0, 0.0, 0.0, 0.0, 0.0, 0.0, 0.0, 0.0, 0.0, 0.0, 0.0, 0.0, 0.0, 0.0, 0.0, 0.0, 0.0, 0.0, 0.0, 0.0, 0.0), (0.0, 0.0, 0.0, 0.0, 0.0, 0.0, 0.0, 2.471517529842516e-06, 0.0, 0.0, 0.0, 0.0, 6.7914308034729204e-06, 0.0010463644992186184, 0.0, 0.0, 0.0, 7.447410311850143e-05, 2.9291356941424898e-05, 0.0, 0.0005026182125581968, 0.0, 3.417231000231424e-05, 1.8486889452001566e-05, 5.428577622559217e-06, 0.0, 2.060338991945052e-08, 0.0, 0.0, 3.329735477374925e-08, 1.2277730722081869e-08, 0.007621723242911447, 0.0, 2.7482845615862135e-05, 0.0, 0.0, 0.0, 3.630494075522003e-05, 8.068136451807428e-05, 0.0, 0.0, 0.0024215220879167942, 0.0), (0.0, 0.0, 0.0, 0.0, 0.0, 0.0, 0.0, 2.4132247404604086e-05, 0.0, 0.0, 0.0, 0.0, 0.0, 0.0, 0.0, 0.0, 0.0, 0.0, 0.025220545619955785, 0.0, 0.003759500839455213, 0.0, 2.829946707802918e-05, 7.251982919229703e-06, 1.0551914003292453e-06, 0.0, 6.341868188769273e-08, 0.0, 0.0, 0.0, 0.007633181352583169, 0.0, 0.0, 0.0, 0.0, 0.0, 0.0, 0.0, 0.012284519297498618, 0.0, 0.0, 0.0, 0.0), (0.0, 0.0, 0.0, 0.0, 0.0, 0.0, 0.0, 8.008785475010497e-07, 0.0, 0.0, 0.0, 0.0, 0.0017210870405628752, 2.6918999287934283e-05, 0.0, 0.0, 0.0, 0.02711839054436514, 1.8272380738309906e-05, 0.0, 0.8069978578002509, 0.0, 2.879206753173223e-06, 9.189248811188164e-07, 2.3300483677659037e-08, 0.0, 5.344761320695178e-09, 0.0, 0.0, 0.0076310939476650925, 1.271940008788574e-08, 3.8272669521125093e-05, 0.0, 0.00011242270908933211, 0.0, 0.0, 0.0, 0.012973935922341109, 1.2245814351621207e-05, 0.0, 0.0, 0.000837758812042631, 0.0), (0.0, 0.0, 0.0, 0.0, 0.0, 0.0, 0.0, 0.0, 1.4169811859304602e-06, 6.279322847476924e-06, 1.0571540384303803e-05, 0.0016247197556183627, 0.0, 0.0, 3.150968260982012e-05, 1.9356196473435803e-05, 0.026645367376589534, 0.0, 0.0, 0.9097783847336198, 0.0, 2.4070558508803175e-06, 0.0, 0.0, 0.0, 2.1599331062115793e-07, 0.0, 2.349355159940051e-05, 0.007411993943860133, 0.0, 0.0, 0.0, 0.00010962014090778301, 0.0, 3.227394925624586e-05, 3.116721535670098e-05, 0.012820278849986507, 0.0, 0.0, 0.00011225379007453829, 0.0006099918800578652, 0.0, 1.2419086441248822e-06), (0.0, 0.0, 0.0, 0.0, 0.0, 0.0, 0.0, 0.0, 0.0, 0.0, 0.0, 0.0, 0.0, 0.0, 0.0, 0.0, 0.0, 0.0, 0.9275664547596563, 0.0, 7.610469058738916e-05, 0.0, 7.159782642491379e-07, 5.638035427745225e-07, 7.841020501432848e-07, 0.0, 4.048250792555197e-05, 0.0, 0.0, 0.0, 0.0001538444971886984, 0.0, 0.0, 0.0, 0.0, 0.0, 0.0, 0.0, 0.00015479658048561524, 0.0, 0.0, 0.0, 0.0), (0.0, 0.0, 0.0, 0.0, 0.0, 0.0, 0.0, 0.0, 0.0, 0.0, 0.0, 0.0, 0.0010930123305217718, 0.0015865293807492188, 0.0, 0.0, 0.0, 0.9301112374310386, 6.871856841270755e-06, 0.0, 0.005349710633413856, 0.0, 1.731261241676319e-07, 2.838660724329433e-07, 2.812036113682114e-07, 0.0, 0.00027479961326432907, 0.0, 0.0, 0.00016045437594329175, 1.3317478865755163e-06, 2.205322003614306e-05, 0.0, 0.01368235289986571, 0.0, 0.0, 0.0, 0.00013696439203732903, 3.270492875214204e-06, 0.0, 0.0, 0.00016798083295736636, 0.0), (0.0, 0.0, 0.0, 0.0, 0.0, 0.0, 0.0, 0.0, 0.0, 0.0, 0.0, 0.0009040746505623334, 0.0, 0.0, 0.026097879361169564, 0.0007633414900203915, 0.9219242393310791, 0.0, 0.0, 0.006019051425881851, 0.0, 4.279194390223666e-08, 0.0, 0.0, 0.0, 8.130886336096422e-05, 0.0, 4.2605239697103863e-05, 0.0001576692692986444, 0.0, 0.0, 0.0, 0.013680720800434719, 0.0, 0.0001913241001004507, 1.0652590505662041e-06, 0.00010908591585621048, 0.0, 0.0, 5.228537780490501e-06, 0.00016231665301794727, 0.0, 2.245070332654453e-05), (0.0, 0.0, 0.0, 0.0, 0.0, 0.0, 0.0, 0.0, 0.0, 0.0, 0.0, 0.0, 0.0008571250298849574, 0.03424714040334202, 0.0, 0.0, 0.0, 0.00041011371127805754, 0.006182759388341788, 0.0, 1.7177916087011634e-06, 0.0, 4.868174650921951e-07, 1.689661509934459e-06, 0.00010259794063848611, 0.0, 8.572610993408824e-05, 0.0, 0.0, 7.040300822732984e-05, 3.981920315785776e-05, 0.013579703679680269, 0.0, 0.00021695335070619453, 0.0, 0.0, 0.0, 1.442255181782038e-07, 7.098593472215311e-06, 0.0, 0.0, 3.614501346068111e-05, 0.0), (0.0, 0.0, 0.0, 0.0, 0.0, 0.0, 0.0, 0.0, 0.0, 0.0, 0.0, 0.0, 0.0, 0.008522906049398937, 0.0, 0.0, 0.0, 0.0061828378432927265, 6.593294803825962e-06, 0.0, 4.328252141616387e-07, 0.0, 1.287055275431134e-06, 8.420376783681066e-05, 0.006987917674441008, 0.0, 9.762351521429607e-05, 0.0, 0.0, 0.0017183374308932765, 0.010107855168920073, 0.00035488502904609137, 0.0, 1.1970287809396914e-05, 0.0, 0.0, 0.0, 4.351495608416295e-06, 2.9941199360990213e-06, 0.0, 0.0, 2.3779664915276414e-06, 0.0), (0.0, 0.0, 0.0, 0.0, 0.0, 0.0, 0.0, 0.0, 0.0, 0.0, 0.0, 0.0, 0.0, 0.0, 0.0, 0.0, 0.0, 0.0, 3.432855425420968e-06, 0.0, 1.6676438041775286e-06, 0.0, 6.179118955522784e-05, 0.007126662309832808, 0.00012200590048471457, 0.0, 6.465879636394587e-06, 0.0, 0.0, 0.0, 0.0003840256025923822, 0.0, 0.0, 0.0, 0.0, 0.0, 0.0, 0.0, 1.6561008785662213e-06, 0.0, 0.0, 0.0, 0.0), (0.0, 0.0, 0.0, 0.0, 0.0, 0.0, 0.0, 0.0, 0.0, 0.0, 0.0, 0.0, 0.0, 0.0, 0.0, 0.0, 0.0, 0.0, 4.44441262059627e-06, 0.0, 4.5394000762254e-06, 0.0, 0.00715069156161774, 0.00011197488532087448, 5.927811166904594e-07, 0.0, 0.0007197908109840249, 0.0, 0.0, 0.0, 6.178534107971359e-06, 0.0, 0.0, 0.0, 0.0, 0.0, 0.0, 0.0, 5.475751797991457e-06, 0.0, 0.0, 0.0, 0.0), (0.0, 0.0, 0.0, 0.0, 0.0, 0.0, 0.0, 0.0, 0.0, 0.0, 0.0, 0.0, 0.0, 0.0, 0.0, 0.0, 3.610067837718052e-05, 0.0, 0.0, 0.0, 0.0, 0.006615845766684763, 0.0, 0.0, 0.0, 0.0004046389539108098, 0.0, 0.00850158123154441, 0.0, 0.0, 0.0, 0.0, 4.817784143608874e-06, 0.0, 0.0, 3.142765912038036e-07, 0.0, 0.0, 0.0, 0.0, 0.0, 0.0, 0.0), (0.0, 0.0, 0.0, 0.0, 0.0, 0.0, 0.0, 0.0, 0.0, 0.0, 0.0, 0.0, 0.0, 0.0, 0.0, 0.0, 0.0, 0.0, 0.0, 0.0, 0.0, 0.0007655691289269282, 0.0, 0.0, 0.0, 0.013833813644714865, 0.0, 8.788151681292134e-05, 0.0, 0.0, 0.0, 0.0, 1.4803747874329515e-06, 0.0, 0.0, 1.2063613330037433e-06, 0.0, 0.0, 0.0, 0.0, 0.0, 0.0, 0.0), (0.0, 0.0, 0.0, 0.0, 0.0, 0.0, 0.0, 0.0, 0.0, 0.0, 0.0, 0.0, 0.0, 0.0, 0.0, 0.0, 0.0, 0.0, 8.213064493660323e-06, 0.0, 0.0012825688958819225, 0.0, 7.213951435543085e-07, 4.076470075856627e-05, 0.014170021574486782, 0.0, 8.17092010187293e-05, 0.0, 0.0, 0.0, 1.0979987873252608e-05, 0.0, 0.0, 0.0, 0.0, 0.0, 0.0, 0.0, 1.859197276088476e-06, 0.0, 0.0, 0.0, 0.0), (0.0, 0.0, 0.0, 0.0, 0.0, 0.0, 0.0, 0.0, 0.0, 0.0, 0.0, 0.0, 0.0, 0.0, 0.0, 0.0, 0.0, 0.0, 0.0, 0.0, 4.192227593746124e-05, 0.0, 4.0634316849240866e-05, 0.014099350473273403, 7.403376313567276e-06, 0.0, 6.480007918522086e-07, 0.0, 0.0, 1.2265557235821286e-05, 3.3750809251035475e-06, 4.198779710195549e-07, 0.0, 4.833954775906415e-08, 0.0, 0.0, 0.0, 1.2253655900070283e-06, 4.196811405782009e-06, 0.0, 0.0, 0.0010787498797968599, 0.0), (0.0, 0.0, 0.0, 0.0, 0.0, 0.0, 0.0, 0.0, 0.0, 0.0, 0.0, 0.0, 0.0, 0.0, 0.0, 0.0, 0.0, 0.0, 0.0, 0.0, 3.893493002618455e-06, 0.0, 0.014116081440932514, 5.822456857625675e-06, 4.393842300965597e-05, 0.0, 7.06595167791601e-05, 0.0, 0.0, 4.145834851376589e-06, 1.848494552169984e-07, 1.6587643148883386e-08, 0.0, 7.442608651242263e-06, 0.0, 0.0, 0.0, 2.381258532657926e-06, 4.569526548974666e-06, 0.0, 0.0, 0.0014887607520714284, 0.0), (0.0, 0.0, 0.0, 0.0, 0.0, 0.0, 0.0, 0.0, 0.0, 0.0, 0.0, 0.0, 0.0, 0.0, 0.0, 0.0, 0.0, 0.0, 0.0, 0.0, 0.0, 0.013961790273677737, 0.0, 0.0, 0.0, 7.35893988907898e-05, 0.0, 4.592391553123692e-06, 0.0, 0.0, 0.0, 0.0, 7.418474570840771e-06, 0.0, 0.0, 6.520598264715991e-07, 0.0, 0.0, 0.0, 0.0, 0.0, 0.0, 0.0), (0.0, 0.0, 0.0, 0.0, 0.0, 0.0, 0.0, 0.0, 0.0, 0.0, 0.0, 0.0, 0.0, 0.0, 0.0, 0.0, 0.0, 0.0, 0.0, 0.0, 0.0, 0.0, 0.0, 0.0, 0.0, 2.8391450827864785e-06, 0.0, 5.296713690196216e-06, 3.2779272899378054e-08, 0.0, 0.0, 0.0, 2.4215689070267696e-08, 0.0, 5.689328147681015e-07, 1.7839612068106645e-08, 5.1422852311608104e-08, 0.0, 0.0, 0.0036113871659508067, 0.00019433447334126652, 0.0, 4.85710456350157e-06), (0.0, 0.0, 0.0, 0.0, 0.0, 0.0, 0.0, 0.0, 0.0, 0.0, 0.0, 0.0, 0.0, 0.0, 0.0, 0.0, 0.0, 0.0, 0.0, 0.0, 0.0, 0.0, 0.0, 6.068943381037105e-07, 5.0382473460032694e-06, 0.0, 6.331653271587532e-06, 0.0, 0.0, 0.0, 1.7576415975812223e-06, 0.0, 0.0, 0.0, 0.0, 0.0, 0.0, 0.0, 0.004287484294118837, 0.0, 0.0, 0.0, 0.0), (0.0, 0.0, 0.0, 0.0, 0.0, 0.0, 0.0, 0.0, 0.0, 0.0, 0.0, 0.0, 0.0, 0.0, 0.0, 0.0, 0.0, 0.0, 0.0, 0.0, 0.0, 0.0, 0.0, 0.0, 0.0, 5.8186378519895054e-06, 0.0, 4.407826000099518e-08, 7.879386661579797e-08, 0.0, 0.0, 0.0, 3.489322384983611e-07, 0.0, 2.4354167894145064e-06, 3.093123025099019e-08, 3.5393427989488613e-07, 0.0, 0.0, 0.0023476216224676107, 0.00012258784752001707, 0.0, 0.00023528968726601915), (0.0, 0.0, 0.0, 0.0, 0.0, 0.0, 0.0, 0.0, 0.0, 0.0, 0.0, 0.0, 0.0, 0.0, 0.0, 0.0, 0.0, 0.0, 0.0, 0.0, 0.0, 0.0, 0.0, 0.0, 0.0, 0.0, 5.54934639216865e-08, 0.0, 0.0, 2.0126564060209592e-05, 3.0377591845790464e-08, 6.853363299381419e-07, 0.0, 5.313094772578594e-06, 0.0, 0.0, 0.0, 0.9704939428048137, 0.0002355625455752672, 0.0, 0.0, 0.0009316484491748429, 0.0), (0.0, 0.0, 0.0, 0.0, 0.0, 0.0, 0.0, 0.0, 0.0, 0.0, 0.0, 0.0, 0.0, 0.0, 0.0, 0.0, 0.0, 0.0, 0.0, 0.0, 0.0, 0.0, 0.0, 0.0, 0.0, 0.0, 0.0, 3.098314768209326e-07, 1.9903508477628843e-05, 0.0, 0.0, 0.0, 4.9682016286711505e-06, 0.0, 1.5576242634728255e-07, 5.229663892778919e-06, 0.9748265325797505, 0.0, 0.0, 1.7908644255365347e-06, 0.0008542095098602561, 0.0, 6.011797292618814e-08), (0.0, 0.0, 0.0, 0.0, 0.0, 0.0, 0.0, 0.0, 0.0, 0.0, 0.0, 0.0, 0.0, 0.0, 0.0, 0.0, 0.0, 0.0, 0.0, 0.0, 0.0, 0.0, 0.0, 0.0, 0.0, 0.0, 0.0, 1.6196194681264377e-05, 5.5434988690693584e-08, 0.0, 0.0, 0.0, 5.3127046671851676e-08, 0.0, 4.489779738723554e-06, 0.9744397606027999, 7.551187351955347e-06, 0.0, 0.0, 0.0005583680495527546, 1.3360964732632757e-06, 0.0, 5.154462391964728e-08), (0.0, 0.0, 0.0, 0.0, 0.0, 0.0, 0.0, 0.0, 0.0, 0.0, 0.0, 0.0, 0.0, 0.0, 0.0, 0.0, 0.0, 0.0, 0.0, 0.0, 0.0, 0.0, 0.0, 0.0, 0.0, 0.0, 0.0, 0.0, 5.18290729773122e-08, 0.0, 0.0, 0.0, 5.563825027137309e-06, 0.0, 0.9754839959331608, 4.376563209665426e-06, 3.487764766960283e-05, 0.0, 0.0, 1.8674483900148088e-06, 1.1239895466981579e-07, 0.0, 1.7374790294204806e-05), (0.0, 0.0, 0.0, 0.0, 0.0, 0.0, 0.0, 0.0, 0.0, 0.0, 0.0, 0.0, 0.0, 0.0, 0.0, 0.0, 0.0, 0.0, 0.0, 0.0, 0.0, 0.0, 0.0, 0.0, 0.0, 0.0, 0.0, 0.0, 0.0, 1.910552276890538e-06, 1.296553924766865e-07, 1.044593190771776e-05, 0.0, 0.9773343414225572, 0.0, 0.0, 0.0, 0.0004095262390000499, 1.0139591841977887e-06, 0.0, 0.0, 2.8616208588275055e-05, 0.0), (0.0, 0.0, 0.0, 0.0, 0.0, 0.0, 0.0, 0.0, 0.0, 0.0, 0.0, 0.0, 0.0, 0.0, 0.0, 0.0, 0.0, 0.0, 0.0, 0.0, 0.0, 0.0, 0.0, 0.0, 0.0, 0.0, 0.0, 0.0, 0.0, 0.0, 0.0, 0.0, 0.9731162399670984, 0.0, 7.587998243841794e-05, 2.5728314519807375e-06, 0.00040037647514310854, 0.0, 0.0, 1.9039249276390205e-07, 2.7995446402920907e-05, 0.0, 1.6788917536117117e-07), (0.0, 0.0, 0.0, 0.0, 0.0, 0.0, 0.0, 0.0, 0.0, 0.0, 0.0, 0.0, 0.0, 0.0, 0.0, 0.0, 0.0, 0.0, 0.0, 0.0, 0.0, 0.0, 0.0, 0.0, 0.0, 0.0, 0.0, 0.0, 0.0, 0.0, 0.0, 0.8828244873093045, 0.0, 8.364333391708663e-05, 0.0, 0.0, 0.0, 2.50968531445495e-06, 2.5758208186406634e-07, 0.0, 0.0, 2.697619337315134e-07, 0.0), (0.0, 0.0, 0.0, 0.0, 0.0, 0.0, 0.0, 0.0, 0.0, 0.0, 0.0, 0.0, 0.0, 0.0, 0.0, 0.0, 0.0, 0.0, 0.0, 0.0, 0.0, 0.0, 0.0, 0.0, 0.0, 0.0, 0.0, 0.0, 0.0, 0.0, 0.0, 0.0, 0.0, 0.0, 0.0, 0.0, 0.0, 0.0, 1.6866791419225755e-06, 0.0, 0.0, 0.0, 0.0), (0.0, 0.0, 0.0, 0.0, 0.0, 0.0, 0.0, 0.0, 0.0, 0.0, 0.0, 0.0, 0.0, 0.0, 0.0, 0.0, 0.0, 0.0, 0.0, 0.0, 0.0, 0.0, 0.0, 0.0, 0.0, 0.0, 0.0, 0.0, 0.0, 0.0, 0.0, 0.0, 0.0, 0.0, 0.0, 2.147766282300816e-05, 0.0, 0.0, 0.0, 0.0, 0.0, 0.0, 0.0), (0.0, 0.0, 0.0, 0.0, 0.0, 0.0, 0.0, 0.0, 0.0, 0.0, 0.0, 0.0, 0.0, 0.0, 0.0, 0.0, 0.0, 0.0, 0.0, 0.0, 0.0, 0.0, 0.0, 0.0, 0.0, 0.0, 0.0, 0.0, 0.0, 0.0, 0.0, 0.0, 0.0, 0.0, 1.7667209374740546e-05, 3.209348090669725e-07, 1.4339398284137565e-05, 0.0, 0.0, 7.173374894282394e-08, 7.754897888830853e-09, 0.0, 3.822266382762151e-09), (0.0, 0.0, 0.0, 0.0, 0.0, 0.0, 0.0, 0.0, 0.0, 0.0, 0.0, 0.0, 0.0, 0.0, 0.0, 0.0, 0.0, 0.0, 0.0, 0.0, 0.0, 0.0, 0.0, 0.0, 0.0, 0.0, 0.0, 0.0, 0.0, 0.0, 0.0, 0.0, 0.0, 0.0, 0.0, 1.5102699386619545e-05, 0.0, 0.0, 0.0, 0.0, 0.0, 0.0, 0.0), (0.0, 0.0, 0.0, 0.0, 0.0, 0.0, 0.0, 0.0, 0.0, 0.0, 0.0, 0.0, 0.0, 0.0, 0.0, 0.0, 0.0, 0.0, 0.0, 0.0, 0.0, 0.0, 0.0, 0.0, 0.0, 0.0, 0.0, 0.0, 0.0, 0.0, 0.0, 0.0, 0.0, 0.0, 0.0, 0.0, 0.0, 4.992862591029904e-05, 1.6518037497067422e-06, 0.0, 0.0, 6.881498105817786e-05, 0.0), (0.0, 0.0, 0.0, 0.0, 0.0, 0.0, 0.0, 0.0, 0.0, 0.0, 0.0, 0.0, 0.0, 0.0, 0.0, 0.0, 0.0, 0.0, 0.0, 0.0, 0.0, 0.0, 0.0, 0.0, 0.0, 0.0, 0.0, 0.0, 0.0, 0.0, 0.0, 0.0, 0.0, 0.0, 0.0, 0.0, 0.0, 0.0, 0.0, 0.0, 0.0, 0.0, 0.0), (0.0, 0.0, 0.0, 0.0, 0.0, 0.0, 0.0, 0.0, 0.0, 0.0, 0.0, 0.0, 0.0, 0.0, 0.0, 0.0, 0.0, 0.0, 0.0, 0.0, 0.0, 0.0, 0.0, 0.0, 0.0, 0.0, 0.0, 0.0, 0.0, 0.0, 0.0, 0.0, 0.0, 0.0, 0.0, 0.0, 0.0, 0.0, 1.0495516729306253e-06, 0.0, 0.0, 0.0, 0.0), (0.0, 0.0, 0.0, 0.0, 0.0, 0.0, 0.0, 0.0, 0.0, 0.0, 0.0, 0.0, 0.0, 0.0, 0.0, 0.0, 0.0, 0.0, 0.0, 0.0, 0.0, 0.0, 0.0, 0.0, 0.0, 0.0, 0.0, 0.0, 0.0, 0.0, 0.0, 0.0, 0.0, 0.0, 0.0, 0.0, 0.0, 0.0, 0.0, 0.0, 0.0, 6.0585189036734756e-05, 0.0), (0.0, 0.0, 0.0, 0.0, 0.0, 0.0, 0.0, 0.0, 0.0, 0.0, 0.0, 0.0, 0.0, 0.0, 0.0, 0.0, 0.0, 0.0, 0.0, 0.0, 0.0, 0.0, 0.0, 0.0, 0.0, 0.0, 0.0, 0.0, 0.0, 0.0, 0.0, 0.0, 0.0, 0.0, 0.0, 0.0, 0.0, 0.0, 0.0, 0.0, 0.0, 0.0, 0.0), (0.0, 0.0, 0.0, 0.0, 0.0, 0.0, 0.0, 0.0, 0.0, 0.0, 0.0, 0.0, 0.0, 0.0, 0.0, 0.0, 0.0, 0.0, 0.0, 0.0, 0.0, 0.0, 0.0, 0.0, 0.0, 0.0, 0.0, 0.0, 0.0, 0.0, 0.0, 0.0, 0.0, 0.0, 0.0, 0.0, 0.0, 0.0, 0.0, 0.0, 0.0, 0.0, 0.0), (0.0, 0.0, 0.0, 0.0, 0.0, 0.0, 0.0, 0.0, 0.0, 0.0, 0.0, 0.0, 0.0, 0.0, 0.0, 0.0, 0.0, 0.0, 0.0, 0.0, 0.0, 0.0, 0.0, 0.0, 0.0, 0.0, 0.0, 0.0, 0.0, 0.0, 0.0, 0.0, 0.0, 0.0, 0.0, 0.0, 0.0, 0.0, 0.0, 0.0, 0.0, 0.0, 3.5452774027914116e-05), (0.0, 0.0, 0.0, 0.0, 0.0, 0.0, 0.0, 0.0, 0.0, 0.0, 0.0, 0.0, 0.0, 0.0, 0.0, 0.0, 0.0, 0.0, 0.0, 0.0, 0.0, 0.0, 0.0, 0.0, 0.0, 0.0, 0.0, 0.0, 0.0, 0.0, 0.0, 0.0, 0.0, 0.0, 0.0, 0.0, 0.0, 0.0, 0.0, 0.0, 0.0, 0.0, 0.0), (0.0, 0.0, 0.0, 0.0, 0.0, 0.0, 0.0, 0.0, 0.0, 0.0, 0.0, 0.0, 0.0, 0.0, 0.0, 0.0, 0.0, 0.0, 0.0, 0.0, 0.0, 0.0, 0.0, 0.0, 0.0, 0.0, 0.0, 0.0, 0.0, 0.0, 0.0, 0.0, 0.0, 0.0, 0.0, 0.0, 0.0, 0.0, 0.0, 0.0, 0.0, 0.0, 0.0), (0.0, 0.0, 0.0, 0.0, 0.0, 0.0, 0.0, 0.0, 0.0, 0.0, 0.0, 0.0, 0.0, 0.0, 0.0, 0.0, 0.0, 0.0, 0.0, 0.0, 0.0, 0.0, 0.0, 0.0, 0.0, 0.0, 0.0, 0.0, 0.0, 0.0, 0.0, 0.0, 0.0, 0.0, 0.0, 0.0, 0.0, 0.0, 0.0, 0.0, 0.0, 0.0, 0.0), (0.0, 0.0, 0.0, 0.0, 0.0, 0.0, 0.0, 0.0, 0.0, 0.0, 0.0, 0.0, 0.0, 0.0, 0.0, 0.0, 0.0, 0.0, 0.0, 0.0, 0.0, 0.0, 0.0, 0.0, 0.0, 0.0, 0.0, 0.0, 0.0, 0.0, 0.0, 0.0, 0.0, 0.0, 0.0, 0.0, 0.0, 0.0, 0.0, 0.0, 0.0, 0.0, 0.0))\n"
     ]
    }
   ],
   "source": [
    "bpp = fc.bpp()\n",
    "print(bpp)"
   ]
  },
  {
   "cell_type": "markdown",
   "metadata": {},
   "source": [
    "The base pair probabilities can be visualized"
   ]
  },
  {
   "cell_type": "code",
   "execution_count": 15,
   "metadata": {},
   "outputs": [
    {
     "name": "stdout",
     "output_type": "stream",
     "text": [
      "Requirement already satisfied: matplotlib in c:\\users\\manon\\anaconda3\\envs\\vienna\\lib\\site-packages (3.9.4)\n",
      "Requirement already satisfied: contourpy>=1.0.1 in c:\\users\\manon\\anaconda3\\envs\\vienna\\lib\\site-packages (from matplotlib) (1.3.0)\n",
      "Requirement already satisfied: cycler>=0.10 in c:\\users\\manon\\anaconda3\\envs\\vienna\\lib\\site-packages (from matplotlib) (0.12.1)\n",
      "Requirement already satisfied: fonttools>=4.22.0 in c:\\users\\manon\\anaconda3\\envs\\vienna\\lib\\site-packages (from matplotlib) (4.55.5)\n",
      "Requirement already satisfied: kiwisolver>=1.3.1 in c:\\users\\manon\\anaconda3\\envs\\vienna\\lib\\site-packages (from matplotlib) (1.4.7)\n",
      "Requirement already satisfied: numpy>=1.23 in c:\\users\\manon\\anaconda3\\envs\\vienna\\lib\\site-packages (from matplotlib) (2.0.2)\n",
      "Requirement already satisfied: packaging>=20.0 in c:\\users\\manon\\anaconda3\\envs\\vienna\\lib\\site-packages (from matplotlib) (24.2)\n",
      "Requirement already satisfied: pillow>=8 in c:\\users\\manon\\anaconda3\\envs\\vienna\\lib\\site-packages (from matplotlib) (11.1.0)\n",
      "Requirement already satisfied: pyparsing>=2.3.1 in c:\\users\\manon\\anaconda3\\envs\\vienna\\lib\\site-packages (from matplotlib) (3.2.1)\n",
      "Requirement already satisfied: python-dateutil>=2.7 in c:\\users\\manon\\anaconda3\\envs\\vienna\\lib\\site-packages (from matplotlib) (2.9.0.post0)\n",
      "Requirement already satisfied: importlib-resources>=3.2.0 in c:\\users\\manon\\anaconda3\\envs\\vienna\\lib\\site-packages (from matplotlib) (6.5.2)\n",
      "Requirement already satisfied: zipp>=3.1.0 in c:\\users\\manon\\anaconda3\\envs\\vienna\\lib\\site-packages (from importlib-resources>=3.2.0->matplotlib) (3.21.0)\n",
      "Requirement already satisfied: six>=1.5 in c:\\users\\manon\\anaconda3\\envs\\vienna\\lib\\site-packages (from python-dateutil>=2.7->matplotlib) (1.17.0)\n",
      "Note: you may need to restart the kernel to use updated packages.\n"
     ]
    }
   ],
   "source": [
    "pip install matplotlib"
   ]
  },
  {
   "cell_type": "code",
   "execution_count": 16,
   "metadata": {
    "id": "CXNjxKF-QcJX",
    "lines_to_next_cell": 2
   },
   "outputs": [
    {
     "data": {
      "text/plain": [
       "<matplotlib.image.AxesImage at 0x1a57e2d4070>"
      ]
     },
     "execution_count": 16,
     "metadata": {},
     "output_type": "execute_result"
    },
    {
     "data": {
      "image/png": "[encoded data removed]",
      "text/plain": [
       "<Figure size 640x480 with 1 Axes>"
      ]
     },
     "metadata": {},
     "output_type": "display_data"
    }
   ],
   "source": [
    "# produce simple 'dot plot'\n",
    "import matplotlib.pyplot as plt\n",
    "bpp2 = [p**2 for row in bpp[1:] for p in row[1:]]\n",
    "plt.imshow(bpp)"
   ]
  },
  {
   "cell_type": "markdown",
   "metadata": {},
   "source": [
    "We will also need unpaired probabilities for nucleotides i. They can be computed from the base pair probabilities. We obtain an unpaired probability profile of our RNA."
   ]
  },
  {
   "cell_type": "code",
   "execution_count": 17,
   "metadata": {
    "id": "CXNjxKF-QcJX",
    "lines_to_next_cell": 2
   },
   "outputs": [
    {
     "data": {
      "text/plain": [
       "[<matplotlib.lines.Line2D at 0x1a57e356fd0>]"
      ]
     },
     "execution_count": 17,
     "metadata": {},
     "output_type": "execute_result"
    },
    {
     "data": {
      "image/png": "[encoded data removed]",
      "text/plain": [
       "<Figure size 640x480 with 1 Axes>"
      ]
     },
     "metadata": {},
     "output_type": "display_data"
    }
   ],
   "source": [
    "# compute unpaired probabilities (0-based)\n",
    "# ATTENTION: bpp contains probability values only for i<j\n",
    "unp = [1-sum(bpp[i][j]+bpp[j][i] for j in range(1,len(sequence)+1)) for i in range(1,len(sequence)+1)]\n",
    "#print(unp)\n",
    "plt.plot(unp)"
   ]
  },
  {
   "cell_type": "markdown",
   "metadata": {
    "id": "xNneIY2uRzuv"
   },
   "source": [
    "#### Predicting structures from alignments\n",
    "\n",
    "The Vienna package can predict structures from Alignments by the *Alifold* method. For this purpose, we pass an alignment (instead of a single sequence) to the fold compound. Then, we can ask it to produce an mfe structure (or partion function, ...) as in the single sequence case."
   ]
  },
  {
   "cell_type": "code",
   "execution_count": 18,
   "metadata": {
    "id": "hYTkIXRBSRhv"
   },
   "outputs": [
    {
     "name": "stdout",
     "output_type": "stream",
     "text": [
      "GGAGGAUUAGCUCAGCUGGGAGAGCAUCUGCCUUACAAGCAGAGGG-----------UCGGCGGUUCGAGCCCGUCAUCCUCC\n",
      "GCCUUCCUAGCUCAG-UGGUAGAGCGCACGGCUUUUAACCGUGUGG-----------UCGUGGGUUCGAUCCCCACGGAAGGC\n",
      "GCCUUUAUAGCUUAG-UGGUAAAGCGAUAAACUGAAGAUUUAUUUA-----------CAUGUAGUUCGAUUCUCAUUAAGGGC\n",
      "GCGGAUAUAACUUAGGGGUUAAAGUUGCAGAUUGUGGCUCUGAAAA------------CACGGGUUCGAAUCCCGUUAUUCGC\n",
      "GGAAAAUU-GAUCAUCGGCAAGAUAAGUUAUUUACUAAAUAAUAGGAUUUAAUAACCUGGUGAGUUCGAAUCUCACAUUUUCC\n",
      "(((((((..((((........))))((((((.......))))))...............(((((.......)))))))))))) [ -25.34,   7.80 ]\n",
      "\n"
     ]
    }
   ],
   "source": [
    "import RNA\n",
    "# The RNA sequence\n",
    "\n",
    "alignment = [\"GGAGGAUUAGCUCAGCUGGGAGAGCAUCUGCCUUACAAGCAGAGGG-----------UCGGCGGUUCGAGCCCGUCAUCCUCC\",\n",
    "\"GCCUUCCUAGCUCAG-UGGUAGAGCGCACGGCUUUUAACCGUGUGG-----------UCGUGGGUUCGAUCCCCACGGAAGGC\",\n",
    "\"GCCUUUAUAGCUUAG-UGGUAAAGCGAUAAACUGAAGAUUUAUUUA-----------CAUGUAGUUCGAUUCUCAUUAAGGGC\",\n",
    "\"GCGGAUAUAACUUAGGGGUUAAAGUUGCAGAUUGUGGCUCUGAAAA------------CACGGGUUCGAAUCCCGUUAUUCGC\",\n",
    "\"GGAAAAUU-GAUCAUCGGCAAGAUAAGUUAUUUACUAAAUAAUAGGAUUUAAUAACCUGGUGAGUUCGAAUCUCACAUUUUCC\"\n",
    "]\n",
    "\n",
    "# create a new model details structure\n",
    "md = RNA.md()\n",
    "# optionally one could change some parameters\n",
    "# md.temperature = 25.0 # 25 Deg Celcius\n",
    "# md.dangles = 1 # keep default 2 for compatibility with partition folding\n",
    "# create a fold compound\n",
    "fc = RNA.fold_compound(alignment, md)\n",
    "# predict the  \"Alifold\" Minmum Free Energy and the corresponding secondary structure\n",
    "(ss, mfe) = fc.mfe()\n",
    "conservation_score = fc.eval_covar_structure(ss)\n",
    "print(\"%s\\n%s [ %6.2f, %6.2f ]\\n\" % ('\\n'.join(alignment), ss, mfe, conservation_score))"
   ]
  },
  {
   "cell_type": "markdown",
   "metadata": {},
   "source": [
    "## Assignment 5: Use the Vienna RNA package\n",
    "\n",
    "a) Write a function that takes an alignment (as above) and computes the mfe structures of the single sequences (without gaps).\n",
    "\n",
    "b) Compare the single sequence mfe structures to the alifold mfe structure of the alignment (compare dot bracket strings and/or visualize as secondary structure plots).\n",
    "\n",
    "c) Write a function that takes an alignment (as above) and computes the average positional unpaired probabilities from folding\n",
    "the single sequences. Take care, where this requires to map sequence positions to alignment columns or vice versa.\n",
    "\n",
    "d) Visually compare this profile to the Alifold mfe structure and the corresponding Alifold unpaired probability profile. \n",
    "\n",
    "e) Quantify the difference between the profiles (e.g. sum over the log of the positional ratios...)."
   ]
  },
  {
   "cell_type": "markdown",
   "metadata": {
    "id": "B2RwBCorel1r"
   },
   "source": [
    "## Test data\n",
    "\n",
    "Find test data here\n",
    "https://www.lix.polytechnique.fr/~will/Teaching/INF588/Testdata\n",
    "\n",
    "Can your program handle all of the diverse examples (in different file formats)?\n",
    "\n",
    "Here is one way to download the data to Colab by downloading an archive of all files and unpacking it. The files will be written to subdirectory Testdata"
   ]
  },
  {
   "cell_type": "code",
   "execution_count": 19,
   "metadata": {},
   "outputs": [
    {
     "name": "stderr",
     "output_type": "stream",
     "text": [
      "'ls' n'est pas reconnu en tant que commande interne\n",
      "ou externe, un programme ex�cutable ou un fichier de commandes.\n"
     ]
    }
   ],
   "source": [
    "from urllib.request import urlretrieve\n",
    "arcfile = \"testdata.zip\"\n",
    "url = f\"https://www.lix.polytechnique.fr/~will/Teaching/INF588/{arcfile}\"\n",
    "urlretrieve(url, arcfile)\n",
    "\n",
    "import zipfile\n",
    "with zipfile.ZipFile(arcfile, 'r') as zip_ref:\n",
    "    zip_ref.extractall(\".\")\n",
    "\n",
    "!ls Testdata"
   ]
  },
  {
   "cell_type": "markdown",
   "metadata": {},
   "source": [
    "## Assignment 6\n",
    "\n",
    "a) Write a function to read an alignment from either an aln or stk file. Use Biopython (https://biopython.org/docs/1.75/api/Bio.AlignIO.html) and find out about stk / Stockholm files!\n",
    "\n",
    "b) Apply the functions from the previous assignment to the test alignments. How could we interpret the results?"
   ]
  },
  {
   "cell_type": "markdown",
   "metadata": {
    "id": "R9ZOD0QBekpj"
   },
   "source": [
    "## How to work on the project\n",
    "In principle, you could start your work using Colab and simply extend this notebook. However at least in the longer run, it will have advantages to run everything 'locally' on your own computer; without Colab.  Note that for example, running larger computations in Colab can be inconvenient; also, Colab will require you to reinstall Conda, Biopython and Vienna RNA in each new Colab session.\n",
    "\n",
    "See above for how pip can be used to install the required software. This works in Colab as well as locally. *Optionally*: For local installation, one should consider installation in a Conda environment or Python virtual environment (which helps to keep things nicely structured, if one works on several projects with different software dendencies etc). "
   ]
  },
  {
   "cell_type": "markdown",
   "metadata": {},
   "source": [
    "# RNA Alignment project\n",
    "\n",
    "**Project key ideas.**\n",
    "In this project, you are going to develop an RNA prediction approach from alignments of homologous RNAs in the spirit of RNAalifold from the Vienna RNA package [4]. Unlike RNAalifold, your approach should make original use of precomputation of base pair probabilities. This allows a simpler implementation and can speed up the computation. Moreover, it allows us to experiment more easily with variants of the algorithm and write specific extensions to perform fast analysis of RNA families for potential structural heterogeneity. The project will result in efficient novel tools for the structural analysis of RNA family alignments:\n",
    "\n",
    "• An RNAalifold-like tool to predict the consensus structure of an RNA alignment (implementing the precomputation-based strategy).\n",
    "\n",
    "• A tool to systematically study structural variation among sub-groups of RNAs in an alignment, which identifies main subgroups together with main structural variants. \n",
    "\n",
    "Moreover, in application to real RNA alignments, it aims to identify structurally heterogeneity in RNA families "
   ]
  },
  {
   "cell_type": "markdown",
   "metadata": {},
   "source": [
    "**Project details.** \n",
    "The tools and scripts should be written in Python, making use of Biopython and the\n",
    "Vienna RNA package. The following steps and questions provide some guideline for the project; Further\n",
    "details and background will be presented and discussed in class.\n",
    "\n",
    "1. Develop a program, that accepts an alignment and predicts an RNA consensus structure by optimization following a ’Nussinov’-like Dynamic Programming algorithm. Step-by-step implement the\n",
    "following variants:\n",
    "\n",
    "    • Maximize a sum of common base pairs and unpaired positions based on predicted structures\n",
    "for the single alignment sequences.\n",
    "\n",
    "    • Maximize a sum of base pair and unpaired probabilities based on predicted probabilities for the\n",
    "single sequences (using McCaskill’s algorithm). Technically, this maximizes expected accuracy\n",
    "(MEA).\n",
    "\n",
    "    • Maximize while adding a conservation score to the above objective functions.\n",
    "\n",
    "Determine the optimal structure by trace-back and visualize your predictions. Implement convenient\n",
    "interfaces to use the algorithm from Python and/or provide the functionality as command line tool."
   ]
  },
  {
   "cell_type": "code",
   "execution_count": 20,
   "metadata": {
    "id": "vfhqHMlDtDSz"
   },
   "outputs": [
    {
     "data": {
      "text/plain": [
       "1"
      ]
     },
     "execution_count": 20,
     "metadata": {},
     "output_type": "execute_result"
    }
   ],
   "source": [
    "def simple_count_cost (base1, base2):\n",
    "    \"\"\" computes wether two RNA bases (a,u,c,g or t) are complementary\n",
    "    IN : two car base 1 and base 2, upper case\n",
    "    Returns : int, 1 if complementary, 0 otherwise\n",
    "    \"\"\"\n",
    "    if base1==\"A\":\n",
    "        if base2==\"T\" or base2==\"U\":\n",
    "            return 1\n",
    "        else :\n",
    "            return 0\n",
    "    if base1==\"T\":\n",
    "        if base2==\"A\":\n",
    "            return 1\n",
    "        else :\n",
    "            return 0\n",
    "    if base1==\"U\":\n",
    "        if base2==\"A\" or base2==\"G\":\n",
    "            return 1\n",
    "        else :\n",
    "            return 0\n",
    "    if base1==\"C\":\n",
    "        if base2==\"G\":\n",
    "            return 1\n",
    "        else :\n",
    "            return 0\n",
    "    if base1==\"G\":\n",
    "        if base2==\"C\" or base2==\"U\":\n",
    "            return 1\n",
    "        else :\n",
    "            return 0\n",
    "    else :\n",
    "        return 0\n",
    "\n",
    "simple_count_cost(\"U\",\"G\")"
   ]
  },
  {
   "cell_type": "code",
   "execution_count": 35,
   "metadata": {},
   "outputs": [],
   "source": [
    "def nussinov_matrix(alignstr, cost_function, m=2):\n",
    "    \"\"\"\n",
    "    Args : alignstr : string of the sequence e.g. \"AG-UGGUA\"\n",
    "        const_function function -> car, car -> int returns the cost of the distance between two bases\n",
    "        m : int, minimal loop length\n",
    "    Returns : matrix (list of list) of nussinov:\n",
    "            where M[i][j] = max number of base pair in the sequence between base i and base j\n",
    "    \"\"\"\n",
    "    n=len(alignstr)\n",
    "    list_of_bases=list(alignstr.upper())\n",
    "    nussinovMatrix = [[0 for i in range (n)]for j in range(n)]\n",
    "\n",
    "    #complete matrix\n",
    "    for k in range(m, n-m):\n",
    "        i=0\n",
    "        j=i+k\n",
    "        while (i<n and j<n):\n",
    "            if (i+1<n and j-1>=0):\n",
    "                alpha0= nussinovMatrix[i+1][j-1] + cost_function(list_of_bases[i],list_of_bases[j])\n",
    "            else :\n",
    "                alpha0=0\n",
    "            alpha1 = max(\n",
    "                nussinovMatrix[i][k-1] + nussinovMatrix[k][j]\n",
    "                for k in range(i, j+1)\n",
    "            )\n",
    "            nussinovMatrix[i][j]=max(alpha0, alpha1)\n",
    "            i+=1\n",
    "            j+=1\n",
    "    return nussinovMatrix"
   ]
  },
  {
   "cell_type": "code",
   "execution_count": 22,
   "metadata": {},
   "outputs": [
    {
     "name": "stdout",
     "output_type": "stream",
     "text": [
      "[[0, 1, 1, 1, 2, 2, 2, 3], [0, 0, 0, 0, 1, 1, 1, 2], [0, 0, 0, 0, 1, 1, 1, 2], [0, 0, 0, 0, 1, 1, 1, 2], [0, 0, 0, 0, 0, 0, 1, 1], [0, 0, 0, 0, 0, 0, 0, 1], [0, 0, 0, 0, 0, 0, 0, 1], [0, 0, 0, 0, 0, 0, 0, 0]]\n"
     ]
    }
   ],
   "source": [
    "str_example=\"GCACGACG\"\n",
    "nuss_example=nussinov_matrix(str_example, simple_count_cost,0)\n",
    "print(nuss_example)\n"
   ]
  },
  {
   "cell_type": "code",
   "execution_count": 23,
   "metadata": {},
   "outputs": [],
   "source": [
    "def nussinov_traceback_rec(alignstr,nussMat, costFun, indices,m):\n",
    "    '''returns the list of aligned base pairs from i to j \n",
    "    args : alignstr : The rna string\n",
    "            nussMat : the nussinov matrix\n",
    "            indices : tuple (i,j)\n",
    "            costFun : the base cost function\n",
    "            m = the minimum loop\n",
    "    Returns : list of tuples corresponding to aligned strings between i and j\n",
    "    '''\n",
    "    previous_bases=[]\n",
    "    i,j=indices\n",
    "    list_of_bases=list(alignstr.upper())\n",
    "    found=False\n",
    "    if j-i<=m:\n",
    "        return []\n",
    "    else :\n",
    "        n=len(nussMat[i])\n",
    "        cost=nussMat[i][j]\n",
    "        if (i+1<n and j-1>=0):\n",
    "            alpha0= nussMat[i+1][j-1] + costFun(list_of_bases[i],list_of_bases[j])\n",
    "            if cost==alpha0:\n",
    "                previous_bases=nussinov_traceback_rec(alignstr,nussMat,costFun, (i+1,j-1),m)\n",
    "                previous_bases.append((i,j))\n",
    "                found=True\n",
    "        if not found:\n",
    "            for k in range(i+1,j):\n",
    "                if cost== (nussMat[i][k-1] + nussMat[k][j]) and not found:\n",
    "                    found=True\n",
    "                    previous_bases=nussinov_traceback_rec(alignstr,nussMat,costFun, (i,k-1),m) + nussinov_traceback_rec(alignstr,nussMat,costFun, (k,j),m)\n",
    "        return previous_bases"
   ]
  },
  {
   "cell_type": "code",
   "execution_count": 24,
   "metadata": {},
   "outputs": [],
   "source": [
    "def nussinov_TB(alignstr,nussMat, costFun,m=2):\n",
    "    n=len(nussMat)\n",
    "    return nussinov_traceback_rec(alignstr,nussMat, costFun, (0,n-1),m)"
   ]
  },
  {
   "cell_type": "code",
   "execution_count": 25,
   "metadata": {},
   "outputs": [
    {
     "data": {
      "text/plain": [
       "[(0, 1), (4, 6), (3, 7)]"
      ]
     },
     "execution_count": 25,
     "metadata": {},
     "output_type": "execute_result"
    }
   ],
   "source": [
    "nussinov_TB(str_example, nuss_example, simple_count_cost, 0)"
   ]
  },
  {
   "cell_type": "code",
   "execution_count": 30,
   "metadata": {},
   "outputs": [],
   "source": [
    "def RNA_consensus_structure(alignstr, cost_function, m=2):\n",
    "    \"\"\"\n",
    "    takes the rna string and returns the consensus structure\n",
    "    Args : alignstr : string of the sequence e.g. \"AG-UGGUA\"\n",
    "        const_function function -> car, car -> int returns the cost of the distance between two bases\n",
    "        m : int, minimal loop length\n",
    "    Returns : list of base pairs\n",
    "    \"\"\"\n",
    "    nussMat=nussinov_matrix(alignstr, cost_function, m)\n",
    "    return nussinov_TB(alignstr,nussMat, cost_function,m)"
   ]
  },
  {
   "cell_type": "code",
   "execution_count": 31,
   "metadata": {},
   "outputs": [
    {
     "name": "stdout",
     "output_type": "stream",
     "text": [
      "[[0, 1, 1, 1, 2, 2, 2, 3], [0, 0, 0, 0, 1, 1, 1, 2], [0, 0, 0, 0, 1, 1, 1, 2], [0, 0, 0, 0, 1, 1, 1, 2], [0, 0, 0, 0, 0, 0, 1, 1], [0, 0, 0, 0, 0, 0, 0, 1], [0, 0, 0, 0, 0, 0, 0, 1], [0, 0, 0, 0, 0, 0, 0, 0]]\n"
     ]
    },
    {
     "data": {
      "text/plain": [
       "[(0, 1), (4, 6), (3, 7)]"
      ]
     },
     "execution_count": 31,
     "metadata": {},
     "output_type": "execute_result"
    }
   ],
   "source": [
    "RNA_consensus_structure(\"GCACGACG\", simple_count_cost, 0)"
   ]
  },
  {
   "cell_type": "markdown",
   "metadata": {},
   "source": [
    "### Compute Maximum Total Accuracy"
   ]
  },
  {
   "cell_type": "code",
   "execution_count": 70,
   "metadata": {},
   "outputs": [],
   "source": [
    "def unpaired_acc(i,list_of_struc):\n",
    "    ''' Computes the cost function unpaired_acc\n",
    "    Arg : list_of_struc : a list of structures, defined as a dot brackets\n",
    "        i the int we are computing the cost of\n",
    "    Returns : int : unpaired_acc(i)\n",
    "    '''\n",
    "    count=0\n",
    "    for struc in list_of_struc:\n",
    "        if struc[i]=='.':\n",
    "            count+=1\n",
    "    return count\n",
    "\n",
    "def paired_acc(indices, list_of_struc, constante):\n",
    "    ''' Computes the cost function paired_acc\n",
    "    Arg : list_of_struc : a list of structures, defined as dot brackets\n",
    "        indices : the tuple of indices we are looking for the cost of\n",
    "    Returns : int : paired_act(i)\n",
    "    '''\n",
    "    count=0\n",
    "    for struc in list_of_struc:\n",
    "        base_pairs=parse_RNA_structure(struc)\n",
    "        if indices in base_pairs:\n",
    "            count+=1\n",
    "    return 2*constante*count\n",
    "\n",
    "def constfunctionMTA(constante):\n",
    "    return lambda indices,list_of_struc : paired_acc(indices, list_of_struc, constante)\n"
   ]
  },
  {
   "cell_type": "code",
   "execution_count": 101,
   "metadata": {},
   "outputs": [],
   "source": [
    "def MTA_nussinov_matrix(list_of_structures, cost_function, init_cost, m=2):\n",
    "    \"\"\"\n",
    "    Args : list_of_structures : list of the aligned structures\n",
    "        const_function function -> tuple of indices, list of structures -> int returns the cost of adding a base pair ij with regard to the list of aligned structures\n",
    "        init_cost : a cost fonction to initialize the matrix\n",
    "        m : int, minimal loop length\n",
    "    Returns : matrix (list of list) of nussinov:\n",
    "            where M[i][j] = max number of base pair in the sequence between base i and base j\n",
    "    \"\"\"\n",
    "    n=len(list_of_structures[0])\n",
    "    nussinovMatrix = [[0 for i in range (n)]for j in range(n)]\n",
    "\n",
    "    #initialize for all i-j<=m\n",
    "    for k in range(m+1):\n",
    "        i=0\n",
    "        j=i+k\n",
    "        while (i<n and j<n):\n",
    "            if j==i:\n",
    "                nussinovMatrix[i][j]=init_cost(i, list_of_structures)\n",
    "            else :\n",
    "                nussinovMatrix[i][j]=nussinovMatrix[i][j-1]+init_cost(j, list_of_structures)\n",
    "            i+=1\n",
    "            j+=1\n",
    "\n",
    "    #complete matrix\n",
    "    for k in range(m, n-m):\n",
    "        i=0\n",
    "        j=i+k\n",
    "        while (i<n and j<n):\n",
    "            if (i+1<n and j-1>=0):\n",
    "                alpha0= nussinovMatrix[i+1][j-1] + cost_function((i,j), list_of_structures)\n",
    "            else :\n",
    "                alpha0=0\n",
    "            alpha1 = max(\n",
    "                nussinovMatrix[i][k-1] + nussinovMatrix[k][j]\n",
    "                for k in range(i, j+1)\n",
    "            )\n",
    "            nussinovMatrix[i][j]=max(alpha0, alpha1)\n",
    "            i+=1\n",
    "            j+=1\n",
    "    return nussinovMatrix"
   ]
  },
  {
   "cell_type": "code",
   "execution_count": null,
   "metadata": {},
   "outputs": [],
   "source": [
    "list_of_struc_example = [\"-(((-...-)))\",\n",
    "                    \".(((-...-)))\",\n",
    "                    \"-((((...))))\"]\n",
    "nussMatMTA_example= MTA_nussinov_matrix(list_of_struc_example,constfunctionMTA(1), unpaired_acc, 0)\n",
    "\n"
   ]
  },
  {
   "cell_type": "code",
   "execution_count": 109,
   "metadata": {},
   "outputs": [],
   "source": [
    "def nussinov_MTA_traceback_rec(list_of_structures,nussMat, costFun, initCost, indices,m):\n",
    "    \"\"\"\n",
    "    Args : list_of_structures : list of the aligned structures\n",
    "        const_function function -> tuple of indices, list of structures -> int returns the cost of adding a base pair ij with regard to the list of aligned structures\n",
    "        init_cost : a cost fonction to initialize the matrix\n",
    "        m : int, minimal loop length\n",
    "    Returns : matrix (list of list) of nussinov:\n",
    "            where M[i][j] = max number of base pair in the sequence between base i and base j\n",
    "    \"\"\"\n",
    "    previous_bases=[]\n",
    "    i,j=indices\n",
    "    found=False\n",
    "    if j-i<=m:\n",
    "        return []\n",
    "    else :\n",
    "        n=len(nussMat[i])\n",
    "        cost=nussMat[i][j]\n",
    "        if (i+1<n and j-1>=0):\n",
    "            alpha0= nussMat[i+1][j-1] + costFun(indices, list_of_structures)\n",
    "            if cost==alpha0:\n",
    "                previous_bases=nussinov_MTA_traceback_rec(list_of_structures,nussMat, costFun, initCost,(i+1,j-1),m)\n",
    "                previous_bases.append((i,j))\n",
    "                found=True\n",
    "        if not found:\n",
    "            for k in range(i+1,j):\n",
    "                if cost== (nussMat[i][k-1] + nussMat[k][j]) and not found:\n",
    "                    found=True\n",
    "                    previous_bases=nussinov_MTA_traceback_rec(list_of_structures,nussMat, costFun, initCost,(i,k-1),m) + nussinov_MTA_traceback_rec(list_of_structures,nussMat, costFun, initCost,(k,j),m)\n",
    "        return previous_bases"
   ]
  },
  {
   "cell_type": "code",
   "execution_count": 110,
   "metadata": {},
   "outputs": [],
   "source": [
    "def nussinov_TB_MTA(list_of_structures,nussMat, costFun,initCost,m=2):\n",
    "    n=len(nussMat)\n",
    "    return nussinov_MTA_traceback_rec(list_of_structures,nussMat, costFun, initCost, (0,n-1),m)"
   ]
  },
  {
   "cell_type": "code",
   "execution_count": 111,
   "metadata": {},
   "outputs": [
    {
     "data": {
      "text/plain": [
       "[[1, 1, 1, 1, 1, 4, 7, 10, 12, 18, 24, 30],\n",
       " [0, 0, 0, 0, 0, 3, 6, 9, 11, 17, 23, 29],\n",
       " [0, 0, 0, 0, 0, 3, 6, 9, 11, 17, 23, 23],\n",
       " [0, 0, 0, 0, 0, 3, 6, 9, 11, 17, 17, 17],\n",
       " [0, 0, 0, 0, 0, 3, 6, 9, 11, 11, 11, 11],\n",
       " [0, 0, 0, 0, 0, 3, 6, 9, 9, 9, 9, 9],\n",
       " [0, 0, 0, 0, 0, 0, 3, 6, 6, 6, 6, 6],\n",
       " [0, 0, 0, 0, 0, 0, 0, 3, 3, 3, 3, 3],\n",
       " [0, 0, 0, 0, 0, 0, 0, 0, 0, 0, 0, 0],\n",
       " [0, 0, 0, 0, 0, 0, 0, 0, 0, 0, 0, 0],\n",
       " [0, 0, 0, 0, 0, 0, 0, 0, 0, 0, 0, 0],\n",
       " [0, 0, 0, 0, 0, 0, 0, 0, 0, 0, 0, 0]]"
      ]
     },
     "execution_count": 111,
     "metadata": {},
     "output_type": "execute_result"
    }
   ],
   "source": [
    "nussMatMTA_example"
   ]
  },
  {
   "cell_type": "code",
   "execution_count": 113,
   "metadata": {},
   "outputs": [
    {
     "name": "stdout",
     "output_type": "stream",
     "text": [
      "['-(((-...-)))', '.(((-...-)))', '-((((...))))']\n",
      "[(4, 8), (3, 9), (2, 10), (1, 11)]\n",
      ".((((...))))\n"
     ]
    }
   ],
   "source": [
    "print(list_of_struc_example)\n",
    "test_base_pairs= nussinov_TB_MTA(list_of_struc_example, nussMatMTA_example, constfunctionMTA(1), unpaired_acc, 0)\n",
    "print(test_base_pairs)\n",
    "print(dot_bracket_string(12,test_base_pairs, 0))"
   ]
  },
  {
   "cell_type": "code",
   "execution_count": 114,
   "metadata": {},
   "outputs": [],
   "source": [
    "def maximum_total_accuracy(list_of_structures,m=2):\n",
    "    nussMat=MTA_nussinov_matrix(list_of_structures, constfunctionMTA(1), unpaired_acc, m)\n",
    "    return nussinov_TB_MTA(list_of_structures,nussMat, constfunctionMTA(1),unpaired_acc,m=2)"
   ]
  },
  {
   "cell_type": "code",
   "execution_count": 116,
   "metadata": {},
   "outputs": [
    {
     "data": {
      "text/plain": [
       "[(4, 8), (3, 9), (2, 10), (1, 11)]"
      ]
     },
     "execution_count": 116,
     "metadata": {},
     "output_type": "execute_result"
    }
   ],
   "source": [
    "maximum_total_accuracy(list_of_struc_example,0)"
   ]
  },
  {
   "cell_type": "markdown",
   "metadata": {},
   "source": [
    "### Compute Maximum Expected Accuracy"
   ]
  },
  {
   "cell_type": "code",
   "execution_count": null,
   "metadata": {},
   "outputs": [],
   "source": [
    "def unpaired_acc(i,list_of_struc):\n",
    "    ''' Computes the cost function unpaired_acc\n",
    "    Arg : list_of_struc : a list of structures, defined as a list of tuples of paired bases\n",
    "        i the int we are computing the cost of\n",
    "    Returns : int : unpaired_acc(i)\n",
    "    '''\n",
    "    count=0\n",
    "    for struc in list_of_struc:\n",
    "        found=False\n",
    "        for tupleij in range (len(struc)):\n",
    "            if i in tupleij:\n",
    "                found=True\n",
    "        if found:\n",
    "            count+=1\n",
    "    return count\n",
    "\n",
    "def paired_acc(indices, list_of_struc, constante):\n",
    "    ''' Computes the cost function paired_acc\n",
    "    Arg : list_of_struc : a list of structures, defined as a list of tuples of paired bases\n",
    "        indices : the tuple of indices we are looking for the cost of\n",
    "    Returns : int : paired_act(i)\n",
    "    '''\n",
    "    count=0\n",
    "    for struc in list_of_struc:\n",
    "        if indices in struc:\n",
    "            count+=1\n",
    "    return 2*constante*count"
   ]
  }
 ],
 "metadata": {
  "colab": {
   "collapsed_sections": [
    "PpyYNiDApIOB",
    "OOnY9HZip-39",
    "d9H4MqtYqKeh",
    "KGP2oqZ6q0bs",
    "7ZKaqesgq-Ee",
    "VT4gDTWIrCqg",
    "Q6PBkZk6rIN_",
    "b0WA4QB0rLro",
    "XdCfVJLtriRs",
    "OrluaorLr9Xv",
    "c1BvG_Vnr-wV",
    "n8OaOhw2sAjp",
    "BMgXefKmsVss",
    "ymhx-2awse8L",
    "bDJ9TSpUvOfB",
    "Y5nXn9KzvfU_"
   ],
   "private_outputs": true,
   "provenance": []
  },
  "jupytext": {
   "formats": "ipynb,py:light"
  },
  "kernelspec": {
   "display_name": "vienna",
   "language": "python",
   "name": "python3"
  },
  "language_info": {
   "codemirror_mode": {
    "name": "ipython",
    "version": 3
   },
   "file_extension": ".py",
   "mimetype": "text/x-python",
   "name": "python",
   "nbconvert_exporter": "python",
   "pygments_lexer": "ipython3",
   "version": "3.9.19"
  }
 },
 "nbformat": 4,
 "nbformat_minor": 4
}
